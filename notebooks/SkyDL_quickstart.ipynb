{
 "cells": [
  {
   "cell_type": "markdown",
   "metadata": {},
   "source": [
    "# **Deep Learning with SkyDL**\n",
    "**Setup software libraries**"
   ]
  },
  {
   "cell_type": "code",
   "execution_count": 1,
   "metadata": {},
   "outputs": [],
   "source": [
    "from SkyDL import skydl\n",
    "import env"
   ]
  },
  {
   "cell_type": "markdown",
   "metadata": {},
   "source": [
    "## **Training of Deep Learning models**\n",
    "**Create `Trainer` object**"
   ]
  },
  {
   "cell_type": "code",
   "execution_count": 2,
   "metadata": {},
   "outputs": [],
   "source": [
    "SkyTrainer = skydl.Trainer(privatekey_path = env.privatekey_path)"
   ]
  },
  {
   "cell_type": "markdown",
   "metadata": {},
   "source": [
    "**Get token**"
   ]
  },
  {
   "cell_type": "code",
   "execution_count": 3,
   "metadata": {},
   "outputs": [
    {
     "name": "stdin",
     "output_type": "stream",
     "text": [
      "Skydipper login password: ·········\n"
     ]
    }
   ],
   "source": [
    "SkyTrainer.get_token(email='iker.sanchez@vizzuality.com')"
   ]
  },
  {
   "cell_type": "markdown",
   "metadata": {},
   "source": [
    "## Database\n",
    "**Retrive table names of the database**"
   ]
  },
  {
   "cell_type": "code",
   "execution_count": 4,
   "metadata": {},
   "outputs": [
    {
     "data": {
      "text/plain": [
       "['image', 'model', 'dataset', 'model_versions']"
      ]
     },
     "execution_count": 4,
     "metadata": {},
     "output_type": "execute_result"
    }
   ],
   "source": [
    "SkyTrainer.table_names"
   ]
  },
  {
   "cell_type": "markdown",
   "metadata": {},
   "source": [
    "**Retrieve table from database**"
   ]
  },
  {
   "cell_type": "code",
   "execution_count": 5,
   "metadata": {},
   "outputs": [
    {
     "data": {
      "text/html": [
       "<div>\n",
       "<style scoped>\n",
       "    .dataframe tbody tr th:only-of-type {\n",
       "        vertical-align: middle;\n",
       "    }\n",
       "\n",
       "    .dataframe tbody tr th {\n",
       "        vertical-align: top;\n",
       "    }\n",
       "\n",
       "    .dataframe thead th {\n",
       "        text-align: right;\n",
       "    }\n",
       "</style>\n",
       "<table border=\"1\" class=\"dataframe\">\n",
       "  <thead>\n",
       "    <tr style=\"text-align: right;\">\n",
       "      <th></th>\n",
       "      <th>slug</th>\n",
       "      <th>name</th>\n",
       "      <th>bands</th>\n",
       "      <th>rgb_bands</th>\n",
       "      <th>provider</th>\n",
       "    </tr>\n",
       "  </thead>\n",
       "  <tbody>\n",
       "    <tr>\n",
       "      <th>0</th>\n",
       "      <td>Sentinel-2-Top-of-Atmosphere-Reflectance</td>\n",
       "      <td>Sentinel 2 Top-of-Atmosphere Reflectance</td>\n",
       "      <td>['B1', 'B2', 'B3', 'B4', 'B5', 'B6', 'B7', 'B8...</td>\n",
       "      <td>['B4', 'B3', 'B2']</td>\n",
       "      <td>gee</td>\n",
       "    </tr>\n",
       "    <tr>\n",
       "      <th>1</th>\n",
       "      <td>Landsat-7-Surface-Reflectance</td>\n",
       "      <td>Landsat 7 Surface Reflectance</td>\n",
       "      <td>['B1', 'B2', 'B3', 'B4', 'B5', 'B6', 'B7', 'nd...</td>\n",
       "      <td>['B3', 'B2', 'B1']</td>\n",
       "      <td>gee</td>\n",
       "    </tr>\n",
       "    <tr>\n",
       "      <th>2</th>\n",
       "      <td>Landsat-8-Surface-Reflectance</td>\n",
       "      <td>Landsat 8 Surface Reflectance</td>\n",
       "      <td>['B1', 'B2', 'B3', 'B4', 'B5', 'B6', 'B7', 'B1...</td>\n",
       "      <td>['B4', 'B3', 'B2']</td>\n",
       "      <td>gee</td>\n",
       "    </tr>\n",
       "    <tr>\n",
       "      <th>3</th>\n",
       "      <td>USDA-NASS-Cropland-Data-Layers</td>\n",
       "      <td>USDA NASS Cropland Data Layers</td>\n",
       "      <td>['landcover', 'cropland', 'land', 'water', 'ur...</td>\n",
       "      <td>['landcover']</td>\n",
       "      <td>gee</td>\n",
       "    </tr>\n",
       "    <tr>\n",
       "      <th>4</th>\n",
       "      <td>USGS-National-Land-Cover-Database</td>\n",
       "      <td>USGS National Land Cover Database</td>\n",
       "      <td>['impervious']</td>\n",
       "      <td>['impervious']</td>\n",
       "      <td>gee</td>\n",
       "    </tr>\n",
       "    <tr>\n",
       "      <th>5</th>\n",
       "      <td>Lake-Water-Quality-100m</td>\n",
       "      <td>Lake Water Quality 100m</td>\n",
       "      <td>['turbidity_blended_mean']</td>\n",
       "      <td>['turbidity_blended_mean']</td>\n",
       "      <td>gee</td>\n",
       "    </tr>\n",
       "  </tbody>\n",
       "</table>\n",
       "</div>"
      ],
      "text/plain": [
       "                                       slug  \\\n",
       "0  Sentinel-2-Top-of-Atmosphere-Reflectance   \n",
       "1             Landsat-7-Surface-Reflectance   \n",
       "2             Landsat-8-Surface-Reflectance   \n",
       "3            USDA-NASS-Cropland-Data-Layers   \n",
       "4         USGS-National-Land-Cover-Database   \n",
       "5                   Lake-Water-Quality-100m   \n",
       "\n",
       "                                       name  \\\n",
       "0  Sentinel 2 Top-of-Atmosphere Reflectance   \n",
       "1             Landsat 7 Surface Reflectance   \n",
       "2             Landsat 8 Surface Reflectance   \n",
       "3            USDA NASS Cropland Data Layers   \n",
       "4         USGS National Land Cover Database   \n",
       "5                   Lake Water Quality 100m   \n",
       "\n",
       "                                               bands  \\\n",
       "0  ['B1', 'B2', 'B3', 'B4', 'B5', 'B6', 'B7', 'B8...   \n",
       "1  ['B1', 'B2', 'B3', 'B4', 'B5', 'B6', 'B7', 'nd...   \n",
       "2  ['B1', 'B2', 'B3', 'B4', 'B5', 'B6', 'B7', 'B1...   \n",
       "3  ['landcover', 'cropland', 'land', 'water', 'ur...   \n",
       "4                                     ['impervious']   \n",
       "5                         ['turbidity_blended_mean']   \n",
       "\n",
       "                    rgb_bands provider  \n",
       "0          ['B4', 'B3', 'B2']      gee  \n",
       "1          ['B3', 'B2', 'B1']      gee  \n",
       "2          ['B4', 'B3', 'B2']      gee  \n",
       "3               ['landcover']      gee  \n",
       "4              ['impervious']      gee  \n",
       "5  ['turbidity_blended_mean']      gee  "
      ]
     },
     "execution_count": 5,
     "metadata": {},
     "output_type": "execute_result"
    }
   ],
   "source": [
    "SkyTrainer.datasets"
   ]
  },
  {
   "cell_type": "markdown",
   "metadata": {},
   "source": [
    "## Skydipper datasets for Deep Learning"
   ]
  },
  {
   "cell_type": "code",
   "execution_count": null,
   "metadata": {},
   "outputs": [],
   "source": [
    "#SkyTrainer.datasets_api "
   ]
  },
  {
   "cell_type": "markdown",
   "metadata": {},
   "source": [
    "## Image composites"
   ]
  },
  {
   "cell_type": "code",
   "execution_count": 6,
   "metadata": {},
   "outputs": [
    {
     "data": {
      "text/html": [
       "<div style=\"width:100%;\"><div style=\"position:relative;width:100%;height:0;padding-bottom:60%;\"><iframe src=\"about:blank\" style=\"position:absolute;width:100%;height:100%;left:0;top:0;border:none !important;\" data-html=PCFET0NUWVBFIGh0bWw+CjxoZWFkPiAgICAKICAgIDxtZXRhIGh0dHAtZXF1aXY9ImNvbnRlbnQtdHlwZSIgY29udGVudD0idGV4dC9odG1sOyBjaGFyc2V0PVVURi04IiAvPgogICAgPHNjcmlwdD5MX1BSRUZFUl9DQU5WQVM9dHJ1ZTsgTF9OT19UT1VDSD1mYWxzZTsgTF9ESVNBQkxFXzNEPWZhbHNlOzwvc2NyaXB0PgogICAgPHNjcmlwdCBzcmM9Imh0dHBzOi8vY2RuLmpzZGVsaXZyLm5ldC9ucG0vbGVhZmxldEAxLjQuMC9kaXN0L2xlYWZsZXQuanMiPjwvc2NyaXB0PgogICAgPHNjcmlwdCBzcmM9Imh0dHBzOi8vY29kZS5qcXVlcnkuY29tL2pxdWVyeS0xLjEyLjQubWluLmpzIj48L3NjcmlwdD4KICAgIDxzY3JpcHQgc3JjPSJodHRwczovL21heGNkbi5ib290c3RyYXBjZG4uY29tL2Jvb3RzdHJhcC8zLjIuMC9qcy9ib290c3RyYXAubWluLmpzIj48L3NjcmlwdD4KICAgIDxzY3JpcHQgc3JjPSJodHRwczovL2NkbmpzLmNsb3VkZmxhcmUuY29tL2FqYXgvbGlicy9MZWFmbGV0LmF3ZXNvbWUtbWFya2Vycy8yLjAuMi9sZWFmbGV0LmF3ZXNvbWUtbWFya2Vycy5qcyI+PC9zY3JpcHQ+CiAgICA8bGluayByZWw9InN0eWxlc2hlZXQiIGhyZWY9Imh0dHBzOi8vY2RuLmpzZGVsaXZyLm5ldC9ucG0vbGVhZmxldEAxLjQuMC9kaXN0L2xlYWZsZXQuY3NzIi8+CiAgICA8bGluayByZWw9InN0eWxlc2hlZXQiIGhyZWY9Imh0dHBzOi8vbWF4Y2RuLmJvb3RzdHJhcGNkbi5jb20vYm9vdHN0cmFwLzMuMi4wL2Nzcy9ib290c3RyYXAubWluLmNzcyIvPgogICAgPGxpbmsgcmVsPSJzdHlsZXNoZWV0IiBocmVmPSJodHRwczovL21heGNkbi5ib290c3RyYXBjZG4uY29tL2Jvb3RzdHJhcC8zLjIuMC9jc3MvYm9vdHN0cmFwLXRoZW1lLm1pbi5jc3MiLz4KICAgIDxsaW5rIHJlbD0ic3R5bGVzaGVldCIgaHJlZj0iaHR0cHM6Ly9tYXhjZG4uYm9vdHN0cmFwY2RuLmNvbS9mb250LWF3ZXNvbWUvNC42LjMvY3NzL2ZvbnQtYXdlc29tZS5taW4uY3NzIi8+CiAgICA8bGluayByZWw9InN0eWxlc2hlZXQiIGhyZWY9Imh0dHBzOi8vY2RuanMuY2xvdWRmbGFyZS5jb20vYWpheC9saWJzL0xlYWZsZXQuYXdlc29tZS1tYXJrZXJzLzIuMC4yL2xlYWZsZXQuYXdlc29tZS1tYXJrZXJzLmNzcyIvPgogICAgPGxpbmsgcmVsPSJzdHlsZXNoZWV0IiBocmVmPSJodHRwczovL3Jhd2Nkbi5naXRoYWNrLmNvbS9weXRob24tdmlzdWFsaXphdGlvbi9mb2xpdW0vbWFzdGVyL2ZvbGl1bS90ZW1wbGF0ZXMvbGVhZmxldC5hd2Vzb21lLnJvdGF0ZS5jc3MiLz4KICAgIDxzdHlsZT5odG1sLCBib2R5IHt3aWR0aDogMTAwJTtoZWlnaHQ6IDEwMCU7bWFyZ2luOiAwO3BhZGRpbmc6IDA7fTwvc3R5bGU+CiAgICA8c3R5bGU+I21hcCB7cG9zaXRpb246YWJzb2x1dGU7dG9wOjA7Ym90dG9tOjA7cmlnaHQ6MDtsZWZ0OjA7fTwvc3R5bGU+CiAgICAKICAgIDxtZXRhIG5hbWU9InZpZXdwb3J0IiBjb250ZW50PSJ3aWR0aD1kZXZpY2Utd2lkdGgsCiAgICAgICAgaW5pdGlhbC1zY2FsZT0xLjAsIG1heGltdW0tc2NhbGU9MS4wLCB1c2VyLXNjYWxhYmxlPW5vIiAvPgogICAgPHN0eWxlPiNtYXBfYzI1ODAyNDU4MTI1NDllZGI2OGFiZjJlYmExMGU4YmQgewogICAgICAgIHBvc2l0aW9uOiByZWxhdGl2ZTsKICAgICAgICB3aWR0aDogMTAwLjAlOwogICAgICAgIGhlaWdodDogMTAwLjAlOwogICAgICAgIGxlZnQ6IDAuMCU7CiAgICAgICAgdG9wOiAwLjAlOwogICAgICAgIH0KICAgIDwvc3R5bGU+CjwvaGVhZD4KPGJvZHk+ICAgIAogICAgCiAgICA8ZGl2IGNsYXNzPSJmb2xpdW0tbWFwIiBpZD0ibWFwX2MyNTgwMjQ1ODEyNTQ5ZWRiNjhhYmYyZWJhMTBlOGJkIiA+PC9kaXY+CjwvYm9keT4KPHNjcmlwdD4gICAgCiAgICAKICAgIAogICAgICAgIHZhciBib3VuZHMgPSBudWxsOwogICAgCgogICAgdmFyIG1hcF9jMjU4MDI0NTgxMjU0OWVkYjY4YWJmMmViYTEwZThiZCA9IEwubWFwKAogICAgICAgICdtYXBfYzI1ODAyNDU4MTI1NDllZGI2OGFiZjJlYmExMGU4YmQnLCB7CiAgICAgICAgY2VudGVyOiBbMzkuMzEsIDAuMzAyXSwKICAgICAgICB6b29tOiA2LAogICAgICAgIG1heEJvdW5kczogYm91bmRzLAogICAgICAgIGxheWVyczogW10sCiAgICAgICAgd29ybGRDb3B5SnVtcDogZmFsc2UsCiAgICAgICAgY3JzOiBMLkNSUy5FUFNHMzg1NywKICAgICAgICB6b29tQ29udHJvbDogdHJ1ZSwKICAgICAgICB9KTsKCgogICAgCiAgICB2YXIgdGlsZV9sYXllcl8wOWRkODcxMmYyZDE0YjUzOGMxOWIzNDdhNmNkY2U1OCA9IEwudGlsZUxheWVyKAogICAgICAgICdodHRwczovL3tzfS50aWxlLm9wZW5zdHJlZXRtYXAub3JnL3t6fS97eH0ve3l9LnBuZycsCiAgICAgICAgewogICAgICAgICJhdHRyaWJ1dGlvbiI6IG51bGwsCiAgICAgICAgImRldGVjdFJldGluYSI6IHRydWUsCiAgICAgICAgIm1heE5hdGl2ZVpvb20iOiAxOCwKICAgICAgICAibWF4Wm9vbSI6IDE4LAogICAgICAgICJtaW5ab29tIjogMCwKICAgICAgICAibm9XcmFwIjogZmFsc2UsCiAgICAgICAgIm9wYWNpdHkiOiAxLAogICAgICAgICJzdWJkb21haW5zIjogImFiYyIsCiAgICAgICAgInRtcyI6IGZhbHNlCn0pLmFkZFRvKG1hcF9jMjU4MDI0NTgxMjU0OWVkYjY4YWJmMmViYTEwZThiZCk7CiAgICB2YXIgdGlsZV9sYXllcl80ODk5OTkxOWI1Mzc0NDc4OTk2ODAzNmY1MWE2ZTc2ZiA9IEwudGlsZUxheWVyKAogICAgICAgICdodHRwczovL2VhcnRoZW5naW5lLmdvb2dsZWFwaXMuY29tL21hcC9lODk5ZmM3ZTI0YWE2YzQxMzcxMDM2Nzc2ZmJiYjk5My97en0ve3h9L3t5fT90b2tlbj04NzAzYjNmZWFmMDg5NmFmN2RjZjhhYjkwMGE3MDg5ZScsCiAgICAgICAgewogICAgICAgICJhdHRyaWJ1dGlvbiI6ICJHb29nbGUgRWFydGggRW5naW5lIiwKICAgICAgICAiZGV0ZWN0UmV0aW5hIjogZmFsc2UsCiAgICAgICAgIm1heE5hdGl2ZVpvb20iOiAxOCwKICAgICAgICAibWF4Wm9vbSI6IDE4LAogICAgICAgICJtaW5ab29tIjogMCwKICAgICAgICAibm9XcmFwIjogZmFsc2UsCiAgICAgICAgIm9wYWNpdHkiOiAxLAogICAgICAgICJzdWJkb21haW5zIjogImFiYyIsCiAgICAgICAgInRtcyI6IGZhbHNlCn0pLmFkZFRvKG1hcF9jMjU4MDI0NTgxMjU0OWVkYjY4YWJmMmViYTEwZThiZCk7CiAgICB2YXIgdGlsZV9sYXllcl80NzBlYTg3ZDhhNDM0NmQ4ODgzNTNkZDBmMTQ3ODMzZiA9IEwudGlsZUxheWVyKAogICAgICAgICdodHRwczovL2VhcnRoZW5naW5lLmdvb2dsZWFwaXMuY29tL21hcC83MDljMThjZjI0Y2VlOGQwYTMxZDQ3OTEyZjIwNmFmZS97en0ve3h9L3t5fT90b2tlbj05NTM4NDg4MDc5Mjk2ZGIyYWI2N2JlMzYyZDUzZDc5MicsCiAgICAgICAgewogICAgICAgICJhdHRyaWJ1dGlvbiI6ICJHb29nbGUgRWFydGggRW5naW5lIiwKICAgICAgICAiZGV0ZWN0UmV0aW5hIjogZmFsc2UsCiAgICAgICAgIm1heE5hdGl2ZVpvb20iOiAxOCwKICAgICAgICAibWF4Wm9vbSI6IDE4LAogICAgICAgICJtaW5ab29tIjogMCwKICAgICAgICAibm9XcmFwIjogZmFsc2UsCiAgICAgICAgIm9wYWNpdHkiOiAxLAogICAgICAgICJzdWJkb21haW5zIjogImFiYyIsCiAgICAgICAgInRtcyI6IGZhbHNlCn0pLmFkZFRvKG1hcF9jMjU4MDI0NTgxMjU0OWVkYjY4YWJmMmViYTEwZThiZCk7CiAgICAKICAgICAgICAgICAgdmFyIGxheWVyX2NvbnRyb2xfZTI4MTliNGU4MThlNGM4YjhmMTM5MjA5ZGEzMDdjOTIgPSB7CiAgICAgICAgICAgICAgICBiYXNlX2xheWVycyA6IHsgIm9wZW5zdHJlZXRtYXAiIDogdGlsZV9sYXllcl8wOWRkODcxMmYyZDE0YjUzOGMxOWIzNDdhNmNkY2U1OCwgfSwKICAgICAgICAgICAgICAgIG92ZXJsYXlzIDogeyAiU2VudGluZWwgMiBUb3Atb2YtQXRtb3NwaGVyZSBSZWZsZWN0YW5jZSIgOiB0aWxlX2xheWVyXzQ4OTk5OTE5YjUzNzQ0Nzg5OTY4MDM2ZjUxYTZlNzZmLCJMYWtlIFdhdGVyIFF1YWxpdHkgMTAwbSIgOiB0aWxlX2xheWVyXzQ3MGVhODdkOGE0MzQ2ZDg4ODM1M2RkMGYxNDc4MzNmLCB9CiAgICAgICAgICAgICAgICB9OwogICAgICAgICAgICBMLmNvbnRyb2wubGF5ZXJzKAogICAgICAgICAgICAgICAgbGF5ZXJfY29udHJvbF9lMjgxOWI0ZTgxOGU0YzhiOGYxMzkyMDlkYTMwN2M5Mi5iYXNlX2xheWVycywKICAgICAgICAgICAgICAgIGxheWVyX2NvbnRyb2xfZTI4MTliNGU4MThlNGM4YjhmMTM5MjA5ZGEzMDdjOTIub3ZlcmxheXMsCiAgICAgICAgICAgICAgICB7cG9zaXRpb246ICd0b3ByaWdodCcsCiAgICAgICAgICAgICAgICAgY29sbGFwc2VkOiB0cnVlLAogICAgICAgICAgICAgICAgIGF1dG9aSW5kZXg6IHRydWUKICAgICAgICAgICAgICAgIH0pLmFkZFRvKG1hcF9jMjU4MDI0NTgxMjU0OWVkYjY4YWJmMmViYTEwZThiZCk7CiAgICAgICAgICAgIAogICAgICAgIAo8L3NjcmlwdD4= onload=\"this.contentDocument.open();this.contentDocument.write(atob(this.getAttribute('data-html')));this.contentDocument.close();\" allowfullscreen webkitallowfullscreen mozallowfullscreen></iframe></div></div>"
      ],
      "text/plain": [
       "<folium.folium.Map at 0x1387d2110>"
      ]
     },
     "execution_count": 6,
     "metadata": {},
     "output_type": "execute_result"
    }
   ],
   "source": [
    "SkyTrainer.composite(slugs=['Sentinel-2-Top-of-Atmosphere-Reflectance', 'Lake-Water-Quality-100m'],\\\n",
    "              init_date = '2019-01-21', end_date = '2019-01-31', zoom=6)"
   ]
  },
  {
   "cell_type": "markdown",
   "metadata": {},
   "source": [
    "## Creation of Geostore\n",
    "We select the areas from which we will export the training, validation and testing data."
   ]
  },
  {
   "cell_type": "code",
   "execution_count": 7,
   "metadata": {},
   "outputs": [],
   "source": [
    "train_atts = {\"type\":\"FeatureCollection\",\n",
    "              \"features\":[\n",
    "                  {\"type\":\"Feature\",\n",
    "                   \"properties\":{},\n",
    "                   \"geometry\":{\n",
    "                       \"type\":\"Polygon\",\n",
    "                       \"coordinates\":[[[-0.406494140625,38.64476310916202],\n",
    "                                       [0.28,38.64476310916202],\n",
    "                                       [0.28,39.74521015328692],\n",
    "                                       [-0.406494140625,39.74521015328692],\n",
    "                                       [-0.406494140625,38.64476310916202]]]\n",
    "                   }\n",
    "                  },\n",
    "                  {\"type\":\"Feature\",\n",
    "                   \"properties\":{},\n",
    "                   \"geometry\":{\n",
    "                       \"type\":\"Polygon\",\n",
    "                       \"coordinates\":[[[-1.70013427734375,35.15135442846945],\n",
    "                                       [-0.703125,35.15135442846945],\n",
    "                                       [-0.703125,35.94688293218141],\n",
    "                                       [-1.70013427734375,35.94688293218141],\n",
    "                                       [-1.70013427734375,35.15135442846945]]]\n",
    "                   }\n",
    "                  }\n",
    "              ]\n",
    "             }\n",
    "\n",
    "valid_atts = None\n",
    "test_atts = None"
   ]
  },
  {
   "cell_type": "code",
   "execution_count": 8,
   "metadata": {},
   "outputs": [
    {
     "name": "stdout",
     "output_type": "stream",
     "text": [
      "Number of training polygons: 2\n"
     ]
    },
    {
     "data": {
      "text/html": [
       "<div style=\"width:100%;\"><div style=\"position:relative;width:100%;height:0;padding-bottom:60%;\"><iframe src=\"about:blank\" style=\"position:absolute;width:100%;height:100%;left:0;top:0;border:none !important;\" data-html=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 onload=\"this.contentDocument.open();this.contentDocument.write(atob(this.getAttribute('data-html')));this.contentDocument.close();\" allowfullscreen webkitallowfullscreen mozallowfullscreen></iframe></div></div>"
      ],
      "text/plain": [
       "<folium.folium.Map at 0x13861aa50>"
      ]
     },
     "execution_count": 8,
     "metadata": {},
     "output_type": "execute_result"
    }
   ],
   "source": [
    "SkyTrainer.create_geostore_from_geojson(attributes=[train_atts, valid_atts, test_atts])"
   ]
  },
  {
   "cell_type": "markdown",
   "metadata": {},
   "source": [
    "Check geostore object"
   ]
  },
  {
   "cell_type": "code",
   "execution_count": 9,
   "metadata": {},
   "outputs": [
    {
     "data": {
      "text/plain": [
       "{'geojson': {'type': 'FeatureCollection',\n",
       "  'features': [{'type': 'Feature',\n",
       "    'properties': {'name': 'training'},\n",
       "    'geometry': {'type': 'MultiPolygon',\n",
       "     'coordinates': [[[[-0.406494140625, 38.64476310916202],\n",
       "        [0.28, 38.64476310916202],\n",
       "        [0.28, 39.74521015328692],\n",
       "        [-0.406494140625, 39.74521015328692],\n",
       "        [-0.406494140625, 38.64476310916202]]],\n",
       "      [[[-1.70013427734375, 35.15135442846945],\n",
       "        [-0.703125, 35.15135442846945],\n",
       "        [-0.703125, 35.94688293218141],\n",
       "        [-1.70013427734375, 35.94688293218141],\n",
       "        [-1.70013427734375, 35.15135442846945]]]]}}]}}"
      ]
     },
     "execution_count": 9,
     "metadata": {},
     "output_type": "execute_result"
    }
   ],
   "source": [
    "SkyTrainer.geostore"
   ]
  },
  {
   "cell_type": "code",
   "execution_count": 10,
   "metadata": {},
   "outputs": [
    {
     "data": {
      "text/plain": [
       "{'training': 2}"
      ]
     },
     "execution_count": 10,
     "metadata": {},
     "output_type": "execute_result"
    }
   ],
   "source": [
    "SkyTrainer.nPolygons"
   ]
  },
  {
   "cell_type": "markdown",
   "metadata": {},
   "source": [
    "Check geostore object on a server and display it on map"
   ]
  },
  {
   "cell_type": "code",
   "execution_count": null,
   "metadata": {},
   "outputs": [],
   "source": [
    "#SkyTrainer.multipolygon"
   ]
  },
  {
   "cell_type": "code",
   "execution_count": null,
   "metadata": {},
   "outputs": [],
   "source": [
    "#SkyTrainer.multipolygon.map()"
   ]
  },
  {
   "cell_type": "markdown",
   "metadata": {},
   "source": [
    "## Data pre-processing\n",
    "We normalize the composite images to have values from 0 to 1."
   ]
  },
  {
   "cell_type": "code",
   "execution_count": 11,
   "metadata": {},
   "outputs": [
    {
     "data": {
      "text/html": [
       "<div style=\"width:100%;\"><div style=\"position:relative;width:100%;height:0;padding-bottom:60%;\"><iframe src=\"about:blank\" style=\"position:absolute;width:100%;height:100%;left:0;top:0;border:none !important;\" data-html=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 onload=\"this.contentDocument.open();this.contentDocument.write(atob(this.getAttribute('data-html')));this.contentDocument.close();\" allowfullscreen webkitallowfullscreen mozallowfullscreen></iframe></div></div>"
      ],
      "text/plain": [
       "<folium.folium.Map at 0x138780e50>"
      ]
     },
     "execution_count": 11,
     "metadata": {},
     "output_type": "execute_result"
    }
   ],
   "source": [
    "SkyTrainer.normalize_images(scale=100, norm_type='geostore')"
   ]
  },
  {
   "cell_type": "markdown",
   "metadata": {},
   "source": [
    "### Select input/output bands"
   ]
  },
  {
   "cell_type": "code",
   "execution_count": 12,
   "metadata": {},
   "outputs": [],
   "source": [
    "SkyTrainer.select_bands(input_bands = ['B2','B3','B4','B5','ndvi','ndwi'],\\\n",
    "                 output_bands = ['turbidity_blended_mean'])"
   ]
  },
  {
   "cell_type": "code",
   "execution_count": 13,
   "metadata": {},
   "outputs": [
    {
     "data": {
      "text/html": [
       "<div>\n",
       "<style scoped>\n",
       "    .dataframe tbody tr th:only-of-type {\n",
       "        vertical-align: middle;\n",
       "    }\n",
       "\n",
       "    .dataframe tbody tr th {\n",
       "        vertical-align: top;\n",
       "    }\n",
       "\n",
       "    .dataframe thead th {\n",
       "        text-align: right;\n",
       "    }\n",
       "</style>\n",
       "<table border=\"1\" class=\"dataframe\">\n",
       "  <thead>\n",
       "    <tr style=\"text-align: right;\">\n",
       "      <th></th>\n",
       "      <th>dataset_id</th>\n",
       "      <th>bands_selections</th>\n",
       "      <th>scale</th>\n",
       "      <th>init_date</th>\n",
       "      <th>end_date</th>\n",
       "      <th>bands_min_max</th>\n",
       "      <th>norm_type</th>\n",
       "      <th>geostore_id</th>\n",
       "    </tr>\n",
       "  </thead>\n",
       "  <tbody>\n",
       "    <tr>\n",
       "      <th>0</th>\n",
       "      <td>0</td>\n",
       "      <td>['B2', 'B3', 'B4', 'B5', 'ndvi', 'ndwi']</td>\n",
       "      <td>100.0</td>\n",
       "      <td>2019-01-21</td>\n",
       "      <td>2019-01-31</td>\n",
       "      <td>{\"B11_max\": 10857.5, \"B11_min\": 7.0, \"B12_max\"...</td>\n",
       "      <td>geostore</td>\n",
       "      <td>cc1d5d3dee2c8a6e9a4d10f74f7747a9</td>\n",
       "    </tr>\n",
       "    <tr>\n",
       "      <th>1</th>\n",
       "      <td>5</td>\n",
       "      <td>['turbidity_blended_mean']</td>\n",
       "      <td>100.0</td>\n",
       "      <td>2019-01-21</td>\n",
       "      <td>2019-01-31</td>\n",
       "      <td>{}</td>\n",
       "      <td>geostore</td>\n",
       "      <td>cc1d5d3dee2c8a6e9a4d10f74f7747a9</td>\n",
       "    </tr>\n",
       "    <tr>\n",
       "      <th>2</th>\n",
       "      <td>0</td>\n",
       "      <td>['B1', 'B2', 'B3', 'B4', 'B5', 'B6', 'B7', 'B8...</td>\n",
       "      <td>30.0</td>\n",
       "      <td>2016-01-01</td>\n",
       "      <td>2016-12-31</td>\n",
       "      <td>{\"B11_max\": 9660.0, \"B11_min\": 1.0, \"B12_max\":...</td>\n",
       "      <td>global</td>\n",
       "      <td></td>\n",
       "    </tr>\n",
       "    <tr>\n",
       "      <th>3</th>\n",
       "      <td>3</td>\n",
       "      <td>['cropland', 'land', 'water', 'urban']</td>\n",
       "      <td>30.0</td>\n",
       "      <td>2016-01-01</td>\n",
       "      <td>2016-12-31</td>\n",
       "      <td>{}</td>\n",
       "      <td>global</td>\n",
       "      <td></td>\n",
       "    </tr>\n",
       "  </tbody>\n",
       "</table>\n",
       "</div>"
      ],
      "text/plain": [
       "   dataset_id                                   bands_selections  scale  \\\n",
       "0           0           ['B2', 'B3', 'B4', 'B5', 'ndvi', 'ndwi']  100.0   \n",
       "1           5                         ['turbidity_blended_mean']  100.0   \n",
       "2           0  ['B1', 'B2', 'B3', 'B4', 'B5', 'B6', 'B7', 'B8...   30.0   \n",
       "3           3             ['cropland', 'land', 'water', 'urban']   30.0   \n",
       "\n",
       "    init_date    end_date                                      bands_min_max  \\\n",
       "0  2019-01-21  2019-01-31  {\"B11_max\": 10857.5, \"B11_min\": 7.0, \"B12_max\"...   \n",
       "1  2019-01-21  2019-01-31                                                 {}   \n",
       "2  2016-01-01  2016-12-31  {\"B11_max\": 9660.0, \"B11_min\": 1.0, \"B12_max\":...   \n",
       "3  2016-01-01  2016-12-31                                                 {}   \n",
       "\n",
       "  norm_type                       geostore_id  \n",
       "0  geostore  cc1d5d3dee2c8a6e9a4d10f74f7747a9  \n",
       "1  geostore  cc1d5d3dee2c8a6e9a4d10f74f7747a9  \n",
       "2    global                                    \n",
       "3    global                                    "
      ]
     },
     "execution_count": 13,
     "metadata": {},
     "output_type": "execute_result"
    }
   ],
   "source": [
    "SkyTrainer.images"
   ]
  },
  {
   "cell_type": "code",
   "execution_count": 14,
   "metadata": {},
   "outputs": [
    {
     "data": {
      "text/html": [
       "<div>\n",
       "<style scoped>\n",
       "    .dataframe tbody tr th:only-of-type {\n",
       "        vertical-align: middle;\n",
       "    }\n",
       "\n",
       "    .dataframe tbody tr th {\n",
       "        vertical-align: top;\n",
       "    }\n",
       "\n",
       "    .dataframe thead th {\n",
       "        text-align: right;\n",
       "    }\n",
       "</style>\n",
       "<table border=\"1\" class=\"dataframe\">\n",
       "  <thead>\n",
       "    <tr style=\"text-align: right;\">\n",
       "      <th></th>\n",
       "      <th>model_id</th>\n",
       "      <th>model_architecture</th>\n",
       "      <th>input_image_id</th>\n",
       "      <th>output_image_id</th>\n",
       "      <th>geostore_id</th>\n",
       "      <th>kernel_size</th>\n",
       "      <th>sample_size</th>\n",
       "      <th>training_params</th>\n",
       "      <th>version</th>\n",
       "      <th>data_status</th>\n",
       "      <th>training_status</th>\n",
       "      <th>eeified</th>\n",
       "      <th>deployed</th>\n",
       "    </tr>\n",
       "  </thead>\n",
       "  <tbody>\n",
       "    <tr>\n",
       "      <th>0</th>\n",
       "      <td>0</td>\n",
       "      <td>sequential1</td>\n",
       "      <td>0</td>\n",
       "      <td>1</td>\n",
       "      <td>cc1d5d3dee2c8a6e9a4d10f74f7747a9</td>\n",
       "      <td>1</td>\n",
       "      <td>20000</td>\n",
       "      <td>{\"bucket\": \"geo-ai\", \"base_names\": [\"training_...</td>\n",
       "      <td>1582126498</td>\n",
       "      <td>COMPLETED</td>\n",
       "      <td>SUCCEEDED</td>\n",
       "      <td>True</td>\n",
       "      <td>False</td>\n",
       "    </tr>\n",
       "    <tr>\n",
       "      <th>1</th>\n",
       "      <td>0</td>\n",
       "      <td>sequential1</td>\n",
       "      <td>0</td>\n",
       "      <td>1</td>\n",
       "      <td>cc1d5d3dee2c8a6e9a4d10f74f7747a9</td>\n",
       "      <td>1</td>\n",
       "      <td>20000</td>\n",
       "      <td>{\"bucket\": \"geo-ai\", \"base_names\": [\"training_...</td>\n",
       "      <td>1582128515</td>\n",
       "      <td>COMPLETED</td>\n",
       "      <td>SUCCEEDED</td>\n",
       "      <td>True</td>\n",
       "      <td>False</td>\n",
       "    </tr>\n",
       "    <tr>\n",
       "      <th>2</th>\n",
       "      <td>0</td>\n",
       "      <td>sequential1</td>\n",
       "      <td>0</td>\n",
       "      <td>1</td>\n",
       "      <td>cc1d5d3dee2c8a6e9a4d10f74f7747a9</td>\n",
       "      <td>1</td>\n",
       "      <td>20000</td>\n",
       "      <td>{\"bucket\": \"geo-ai\", \"base_names\": [\"training_...</td>\n",
       "      <td>1582131333</td>\n",
       "      <td>COMPLETED</td>\n",
       "      <td>SUCCEEDED</td>\n",
       "      <td>True</td>\n",
       "      <td>True</td>\n",
       "    </tr>\n",
       "    <tr>\n",
       "      <th>3</th>\n",
       "      <td>1</td>\n",
       "      <td>segnet</td>\n",
       "      <td>2</td>\n",
       "      <td>3</td>\n",
       "      <td>f75559fb87f5c22deb56eb2a73aa4e12</td>\n",
       "      <td>256</td>\n",
       "      <td>1000</td>\n",
       "      <td>{\"bucket\": \"geo-ai\", \"base_names\": [\"training_...</td>\n",
       "      <td>1582197697</td>\n",
       "      <td>COMPLETED</td>\n",
       "      <td>SUCCEEDED</td>\n",
       "      <td>True</td>\n",
       "      <td>False</td>\n",
       "    </tr>\n",
       "    <tr>\n",
       "      <th>4</th>\n",
       "      <td>1</td>\n",
       "      <td>segnet</td>\n",
       "      <td>2</td>\n",
       "      <td>3</td>\n",
       "      <td>f75559fb87f5c22deb56eb2a73aa4e12</td>\n",
       "      <td>256</td>\n",
       "      <td>1000</td>\n",
       "      <td>{\"bucket\": \"geo-ai\", \"base_names\": [\"training_...</td>\n",
       "      <td>1582214196</td>\n",
       "      <td>COMPLETED</td>\n",
       "      <td>SUCCEEDED</td>\n",
       "      <td>True</td>\n",
       "      <td>True</td>\n",
       "    </tr>\n",
       "  </tbody>\n",
       "</table>\n",
       "</div>"
      ],
      "text/plain": [
       "   model_id model_architecture  input_image_id  output_image_id  \\\n",
       "0         0        sequential1               0                1   \n",
       "1         0        sequential1               0                1   \n",
       "2         0        sequential1               0                1   \n",
       "3         1             segnet               2                3   \n",
       "4         1             segnet               2                3   \n",
       "\n",
       "                        geostore_id  kernel_size  sample_size  \\\n",
       "0  cc1d5d3dee2c8a6e9a4d10f74f7747a9            1        20000   \n",
       "1  cc1d5d3dee2c8a6e9a4d10f74f7747a9            1        20000   \n",
       "2  cc1d5d3dee2c8a6e9a4d10f74f7747a9            1        20000   \n",
       "3  f75559fb87f5c22deb56eb2a73aa4e12          256         1000   \n",
       "4  f75559fb87f5c22deb56eb2a73aa4e12          256         1000   \n",
       "\n",
       "                                     training_params     version data_status  \\\n",
       "0  {\"bucket\": \"geo-ai\", \"base_names\": [\"training_...  1582126498   COMPLETED   \n",
       "1  {\"bucket\": \"geo-ai\", \"base_names\": [\"training_...  1582128515   COMPLETED   \n",
       "2  {\"bucket\": \"geo-ai\", \"base_names\": [\"training_...  1582131333   COMPLETED   \n",
       "3  {\"bucket\": \"geo-ai\", \"base_names\": [\"training_...  1582197697   COMPLETED   \n",
       "4  {\"bucket\": \"geo-ai\", \"base_names\": [\"training_...  1582214196   COMPLETED   \n",
       "\n",
       "  training_status  eeified  deployed  \n",
       "0       SUCCEEDED     True     False  \n",
       "1       SUCCEEDED     True     False  \n",
       "2       SUCCEEDED     True      True  \n",
       "3       SUCCEEDED     True     False  \n",
       "4       SUCCEEDED     True      True  "
      ]
     },
     "execution_count": 14,
     "metadata": {},
     "output_type": "execute_result"
    }
   ],
   "source": [
    "SkyTrainer.versions"
   ]
  },
  {
   "cell_type": "markdown",
   "metadata": {},
   "source": [
    "## Create TFRecords for training"
   ]
  },
  {
   "cell_type": "code",
   "execution_count": 15,
   "metadata": {},
   "outputs": [],
   "source": [
    "SkyTrainer.export_TFRecords(sample_size = 20000, kernel_size = 1)"
   ]
  },
  {
   "cell_type": "markdown",
   "metadata": {},
   "source": [
    "## Training the model in AI Platform"
   ]
  },
  {
   "cell_type": "code",
   "execution_count": 24,
   "metadata": {},
   "outputs": [
    {
     "name": "stdout",
     "output_type": "stream",
     "text": [
      "Model already exists with name: water_quality.\n",
      "And description .\n",
      "Create new version\n",
      "Creating training job: job_v1583404103\n",
      "{'jobId': 'job_v1583404103', 'trainingInput': {'scaleTier': 'CUSTOM', 'masterType': 'large_model_v100', 'packageUris': ['gs://geo-ai/Train/trainer-0.2.tar.gz'], 'pythonModule': 'trainer.task', 'args': ['--params-file', 'Models/0/1583404103/training_params.json'], 'region': 'us-central1', 'runtimeVersion': '1.15', 'jobDir': 'gs://geo-ai/Models/0/1583404103/', 'pythonVersion': '3.7'}, 'createTime': '2020-03-05T10:28:26Z', 'state': 'QUEUED', 'trainingOutput': {}, 'etag': 'i5dsk9VCkJI='}\n",
      "Current training status: PREPARING\n",
      "Current training status: RUNNING\n",
      "Current training status: RUNNING\n",
      "Current training status: RUNNING\n",
      "Current training status: SUCCEEDED\n",
      "TensorBoard.dev url\n"
     ]
    }
   ],
   "source": [
    "SkyTrainer.train_model_ai_platform(model_type='MLP', model_output='regression', model_architecture='sequential1',\\\n",
    "                                   model_name='water_quality', batch_size=2, epochs=25)"
   ]
  },
  {
   "cell_type": "code",
   "execution_count": 26,
   "metadata": {},
   "outputs": [
    {
     "data": {
      "text/plain": [
       "'{\"bucket\": \"geo-ai\", \"base_names\": [\"training_pixels\", \"validation_pixels\", \"test_pixels\"], \"data_dir\": \"gs://geo-ai/Data/0_1/cc1d5d3dee2c8a6e9a4d10f74f7747a9/1/20000\", \"in_bands\": [\"B2\", \"B3\", \"B4\", \"B5\", \"ndvi\", \"ndwi\"], \"out_bands\": [\"turbidity_blended_mean\"], \"kernel_size\": 1, \"training_size\": 6993, \"validation_size\": 2312, \"test_size\": 2373, \"model_type\": \"MLP\", \"model_output\": \"regression\", \"model_architecture\": \"sequential1\", \"output_activation\": \"\", \"batch_size\": 2, \"epochs\": 25, \"shuffle_size\": 2000, \"learning_rate\": 0.001, \"loss\": \"mse\", \"metrics\": [\"mse\"], \"job_dir\": \"gs://geo-ai/Models/0/1583404103/\", \"tb_url\": \"https://tensorboard.dev/experiment/08RVP1GQQ2a6VGvf3yLIGg/\"}'"
      ]
     },
     "execution_count": 26,
     "metadata": {},
     "output_type": "execute_result"
    }
   ],
   "source": [
    "SkyTrainer.versions"
   ]
  },
  {
   "cell_type": "code",
   "execution_count": 32,
   "metadata": {},
   "outputs": [
    {
     "data": {
      "text/html": [
       "<div>\n",
       "<style scoped>\n",
       "    .dataframe tbody tr th:only-of-type {\n",
       "        vertical-align: middle;\n",
       "    }\n",
       "\n",
       "    .dataframe tbody tr th {\n",
       "        vertical-align: top;\n",
       "    }\n",
       "\n",
       "    .dataframe thead th {\n",
       "        text-align: right;\n",
       "    }\n",
       "</style>\n",
       "<table border=\"1\" class=\"dataframe\">\n",
       "  <thead>\n",
       "    <tr style=\"text-align: right;\">\n",
       "      <th></th>\n",
       "      <th>model_id</th>\n",
       "      <th>model_architecture</th>\n",
       "      <th>input_image_id</th>\n",
       "      <th>output_image_id</th>\n",
       "      <th>geostore_id</th>\n",
       "      <th>kernel_size</th>\n",
       "      <th>sample_size</th>\n",
       "      <th>training_params</th>\n",
       "      <th>version</th>\n",
       "      <th>data_status</th>\n",
       "      <th>training_status</th>\n",
       "      <th>eeified</th>\n",
       "      <th>deployed</th>\n",
       "    </tr>\n",
       "  </thead>\n",
       "  <tbody>\n",
       "    <tr>\n",
       "      <th>0</th>\n",
       "      <td>0</td>\n",
       "      <td>sequential1</td>\n",
       "      <td>0</td>\n",
       "      <td>1</td>\n",
       "      <td>cc1d5d3dee2c8a6e9a4d10f74f7747a9</td>\n",
       "      <td>1</td>\n",
       "      <td>20000</td>\n",
       "      <td>{\"bucket\": \"geo-ai\", \"base_names\": [\"training_...</td>\n",
       "      <td>1582126498</td>\n",
       "      <td>COMPLETED</td>\n",
       "      <td>SUCCEEDED</td>\n",
       "      <td>True</td>\n",
       "      <td>False</td>\n",
       "    </tr>\n",
       "    <tr>\n",
       "      <th>1</th>\n",
       "      <td>0</td>\n",
       "      <td>sequential1</td>\n",
       "      <td>0</td>\n",
       "      <td>1</td>\n",
       "      <td>cc1d5d3dee2c8a6e9a4d10f74f7747a9</td>\n",
       "      <td>1</td>\n",
       "      <td>20000</td>\n",
       "      <td>{\"bucket\": \"geo-ai\", \"base_names\": [\"training_...</td>\n",
       "      <td>1582128515</td>\n",
       "      <td>COMPLETED</td>\n",
       "      <td>SUCCEEDED</td>\n",
       "      <td>True</td>\n",
       "      <td>False</td>\n",
       "    </tr>\n",
       "    <tr>\n",
       "      <th>2</th>\n",
       "      <td>0</td>\n",
       "      <td>sequential1</td>\n",
       "      <td>0</td>\n",
       "      <td>1</td>\n",
       "      <td>cc1d5d3dee2c8a6e9a4d10f74f7747a9</td>\n",
       "      <td>1</td>\n",
       "      <td>20000</td>\n",
       "      <td>{\"bucket\": \"geo-ai\", \"base_names\": [\"training_...</td>\n",
       "      <td>1582131333</td>\n",
       "      <td>COMPLETED</td>\n",
       "      <td>SUCCEEDED</td>\n",
       "      <td>True</td>\n",
       "      <td>True</td>\n",
       "    </tr>\n",
       "    <tr>\n",
       "      <th>3</th>\n",
       "      <td>1</td>\n",
       "      <td>segnet</td>\n",
       "      <td>2</td>\n",
       "      <td>3</td>\n",
       "      <td>f75559fb87f5c22deb56eb2a73aa4e12</td>\n",
       "      <td>256</td>\n",
       "      <td>1000</td>\n",
       "      <td>{\"bucket\": \"geo-ai\", \"base_names\": [\"training_...</td>\n",
       "      <td>1582197697</td>\n",
       "      <td>COMPLETED</td>\n",
       "      <td>SUCCEEDED</td>\n",
       "      <td>True</td>\n",
       "      <td>False</td>\n",
       "    </tr>\n",
       "    <tr>\n",
       "      <th>4</th>\n",
       "      <td>1</td>\n",
       "      <td>segnet</td>\n",
       "      <td>2</td>\n",
       "      <td>3</td>\n",
       "      <td>f75559fb87f5c22deb56eb2a73aa4e12</td>\n",
       "      <td>256</td>\n",
       "      <td>1000</td>\n",
       "      <td>{\"bucket\": \"geo-ai\", \"base_names\": [\"training_...</td>\n",
       "      <td>1582214196</td>\n",
       "      <td>COMPLETED</td>\n",
       "      <td>SUCCEEDED</td>\n",
       "      <td>True</td>\n",
       "      <td>True</td>\n",
       "    </tr>\n",
       "    <tr>\n",
       "      <th>5</th>\n",
       "      <td>0</td>\n",
       "      <td>sequential1</td>\n",
       "      <td>0</td>\n",
       "      <td>1</td>\n",
       "      <td>cc1d5d3dee2c8a6e9a4d10f74f7747a9</td>\n",
       "      <td>1</td>\n",
       "      <td>20000</td>\n",
       "      <td>{\"bucket\": \"geo-ai\", \"base_names\": [\"training_...</td>\n",
       "      <td>1583404103</td>\n",
       "      <td>COMPLETED</td>\n",
       "      <td>SUCCEEDED</td>\n",
       "      <td>False</td>\n",
       "      <td>False</td>\n",
       "    </tr>\n",
       "  </tbody>\n",
       "</table>\n",
       "</div>"
      ],
      "text/plain": [
       "   model_id model_architecture  input_image_id  output_image_id  \\\n",
       "0         0        sequential1               0                1   \n",
       "1         0        sequential1               0                1   \n",
       "2         0        sequential1               0                1   \n",
       "3         1             segnet               2                3   \n",
       "4         1             segnet               2                3   \n",
       "5         0        sequential1               0                1   \n",
       "\n",
       "                        geostore_id  kernel_size  sample_size  \\\n",
       "0  cc1d5d3dee2c8a6e9a4d10f74f7747a9            1        20000   \n",
       "1  cc1d5d3dee2c8a6e9a4d10f74f7747a9            1        20000   \n",
       "2  cc1d5d3dee2c8a6e9a4d10f74f7747a9            1        20000   \n",
       "3  f75559fb87f5c22deb56eb2a73aa4e12          256         1000   \n",
       "4  f75559fb87f5c22deb56eb2a73aa4e12          256         1000   \n",
       "5  cc1d5d3dee2c8a6e9a4d10f74f7747a9            1        20000   \n",
       "\n",
       "                                     training_params     version data_status  \\\n",
       "0  {\"bucket\": \"geo-ai\", \"base_names\": [\"training_...  1582126498   COMPLETED   \n",
       "1  {\"bucket\": \"geo-ai\", \"base_names\": [\"training_...  1582128515   COMPLETED   \n",
       "2  {\"bucket\": \"geo-ai\", \"base_names\": [\"training_...  1582131333   COMPLETED   \n",
       "3  {\"bucket\": \"geo-ai\", \"base_names\": [\"training_...  1582197697   COMPLETED   \n",
       "4  {\"bucket\": \"geo-ai\", \"base_names\": [\"training_...  1582214196   COMPLETED   \n",
       "5  {\"bucket\": \"geo-ai\", \"base_names\": [\"training_...  1583404103   COMPLETED   \n",
       "\n",
       "  training_status  eeified  deployed  \n",
       "0       SUCCEEDED     True     False  \n",
       "1       SUCCEEDED     True     False  \n",
       "2       SUCCEEDED     True      True  \n",
       "3       SUCCEEDED     True     False  \n",
       "4       SUCCEEDED     True      True  \n",
       "5       SUCCEEDED    False     False  "
      ]
     },
     "execution_count": 32,
     "metadata": {},
     "output_type": "execute_result"
    }
   ],
   "source": [
    "SkyTrainer.versions"
   ]
  },
  {
   "cell_type": "markdown",
   "metadata": {},
   "source": [
    "## Deployed the model to AI Platform\n",
    "\n",
    "Before it's possible to get predictions from the trained model, it needs to be deployed on AI Platform.  The first step is to create the model.  The second step is to create a version.  See [this guide](https://cloud.google.com/ml-engine/docs/tensorflow/deploying-models) for details.  Note that models and versions can be monitored from the [AI Platform models page](http://console.cloud.google.com/ai-platform/models) of the Cloud Console. "
   ]
  },
  {
   "cell_type": "code",
   "execution_count": null,
   "metadata": {},
   "outputs": [],
   "source": [
    "SkyTrainer.deploy_model_ai_platform()"
   ]
  },
  {
   "cell_type": "code",
   "execution_count": null,
   "metadata": {},
   "outputs": [],
   "source": [
    "SkyTrainer.versions"
   ]
  },
  {
   "cell_type": "markdown",
   "metadata": {},
   "source": [
    "***\n",
    "## **Validation of Deep Learning models**"
   ]
  },
  {
   "cell_type": "markdown",
   "metadata": {},
   "source": [
    "**Create `Validator` object**"
   ]
  },
  {
   "cell_type": "code",
   "execution_count": 34,
   "metadata": {},
   "outputs": [],
   "source": [
    "SkyValidator = skydl.Validator()"
   ]
  },
  {
   "cell_type": "code",
   "execution_count": 35,
   "metadata": {},
   "outputs": [
    {
     "data": {
      "text/html": [
       "<div>\n",
       "<style scoped>\n",
       "    .dataframe tbody tr th:only-of-type {\n",
       "        vertical-align: middle;\n",
       "    }\n",
       "\n",
       "    .dataframe tbody tr th {\n",
       "        vertical-align: top;\n",
       "    }\n",
       "\n",
       "    .dataframe thead th {\n",
       "        text-align: right;\n",
       "    }\n",
       "</style>\n",
       "<table border=\"1\" class=\"dataframe\">\n",
       "  <thead>\n",
       "    <tr style=\"text-align: right;\">\n",
       "      <th></th>\n",
       "      <th>model_id</th>\n",
       "      <th>model_architecture</th>\n",
       "      <th>input_image_id</th>\n",
       "      <th>output_image_id</th>\n",
       "      <th>geostore_id</th>\n",
       "      <th>kernel_size</th>\n",
       "      <th>sample_size</th>\n",
       "      <th>training_params</th>\n",
       "      <th>version</th>\n",
       "      <th>data_status</th>\n",
       "      <th>training_status</th>\n",
       "      <th>eeified</th>\n",
       "      <th>deployed</th>\n",
       "    </tr>\n",
       "  </thead>\n",
       "  <tbody>\n",
       "    <tr>\n",
       "      <th>0</th>\n",
       "      <td>0</td>\n",
       "      <td>sequential1</td>\n",
       "      <td>0</td>\n",
       "      <td>1</td>\n",
       "      <td>cc1d5d3dee2c8a6e9a4d10f74f7747a9</td>\n",
       "      <td>1</td>\n",
       "      <td>20000</td>\n",
       "      <td>{\"bucket\": \"geo-ai\", \"base_names\": [\"training_...</td>\n",
       "      <td>1582126498</td>\n",
       "      <td>COMPLETED</td>\n",
       "      <td>SUCCEEDED</td>\n",
       "      <td>True</td>\n",
       "      <td>False</td>\n",
       "    </tr>\n",
       "    <tr>\n",
       "      <th>1</th>\n",
       "      <td>0</td>\n",
       "      <td>sequential1</td>\n",
       "      <td>0</td>\n",
       "      <td>1</td>\n",
       "      <td>cc1d5d3dee2c8a6e9a4d10f74f7747a9</td>\n",
       "      <td>1</td>\n",
       "      <td>20000</td>\n",
       "      <td>{\"bucket\": \"geo-ai\", \"base_names\": [\"training_...</td>\n",
       "      <td>1582128515</td>\n",
       "      <td>COMPLETED</td>\n",
       "      <td>SUCCEEDED</td>\n",
       "      <td>True</td>\n",
       "      <td>False</td>\n",
       "    </tr>\n",
       "    <tr>\n",
       "      <th>2</th>\n",
       "      <td>0</td>\n",
       "      <td>sequential1</td>\n",
       "      <td>0</td>\n",
       "      <td>1</td>\n",
       "      <td>cc1d5d3dee2c8a6e9a4d10f74f7747a9</td>\n",
       "      <td>1</td>\n",
       "      <td>20000</td>\n",
       "      <td>{\"bucket\": \"geo-ai\", \"base_names\": [\"training_...</td>\n",
       "      <td>1582131333</td>\n",
       "      <td>COMPLETED</td>\n",
       "      <td>SUCCEEDED</td>\n",
       "      <td>True</td>\n",
       "      <td>True</td>\n",
       "    </tr>\n",
       "    <tr>\n",
       "      <th>3</th>\n",
       "      <td>1</td>\n",
       "      <td>segnet</td>\n",
       "      <td>2</td>\n",
       "      <td>3</td>\n",
       "      <td>f75559fb87f5c22deb56eb2a73aa4e12</td>\n",
       "      <td>256</td>\n",
       "      <td>1000</td>\n",
       "      <td>{\"bucket\": \"geo-ai\", \"base_names\": [\"training_...</td>\n",
       "      <td>1582197697</td>\n",
       "      <td>COMPLETED</td>\n",
       "      <td>SUCCEEDED</td>\n",
       "      <td>True</td>\n",
       "      <td>False</td>\n",
       "    </tr>\n",
       "    <tr>\n",
       "      <th>4</th>\n",
       "      <td>1</td>\n",
       "      <td>segnet</td>\n",
       "      <td>2</td>\n",
       "      <td>3</td>\n",
       "      <td>f75559fb87f5c22deb56eb2a73aa4e12</td>\n",
       "      <td>256</td>\n",
       "      <td>1000</td>\n",
       "      <td>{\"bucket\": \"geo-ai\", \"base_names\": [\"training_...</td>\n",
       "      <td>1582214196</td>\n",
       "      <td>COMPLETED</td>\n",
       "      <td>SUCCEEDED</td>\n",
       "      <td>True</td>\n",
       "      <td>True</td>\n",
       "    </tr>\n",
       "  </tbody>\n",
       "</table>\n",
       "</div>"
      ],
      "text/plain": [
       "   model_id model_architecture  input_image_id  output_image_id  \\\n",
       "0         0        sequential1               0                1   \n",
       "1         0        sequential1               0                1   \n",
       "2         0        sequential1               0                1   \n",
       "3         1             segnet               2                3   \n",
       "4         1             segnet               2                3   \n",
       "\n",
       "                        geostore_id  kernel_size  sample_size  \\\n",
       "0  cc1d5d3dee2c8a6e9a4d10f74f7747a9            1        20000   \n",
       "1  cc1d5d3dee2c8a6e9a4d10f74f7747a9            1        20000   \n",
       "2  cc1d5d3dee2c8a6e9a4d10f74f7747a9            1        20000   \n",
       "3  f75559fb87f5c22deb56eb2a73aa4e12          256         1000   \n",
       "4  f75559fb87f5c22deb56eb2a73aa4e12          256         1000   \n",
       "\n",
       "                                     training_params     version data_status  \\\n",
       "0  {\"bucket\": \"geo-ai\", \"base_names\": [\"training_...  1582126498   COMPLETED   \n",
       "1  {\"bucket\": \"geo-ai\", \"base_names\": [\"training_...  1582128515   COMPLETED   \n",
       "2  {\"bucket\": \"geo-ai\", \"base_names\": [\"training_...  1582131333   COMPLETED   \n",
       "3  {\"bucket\": \"geo-ai\", \"base_names\": [\"training_...  1582197697   COMPLETED   \n",
       "4  {\"bucket\": \"geo-ai\", \"base_names\": [\"training_...  1582214196   COMPLETED   \n",
       "\n",
       "  training_status  eeified  deployed  \n",
       "0       SUCCEEDED     True     False  \n",
       "1       SUCCEEDED     True     False  \n",
       "2       SUCCEEDED     True      True  \n",
       "3       SUCCEEDED     True     False  \n",
       "4       SUCCEEDED     True      True  "
      ]
     },
     "execution_count": 35,
     "metadata": {},
     "output_type": "execute_result"
    }
   ],
   "source": [
    "SkyValidator.versions"
   ]
  },
  {
   "cell_type": "markdown",
   "metadata": {},
   "source": [
    "### Select model"
   ]
  },
  {
   "cell_type": "code",
   "execution_count": 36,
   "metadata": {},
   "outputs": [
    {
     "data": {
      "text/html": [
       "<div>\n",
       "<style scoped>\n",
       "    .dataframe tbody tr th:only-of-type {\n",
       "        vertical-align: middle;\n",
       "    }\n",
       "\n",
       "    .dataframe tbody tr th {\n",
       "        vertical-align: top;\n",
       "    }\n",
       "\n",
       "    .dataframe thead th {\n",
       "        text-align: right;\n",
       "    }\n",
       "</style>\n",
       "<table border=\"1\" class=\"dataframe\">\n",
       "  <thead>\n",
       "    <tr style=\"text-align: right;\">\n",
       "      <th></th>\n",
       "      <th>model_name</th>\n",
       "      <th>model_type</th>\n",
       "      <th>model_output</th>\n",
       "      <th>model_description</th>\n",
       "      <th>output_image_id</th>\n",
       "    </tr>\n",
       "  </thead>\n",
       "  <tbody>\n",
       "    <tr>\n",
       "      <th>0</th>\n",
       "      <td>water_quality</td>\n",
       "      <td>MLP</td>\n",
       "      <td>regression</td>\n",
       "      <td></td>\n",
       "      <td>1</td>\n",
       "    </tr>\n",
       "    <tr>\n",
       "      <th>1</th>\n",
       "      <td>land_use_4</td>\n",
       "      <td>CNN</td>\n",
       "      <td>segmentation</td>\n",
       "      <td>This model segmentates the image into 4 differ...</td>\n",
       "      <td>3</td>\n",
       "    </tr>\n",
       "  </tbody>\n",
       "</table>\n",
       "</div>"
      ],
      "text/plain": [
       "      model_name model_type  model_output  \\\n",
       "0  water_quality        MLP    regression   \n",
       "1     land_use_4        CNN  segmentation   \n",
       "\n",
       "                                   model_description  output_image_id  \n",
       "0                                                                   1  \n",
       "1  This model segmentates the image into 4 differ...                3  "
      ]
     },
     "execution_count": 36,
     "metadata": {},
     "output_type": "execute_result"
    }
   ],
   "source": [
    "SkyValidator.models"
   ]
  },
  {
   "cell_type": "code",
   "execution_count": 38,
   "metadata": {},
   "outputs": [
    {
     "name": "stdout",
     "output_type": "stream",
     "text": [
      "The water_quality model has the following versions: [1582126498, 1582128515, 1582131333]\n"
     ]
    }
   ],
   "source": [
    "versions = SkyValidator.select_model(model_name='water_quality')"
   ]
  },
  {
   "cell_type": "markdown",
   "metadata": {},
   "source": [
    "### Select version"
   ]
  },
  {
   "cell_type": "code",
   "execution_count": 39,
   "metadata": {},
   "outputs": [
    {
     "name": "stdout",
     "output_type": "stream",
     "text": [
      "Selected version name: v1582131333\n",
      "Datasets:  ['Sentinel-2-Top-of-Atmosphere-Reflectance', 'Lake-Water-Quality-100m']\n",
      "Bands:  [['B2', 'B3', 'B4', 'B5', 'ndvi', 'ndwi'], ['turbidity_blended_mean']]\n",
      "scale:  100.0\n",
      "init_date:  2019-01-21\n",
      "end_date:  2019-01-31\n"
     ]
    }
   ],
   "source": [
    "SkyValidator.select_version(version=versions[2])"
   ]
  },
  {
   "cell_type": "markdown",
   "metadata": {},
   "source": [
    "### Inspect the training process\n",
    "We use [TensorBoard](https://www.tensorflow.org/tensorboard/get_started) to inspect the training process.TensorBoard is a tool for providing the measurements and visualizations needed during the machine learning workflow. It enables tracking experiment metrics like loss and accuracy, visualizing the model graph, projecting embeddings to a lower dimensional space, and much more.\n",
    "\n",
    "A brief overview of the dashboards shown (tabs in bottom navigation bar):\n",
    "\n",
    "- The **Scalars** dashboard shows how the loss and metrics change with every epoch. You can use it to also track training speed, learning rate, and other scalar values.\n",
    "- The **Graphs** dashboard helps you visualize your model. In this case, the Keras graph of layers is shown which can help you ensure it is built correctly.\n",
    "- The **Distributions** and **Histograms** dashboards show the distribution of a Tensor over time. This can be useful to visualize weights and biases and verify that they are changing in an expected way."
   ]
  },
  {
   "cell_type": "code",
   "execution_count": 40,
   "metadata": {},
   "outputs": [
    {
     "data": {
      "text/html": [
       "\n",
       "        <iframe\n",
       "            width=\"20000\"\n",
       "            height=\"800\"\n",
       "            src=\"https://tensorboard.dev/experiment/J7rIgfqGQRedLUotk6IwaQ/\"\n",
       "            frameborder=\"0\"\n",
       "            allowfullscreen\n",
       "        ></iframe>\n",
       "        "
      ],
      "text/plain": [
       "<IPython.lib.display.IFrame at 0x13893ec90>"
      ]
     },
     "execution_count": 40,
     "metadata": {},
     "output_type": "execute_result"
    }
   ],
   "source": [
    "SkyValidator.inspect_training_process()"
   ]
  },
  {
   "cell_type": "markdown",
   "metadata": {},
   "source": [
    "### Evaluate the model on test data"
   ]
  },
  {
   "cell_type": "code",
   "execution_count": null,
   "metadata": {},
   "outputs": [],
   "source": [
    "results = SkyValidator.evaluate_model()"
   ]
  },
  {
   "cell_type": "markdown",
   "metadata": {},
   "source": [
    "***\n",
    "## **Prediction of Deep Learning models**\n",
    "**Create `Predictor` object**"
   ]
  },
  {
   "cell_type": "code",
   "execution_count": 41,
   "metadata": {},
   "outputs": [],
   "source": [
    "SkyPredictor = skydl.Predictor()"
   ]
  },
  {
   "cell_type": "markdown",
   "metadata": {},
   "source": [
    "**Get token**"
   ]
  },
  {
   "cell_type": "code",
   "execution_count": 42,
   "metadata": {},
   "outputs": [
    {
     "name": "stdin",
     "output_type": "stream",
     "text": [
      "Skydipper login password: ·········\n"
     ]
    }
   ],
   "source": [
    "SkyPredictor.get_token(email='iker.sanchez@vizzuality.com')"
   ]
  },
  {
   "cell_type": "markdown",
   "metadata": {},
   "source": [
    "### Select model"
   ]
  },
  {
   "cell_type": "code",
   "execution_count": 43,
   "metadata": {},
   "outputs": [
    {
     "data": {
      "text/html": [
       "<div>\n",
       "<style scoped>\n",
       "    .dataframe tbody tr th:only-of-type {\n",
       "        vertical-align: middle;\n",
       "    }\n",
       "\n",
       "    .dataframe tbody tr th {\n",
       "        vertical-align: top;\n",
       "    }\n",
       "\n",
       "    .dataframe thead th {\n",
       "        text-align: right;\n",
       "    }\n",
       "</style>\n",
       "<table border=\"1\" class=\"dataframe\">\n",
       "  <thead>\n",
       "    <tr style=\"text-align: right;\">\n",
       "      <th></th>\n",
       "      <th>model_name</th>\n",
       "      <th>model_type</th>\n",
       "      <th>model_output</th>\n",
       "      <th>model_description</th>\n",
       "      <th>output_image_id</th>\n",
       "    </tr>\n",
       "  </thead>\n",
       "  <tbody>\n",
       "    <tr>\n",
       "      <th>0</th>\n",
       "      <td>water_quality</td>\n",
       "      <td>MLP</td>\n",
       "      <td>regression</td>\n",
       "      <td></td>\n",
       "      <td>1</td>\n",
       "    </tr>\n",
       "    <tr>\n",
       "      <th>1</th>\n",
       "      <td>land_use_4</td>\n",
       "      <td>CNN</td>\n",
       "      <td>segmentation</td>\n",
       "      <td>This model segmentates the image into 4 differ...</td>\n",
       "      <td>3</td>\n",
       "    </tr>\n",
       "  </tbody>\n",
       "</table>\n",
       "</div>"
      ],
      "text/plain": [
       "      model_name model_type  model_output  \\\n",
       "0  water_quality        MLP    regression   \n",
       "1     land_use_4        CNN  segmentation   \n",
       "\n",
       "                                   model_description  output_image_id  \n",
       "0                                                                   1  \n",
       "1  This model segmentates the image into 4 differ...                3  "
      ]
     },
     "execution_count": 43,
     "metadata": {},
     "output_type": "execute_result"
    }
   ],
   "source": [
    "SkyPredictor.models"
   ]
  },
  {
   "cell_type": "code",
   "execution_count": 44,
   "metadata": {},
   "outputs": [
    {
     "name": "stdout",
     "output_type": "stream",
     "text": [
      "The water_quality model has the following versions: [1582126498, 1582128515, 1582131333]\n"
     ]
    }
   ],
   "source": [
    "versions = SkyPredictor.select_model(model_name='water_quality')"
   ]
  },
  {
   "cell_type": "markdown",
   "metadata": {},
   "source": [
    "### Select version"
   ]
  },
  {
   "cell_type": "code",
   "execution_count": 45,
   "metadata": {},
   "outputs": [
    {
     "name": "stdout",
     "output_type": "stream",
     "text": [
      "Selected version name: v1582131333\n",
      "Datasets:  ['Sentinel-2-Top-of-Atmosphere-Reflectance', 'Lake-Water-Quality-100m']\n",
      "Bands:  [['B2', 'B3', 'B4', 'B5', 'ndvi', 'ndwi'], ['turbidity_blended_mean']]\n",
      "scale:  100.0\n",
      "init_date:  2019-01-21\n",
      "end_date:  2019-01-31\n"
     ]
    }
   ],
   "source": [
    "SkyPredictor.select_version(version=versions[2])"
   ]
  },
  {
   "cell_type": "markdown",
   "metadata": {},
   "source": [
    "## Creation of Geostore\n",
    "\n",
    "We select the areas in which we will perform the prediction."
   ]
  },
  {
   "cell_type": "code",
   "execution_count": 46,
   "metadata": {},
   "outputs": [],
   "source": [
    "atts={'geojson': {'type': 'FeatureCollection',\n",
    "  'features': [{'type': 'Feature',\n",
    "    'properties': {},\n",
    "    'geometry': {'type': 'Polygon',\n",
    "     'coordinates': [[[0.5548095703125, 40.496048060627885],\n",
    "                      [0.9558105468749999,40.496048060627885],\n",
    "                      [0.9558105468749999,40.83667117059108],\n",
    "                      [0.5548095703125,40.83667117059108],\n",
    "                      [0.5548095703125,40.496048060627885]]]}}]}}\n",
    "\n",
    "atts={'geojson': {'type': 'FeatureCollection',\n",
    "  'features': [{'type': 'Feature',\n",
    "    'properties': {},\n",
    "    'geometry': {'type': 'Polygon',\n",
    "     'coordinates': [[[-6.56982421875,36.52950186333475],\n",
    "                      [-6.208648681640625,36.52950186333475],\n",
    "                      [-6.208648681640625,36.81917959744268],\n",
    "                      [-6.56982421875,36.81917959744268],\n",
    "                      [-6.56982421875,36.52950186333475]]]}}]}}"
   ]
  },
  {
   "cell_type": "code",
   "execution_count": 47,
   "metadata": {},
   "outputs": [
    {
     "data": {
      "text/html": [
       "<div style=\"width:100%;\"><div style=\"position:relative;width:100%;height:0;padding-bottom:60%;\"><iframe src=\"about:blank\" style=\"position:absolute;width:100%;height:100%;left:0;top:0;border:none !important;\" data-html=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 onload=\"this.contentDocument.open();this.contentDocument.write(atob(this.getAttribute('data-html')));this.contentDocument.close();\" allowfullscreen webkitallowfullscreen mozallowfullscreen></iframe></div></div>"
      ],
      "text/plain": [
       "<folium.folium.Map at 0x13a9ad990>"
      ]
     },
     "execution_count": 47,
     "metadata": {},
     "output_type": "execute_result"
    }
   ],
   "source": [
    "SkyPredictor.create_geostore_from_geojson(atts)"
   ]
  },
  {
   "cell_type": "markdown",
   "metadata": {},
   "source": [
    "## Predicting in AI Platform"
   ]
  },
  {
   "cell_type": "code",
   "execution_count": 48,
   "metadata": {},
   "outputs": [
    {
     "data": {
      "text/html": [
       "<div style=\"width:100%;\"><div style=\"position:relative;width:100%;height:0;padding-bottom:60%;\"><iframe src=\"about:blank\" style=\"position:absolute;width:100%;height:100%;left:0;top:0;border:none !important;\" data-html=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 onload=\"this.contentDocument.open();this.contentDocument.write(atob(this.getAttribute('data-html')));this.contentDocument.close();\" allowfullscreen webkitallowfullscreen mozallowfullscreen></iframe></div></div>"
      ],
      "text/plain": [
       "<folium.folium.Map at 0x13a99ce90>"
      ]
     },
     "execution_count": 48,
     "metadata": {},
     "output_type": "execute_result"
    }
   ],
   "source": [
    "SkyPredictor.predict_ai_platform(init_date='2019-04-11', end_date='2019-04-21', min=0, max=3)"
   ]
  }
 ],
 "metadata": {
  "kernelspec": {
   "display_name": "Python 3",
   "language": "python",
   "name": "python3"
  },
  "language_info": {
   "codemirror_mode": {
    "name": "ipython",
    "version": 3
   },
   "file_extension": ".py",
   "mimetype": "text/x-python",
   "name": "python",
   "nbconvert_exporter": "python",
   "pygments_lexer": "ipython3",
   "version": "3.7.6"
  }
 },
 "nbformat": 4,
 "nbformat_minor": 4
}
