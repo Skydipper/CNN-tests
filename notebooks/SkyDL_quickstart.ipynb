{
 "cells": [
  {
   "cell_type": "markdown",
   "metadata": {},
   "source": [
    "# Deep Learning with SkyDL\n",
    "**Setup software libraries**"
   ]
  },
  {
   "cell_type": "code",
   "execution_count": 1,
   "metadata": {},
   "outputs": [],
   "source": [
    "from SkyDL import skydl\n",
    "import env"
   ]
  },
  {
   "cell_type": "markdown",
   "metadata": {},
   "source": [
    "**Create `SkyDL` object**"
   ]
  },
  {
   "cell_type": "code",
   "execution_count": 2,
   "metadata": {},
   "outputs": [],
   "source": [
    "SkyTrainer = skydl.Trainer(privatekey_path = env.privatekey_path)"
   ]
  },
  {
   "cell_type": "markdown",
   "metadata": {},
   "source": [
    "**Get token**"
   ]
  },
  {
   "cell_type": "code",
   "execution_count": 3,
   "metadata": {},
   "outputs": [
    {
     "name": "stdin",
     "output_type": "stream",
     "text": [
      "Skydipper login password: ·········\n"
     ]
    }
   ],
   "source": [
    "SkyTrainer.get_token(email='iker.sanchez@vizzuality.com')"
   ]
  },
  {
   "cell_type": "markdown",
   "metadata": {},
   "source": [
    "## Database"
   ]
  },
  {
   "cell_type": "markdown",
   "metadata": {},
   "source": [
    "**Retrive table names of the database**"
   ]
  },
  {
   "cell_type": "code",
   "execution_count": 4,
   "metadata": {},
   "outputs": [
    {
     "data": {
      "text/plain": [
       "['model', 'image', 'model_versions', 'dataset']"
      ]
     },
     "execution_count": 4,
     "metadata": {},
     "output_type": "execute_result"
    }
   ],
   "source": [
    "SkyTrainer.table_names"
   ]
  },
  {
   "cell_type": "markdown",
   "metadata": {},
   "source": [
    "**Retrieve table from database**"
   ]
  },
  {
   "cell_type": "code",
   "execution_count": 5,
   "metadata": {},
   "outputs": [
    {
     "data": {
      "text/html": [
       "<div>\n",
       "<style scoped>\n",
       "    .dataframe tbody tr th:only-of-type {\n",
       "        vertical-align: middle;\n",
       "    }\n",
       "\n",
       "    .dataframe tbody tr th {\n",
       "        vertical-align: top;\n",
       "    }\n",
       "\n",
       "    .dataframe thead th {\n",
       "        text-align: right;\n",
       "    }\n",
       "</style>\n",
       "<table border=\"1\" class=\"dataframe\">\n",
       "  <thead>\n",
       "    <tr style=\"text-align: right;\">\n",
       "      <th></th>\n",
       "      <th>slug</th>\n",
       "      <th>name</th>\n",
       "      <th>bands</th>\n",
       "      <th>rgb_bands</th>\n",
       "      <th>provider</th>\n",
       "    </tr>\n",
       "  </thead>\n",
       "  <tbody>\n",
       "    <tr>\n",
       "      <th>0</th>\n",
       "      <td>Sentinel-2-Top-of-Atmosphere-Reflectance</td>\n",
       "      <td>Sentinel 2 Top-of-Atmosphere Reflectance</td>\n",
       "      <td>['B1', 'B2', 'B3', 'B4', 'B5', 'B6', 'B7', 'B8...</td>\n",
       "      <td>['B4', 'B3', 'B2']</td>\n",
       "      <td>gee</td>\n",
       "    </tr>\n",
       "    <tr>\n",
       "      <th>1</th>\n",
       "      <td>Landsat-7-Surface-Reflectance</td>\n",
       "      <td>Landsat 7 Surface Reflectance</td>\n",
       "      <td>['B1', 'B2', 'B3', 'B4', 'B5', 'B6', 'B7', 'nd...</td>\n",
       "      <td>['B3', 'B2', 'B1']</td>\n",
       "      <td>gee</td>\n",
       "    </tr>\n",
       "    <tr>\n",
       "      <th>2</th>\n",
       "      <td>Landsat-8-Surface-Reflectance</td>\n",
       "      <td>Landsat 8 Surface Reflectance</td>\n",
       "      <td>['B1', 'B2', 'B3', 'B4', 'B5', 'B6', 'B7', 'B1...</td>\n",
       "      <td>['B4', 'B3', 'B2']</td>\n",
       "      <td>gee</td>\n",
       "    </tr>\n",
       "    <tr>\n",
       "      <th>3</th>\n",
       "      <td>USDA-NASS-Cropland-Data-Layers</td>\n",
       "      <td>USDA NASS Cropland Data Layers</td>\n",
       "      <td>['landcover', 'cropland', 'land', 'water', 'ur...</td>\n",
       "      <td>['landcover']</td>\n",
       "      <td>gee</td>\n",
       "    </tr>\n",
       "    <tr>\n",
       "      <th>4</th>\n",
       "      <td>USGS-National-Land-Cover-Database</td>\n",
       "      <td>USGS National Land Cover Database</td>\n",
       "      <td>['impervious']</td>\n",
       "      <td>['impervious']</td>\n",
       "      <td>gee</td>\n",
       "    </tr>\n",
       "    <tr>\n",
       "      <th>5</th>\n",
       "      <td>Lake-Water-Quality-100m</td>\n",
       "      <td>Lake Water Quality 100m</td>\n",
       "      <td>['turbidity_blended_mean']</td>\n",
       "      <td>['turbidity_blended_mean']</td>\n",
       "      <td>gee</td>\n",
       "    </tr>\n",
       "  </tbody>\n",
       "</table>\n",
       "</div>"
      ],
      "text/plain": [
       "                                       slug  \\\n",
       "0  Sentinel-2-Top-of-Atmosphere-Reflectance   \n",
       "1             Landsat-7-Surface-Reflectance   \n",
       "2             Landsat-8-Surface-Reflectance   \n",
       "3            USDA-NASS-Cropland-Data-Layers   \n",
       "4         USGS-National-Land-Cover-Database   \n",
       "5                   Lake-Water-Quality-100m   \n",
       "\n",
       "                                       name  \\\n",
       "0  Sentinel 2 Top-of-Atmosphere Reflectance   \n",
       "1             Landsat 7 Surface Reflectance   \n",
       "2             Landsat 8 Surface Reflectance   \n",
       "3            USDA NASS Cropland Data Layers   \n",
       "4         USGS National Land Cover Database   \n",
       "5                   Lake Water Quality 100m   \n",
       "\n",
       "                                               bands  \\\n",
       "0  ['B1', 'B2', 'B3', 'B4', 'B5', 'B6', 'B7', 'B8...   \n",
       "1  ['B1', 'B2', 'B3', 'B4', 'B5', 'B6', 'B7', 'nd...   \n",
       "2  ['B1', 'B2', 'B3', 'B4', 'B5', 'B6', 'B7', 'B1...   \n",
       "3  ['landcover', 'cropland', 'land', 'water', 'ur...   \n",
       "4                                     ['impervious']   \n",
       "5                         ['turbidity_blended_mean']   \n",
       "\n",
       "                    rgb_bands provider  \n",
       "0          ['B4', 'B3', 'B2']      gee  \n",
       "1          ['B3', 'B2', 'B1']      gee  \n",
       "2          ['B4', 'B3', 'B2']      gee  \n",
       "3               ['landcover']      gee  \n",
       "4              ['impervious']      gee  \n",
       "5  ['turbidity_blended_mean']      gee  "
      ]
     },
     "execution_count": 5,
     "metadata": {},
     "output_type": "execute_result"
    }
   ],
   "source": [
    "SkyTrainer.get_table(table_name='dataset')"
   ]
  },
  {
   "cell_type": "markdown",
   "metadata": {},
   "source": [
    "## Skydipper datasets for Deep Learning"
   ]
  },
  {
   "cell_type": "code",
   "execution_count": 6,
   "metadata": {},
   "outputs": [],
   "source": [
    "#SkyTrainer.datasets_api "
   ]
  },
  {
   "cell_type": "markdown",
   "metadata": {},
   "source": [
    "## Image composites"
   ]
  },
  {
   "cell_type": "code",
   "execution_count": 7,
   "metadata": {},
   "outputs": [
    {
     "data": {
      "text/html": [
       "<div style=\"width:100%;\"><div style=\"position:relative;width:100%;height:0;padding-bottom:60%;\"><iframe src=\"data:text/html;charset=utf-8;base64,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\" style=\"position:absolute;width:100%;height:100%;left:0;top:0;border:none !important;\" allowfullscreen webkitallowfullscreen mozallowfullscreen></iframe></div></div>"
      ],
      "text/plain": [
       "<folium.folium.Map at 0x117fcec50>"
      ]
     },
     "execution_count": 7,
     "metadata": {},
     "output_type": "execute_result"
    }
   ],
   "source": [
    "SkyTrainer.composite(slugs=['Sentinel-2-Top-of-Atmosphere-Reflectance', 'Lake-Water-Quality-100m'],\\\n",
    "              init_date = '2019-01-21', end_date = '2019-01-31', zoom=6)"
   ]
  },
  {
   "cell_type": "markdown",
   "metadata": {},
   "source": [
    "Check the composites as ee.Images"
   ]
  },
  {
   "cell_type": "code",
   "execution_count": 8,
   "metadata": {},
   "outputs": [
    {
     "data": {
      "text/plain": [
       "[<ee.image.Image at 0x109e582e8>, <ee.image.Image at 0x11812b630>]"
      ]
     },
     "execution_count": 8,
     "metadata": {},
     "output_type": "execute_result"
    }
   ],
   "source": [
    "SkyTrainer.composites"
   ]
  },
  {
   "cell_type": "markdown",
   "metadata": {},
   "source": [
    "## Creation of Geostore\n",
    "\n",
    "We select the areas from which we will export the training data."
   ]
  },
  {
   "cell_type": "code",
   "execution_count": 9,
   "metadata": {},
   "outputs": [],
   "source": [
    "train_atts = {\"type\":\"FeatureCollection\",\n",
    "              \"features\":[\n",
    "                  {\"type\":\"Feature\",\n",
    "                   \"properties\":{},\n",
    "                   \"geometry\":{\n",
    "                       \"type\":\"Polygon\",\n",
    "                       \"coordinates\":[[[-0.406494140625,38.64476310916202],\n",
    "                                       [0.27740478515625,38.64476310916202],\n",
    "                                       [0.27740478515625,39.74521015328692],\n",
    "                                       [-0.406494140625,39.74521015328692],\n",
    "                                       [-0.406494140625,38.64476310916202]]]\n",
    "                   }\n",
    "                  },\n",
    "                  {\"type\":\"Feature\",\n",
    "                   \"properties\":{},\n",
    "                   \"geometry\":{\n",
    "                       \"type\":\"Polygon\",\n",
    "                       \"coordinates\":[[[-1.70013427734375,35.15135442846945],\n",
    "                                       [-0.703125,35.15135442846945],\n",
    "                                       [-0.703125,35.94688293218141],\n",
    "                                       [-1.70013427734375,35.94688293218141],\n",
    "                                       [-1.70013427734375,35.15135442846945]]]\n",
    "                   }\n",
    "                  }\n",
    "              ]\n",
    "             }\n",
    "\n",
    "train_atts = {\"type\":\"FeatureCollection\",\n",
    "              \"features\":[\n",
    "                  {\"type\":\"Feature\",\n",
    "                   \"properties\":{},\n",
    "                   \"geometry\":{\n",
    "                       \"type\":\"Polygon\",\n",
    "                       \"coordinates\":[[[-0.406494140625,38.64476310916202],\n",
    "                                       [0.28,38.64476310916202],\n",
    "                                       [0.28,39.74521015328692],\n",
    "                                       [-0.406494140625,39.74521015328692],\n",
    "                                       [-0.406494140625,38.64476310916202]]]\n",
    "                   }\n",
    "                  },\n",
    "                  {\"type\":\"Feature\",\n",
    "                   \"properties\":{},\n",
    "                   \"geometry\":{\n",
    "                       \"type\":\"Polygon\",\n",
    "                       \"coordinates\":[[[-1.70013427734375,35.15135442846945],\n",
    "                                       [-0.703125,35.15135442846945],\n",
    "                                       [-0.703125,35.94688293218141],\n",
    "                                       [-1.70013427734375,35.94688293218141],\n",
    "                                       [-1.70013427734375,35.15135442846945]]]\n",
    "                   }\n",
    "                  }\n",
    "              ]\n",
    "             }\n",
    "\n",
    "valid_atts = None\n",
    "test_atts = None"
   ]
  },
  {
   "cell_type": "code",
   "execution_count": 10,
   "metadata": {},
   "outputs": [
    {
     "name": "stdout",
     "output_type": "stream",
     "text": [
      "Number of training polygons: 2\n"
     ]
    },
    {
     "data": {
      "text/html": [
       "<div style=\"width:100%;\"><div style=\"position:relative;width:100%;height:0;padding-bottom:60%;\"><iframe src=\"data:text/html;charset=utf-8;base64,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\" style=\"position:absolute;width:100%;height:100%;left:0;top:0;border:none !important;\" allowfullscreen webkitallowfullscreen mozallowfullscreen></iframe></div></div>"
      ],
      "text/plain": [
       "<folium.folium.Map at 0x117fb8be0>"
      ]
     },
     "execution_count": 10,
     "metadata": {},
     "output_type": "execute_result"
    }
   ],
   "source": [
    "SkyTrainer.create_geostore_from_geojson(attributes=[train_atts, valid_atts, test_atts])"
   ]
  },
  {
   "cell_type": "markdown",
   "metadata": {},
   "source": [
    "Check geostore object"
   ]
  },
  {
   "cell_type": "code",
   "execution_count": 11,
   "metadata": {},
   "outputs": [
    {
     "data": {
      "text/plain": [
       "{'geojson': {'type': 'FeatureCollection',\n",
       "  'features': [{'type': 'Feature',\n",
       "    'properties': {'name': 'training'},\n",
       "    'geometry': {'type': 'MultiPolygon',\n",
       "     'coordinates': [[[[-0.406494140625, 38.64476310916202],\n",
       "        [0.28, 38.64476310916202],\n",
       "        [0.28, 39.74521015328692],\n",
       "        [-0.406494140625, 39.74521015328692],\n",
       "        [-0.406494140625, 38.64476310916202]]],\n",
       "      [[[-1.70013427734375, 35.15135442846945],\n",
       "        [-0.703125, 35.15135442846945],\n",
       "        [-0.703125, 35.94688293218141],\n",
       "        [-1.70013427734375, 35.94688293218141],\n",
       "        [-1.70013427734375, 35.15135442846945]]]]}}]}}"
      ]
     },
     "execution_count": 11,
     "metadata": {},
     "output_type": "execute_result"
    }
   ],
   "source": [
    "SkyTrainer.geostore"
   ]
  },
  {
   "cell_type": "code",
   "execution_count": 12,
   "metadata": {},
   "outputs": [
    {
     "data": {
      "text/plain": [
       "{'training': 2}"
      ]
     },
     "execution_count": 12,
     "metadata": {},
     "output_type": "execute_result"
    }
   ],
   "source": [
    "SkyTrainer.nPolygons"
   ]
  },
  {
   "cell_type": "markdown",
   "metadata": {},
   "source": [
    "Check geostore object on a server and display it on map"
   ]
  },
  {
   "cell_type": "code",
   "execution_count": 13,
   "metadata": {},
   "outputs": [],
   "source": [
    "#SkyTrainer.multipolygon"
   ]
  },
  {
   "cell_type": "code",
   "execution_count": 14,
   "metadata": {},
   "outputs": [],
   "source": [
    "#SkyTrainer.multipolygon.map()"
   ]
  },
  {
   "cell_type": "markdown",
   "metadata": {},
   "source": [
    "## Data pre-processing\n",
    "\n",
    "We normalize the composite images to have values from 0 to 1."
   ]
  },
  {
   "cell_type": "code",
   "execution_count": 15,
   "metadata": {},
   "outputs": [
    {
     "data": {
      "text/html": [
       "<div style=\"width:100%;\"><div style=\"position:relative;width:100%;height:0;padding-bottom:60%;\"><iframe src=\"data:text/html;charset=utf-8;base64,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\" style=\"position:absolute;width:100%;height:100%;left:0;top:0;border:none !important;\" allowfullscreen webkitallowfullscreen mozallowfullscreen></iframe></div></div>"
      ],
      "text/plain": [
       "<folium.folium.Map at 0x117d9c9b0>"
      ]
     },
     "execution_count": 15,
     "metadata": {},
     "output_type": "execute_result"
    }
   ],
   "source": [
    "SkyTrainer.normalize_images(scale=100, norm_type='geostore')"
   ]
  },
  {
   "cell_type": "markdown",
   "metadata": {},
   "source": [
    "Check the normalized composites as ee.Images"
   ]
  },
  {
   "cell_type": "code",
   "execution_count": 16,
   "metadata": {},
   "outputs": [
    {
     "data": {
      "text/plain": [
       "[<ee.image.Image at 0x1181d0898>, <ee.image.Image at 0x1181bf2e8>]"
      ]
     },
     "execution_count": 16,
     "metadata": {},
     "output_type": "execute_result"
    }
   ],
   "source": [
    "SkyTrainer.norm_composites"
   ]
  },
  {
   "cell_type": "markdown",
   "metadata": {},
   "source": [
    "### Select input/output bands"
   ]
  },
  {
   "cell_type": "code",
   "execution_count": 17,
   "metadata": {},
   "outputs": [],
   "source": [
    "SkyTrainer.select_bands(input_bands = ['B2','B3','B4','B5','ndvi','ndwi'],\\\n",
    "                 output_bands = ['turbidity_blended_mean'])"
   ]
  },
  {
   "cell_type": "code",
   "execution_count": 18,
   "metadata": {},
   "outputs": [
    {
     "data": {
      "text/html": [
       "<div>\n",
       "<style scoped>\n",
       "    .dataframe tbody tr th:only-of-type {\n",
       "        vertical-align: middle;\n",
       "    }\n",
       "\n",
       "    .dataframe tbody tr th {\n",
       "        vertical-align: top;\n",
       "    }\n",
       "\n",
       "    .dataframe thead th {\n",
       "        text-align: right;\n",
       "    }\n",
       "</style>\n",
       "<table border=\"1\" class=\"dataframe\">\n",
       "  <thead>\n",
       "    <tr style=\"text-align: right;\">\n",
       "      <th></th>\n",
       "      <th>dataset_id</th>\n",
       "      <th>bands_selections</th>\n",
       "      <th>scale</th>\n",
       "      <th>init_date</th>\n",
       "      <th>end_date</th>\n",
       "      <th>bands_min_max</th>\n",
       "      <th>norm_type</th>\n",
       "    </tr>\n",
       "  </thead>\n",
       "  <tbody>\n",
       "    <tr>\n",
       "      <th>0</th>\n",
       "      <td>0</td>\n",
       "      <td>['B2', 'B3', 'B4', 'B5', 'ndvi', 'ndwi']</td>\n",
       "      <td>100.0</td>\n",
       "      <td>2019-01-21</td>\n",
       "      <td>2019-01-31</td>\n",
       "      <td>{\"B11_max\": 10857.5, \"B11_min\": 7.0, \"B12_max\"...</td>\n",
       "      <td>geostore</td>\n",
       "    </tr>\n",
       "    <tr>\n",
       "      <th>1</th>\n",
       "      <td>5</td>\n",
       "      <td>['turbidity_blended_mean']</td>\n",
       "      <td>100.0</td>\n",
       "      <td>2019-01-21</td>\n",
       "      <td>2019-01-31</td>\n",
       "      <td>{}</td>\n",
       "      <td>geostore</td>\n",
       "    </tr>\n",
       "    <tr>\n",
       "      <th>2</th>\n",
       "      <td>0</td>\n",
       "      <td>['B2', 'B3', 'B4', 'B5', 'ndvi', 'ndwi']</td>\n",
       "      <td>100.0</td>\n",
       "      <td>2019-01-21</td>\n",
       "      <td>2019-01-31</td>\n",
       "      <td>{\"B11_max\": 10857.5, \"B11_min\": 7.0, \"B12_max\"...</td>\n",
       "      <td>geostore</td>\n",
       "    </tr>\n",
       "  </tbody>\n",
       "</table>\n",
       "</div>"
      ],
      "text/plain": [
       "   dataset_id                          bands_selections  scale   init_date  \\\n",
       "0           0  ['B2', 'B3', 'B4', 'B5', 'ndvi', 'ndwi']  100.0  2019-01-21   \n",
       "1           5                ['turbidity_blended_mean']  100.0  2019-01-21   \n",
       "2           0  ['B2', 'B3', 'B4', 'B5', 'ndvi', 'ndwi']  100.0  2019-01-21   \n",
       "\n",
       "     end_date                                      bands_min_max norm_type  \n",
       "0  2019-01-31  {\"B11_max\": 10857.5, \"B11_min\": 7.0, \"B12_max\"...  geostore  \n",
       "1  2019-01-31                                                 {}  geostore  \n",
       "2  2019-01-31  {\"B11_max\": 10857.5, \"B11_min\": 7.0, \"B12_max\"...  geostore  "
      ]
     },
     "execution_count": 18,
     "metadata": {},
     "output_type": "execute_result"
    }
   ],
   "source": [
    "SkyTrainer.images"
   ]
  },
  {
   "cell_type": "markdown",
   "metadata": {},
   "source": [
    "## Create TFRecords for training"
   ]
  },
  {
   "cell_type": "code",
   "execution_count": 19,
   "metadata": {},
   "outputs": [],
   "source": [
    "SkyTrainer.export_TFRecords(sample_size = 20000, kernel_size = 1)"
   ]
  },
  {
   "cell_type": "code",
   "execution_count": 20,
   "metadata": {},
   "outputs": [
    {
     "data": {
      "text/html": [
       "<div>\n",
       "<style scoped>\n",
       "    .dataframe tbody tr th:only-of-type {\n",
       "        vertical-align: middle;\n",
       "    }\n",
       "\n",
       "    .dataframe tbody tr th {\n",
       "        vertical-align: top;\n",
       "    }\n",
       "\n",
       "    .dataframe thead th {\n",
       "        text-align: right;\n",
       "    }\n",
       "</style>\n",
       "<table border=\"1\" class=\"dataframe\">\n",
       "  <thead>\n",
       "    <tr style=\"text-align: right;\">\n",
       "      <th></th>\n",
       "      <th>model_id</th>\n",
       "      <th>model_architecture</th>\n",
       "      <th>input_image_id</th>\n",
       "      <th>output_image_id</th>\n",
       "      <th>geostore_id</th>\n",
       "      <th>kernel_size</th>\n",
       "      <th>sample_size</th>\n",
       "      <th>training_params</th>\n",
       "      <th>version</th>\n",
       "      <th>data_status</th>\n",
       "      <th>training_status</th>\n",
       "      <th>eeified</th>\n",
       "      <th>deployed</th>\n",
       "    </tr>\n",
       "  </thead>\n",
       "  <tbody>\n",
       "    <tr>\n",
       "      <th>0</th>\n",
       "      <td>-9999</td>\n",
       "      <td></td>\n",
       "      <td>0</td>\n",
       "      <td>1</td>\n",
       "      <td>cc1d5d3dee2c8a6e9a4d10f74f7747a9</td>\n",
       "      <td>1</td>\n",
       "      <td>20000</td>\n",
       "      <td>{}</td>\n",
       "      <td>-9999</td>\n",
       "      <td>COMPLETED</td>\n",
       "      <td></td>\n",
       "      <td>False</td>\n",
       "      <td>False</td>\n",
       "    </tr>\n",
       "  </tbody>\n",
       "</table>\n",
       "</div>"
      ],
      "text/plain": [
       "   model_id model_architecture  input_image_id  output_image_id  \\\n",
       "0     -9999                                  0                1   \n",
       "\n",
       "                        geostore_id  kernel_size  sample_size training_params  \\\n",
       "0  cc1d5d3dee2c8a6e9a4d10f74f7747a9            1        20000              {}   \n",
       "\n",
       "   version data_status training_status  eeified  deployed  \n",
       "0    -9999   COMPLETED                    False     False  "
      ]
     },
     "execution_count": 20,
     "metadata": {},
     "output_type": "execute_result"
    }
   ],
   "source": [
    "SkyTrainer.versions"
   ]
  },
  {
   "cell_type": "markdown",
   "metadata": {},
   "source": [
    "## Training the model in AI Platform"
   ]
  },
  {
   "cell_type": "code",
   "execution_count": 21,
   "metadata": {},
   "outputs": [
    {
     "name": "stdout",
     "output_type": "stream",
     "text": [
      "Model name assigned: water_quality with description: \n",
      "Create new version\n",
      "Creating training job: job_v1581696278\n",
      "{'jobId': 'job_v1581696278', 'trainingInput': {'scaleTier': 'CUSTOM', 'masterType': 'large_model_v100', 'packageUris': ['gs://geo-ai/Train/trainer-0.2.tar.gz'], 'pythonModule': 'trainer.task', 'args': ['--params-file', 'Models/0/1581696278/training_params.json'], 'region': 'us-central1', 'runtimeVersion': '1.14', 'jobDir': 'gs://geo-ai/Models/0/1581696278/', 'pythonVersion': '3.5'}, 'createTime': '2020-02-14T16:04:43Z', 'state': 'QUEUED', 'trainingOutput': {}, 'etag': 'H06ODDFk920='}\n"
     ]
    },
    {
     "ename": "TypeError",
     "evalue": "Got an unexpected keyword argument \"body\"",
     "output_type": "error",
     "traceback": [
      "\u001b[0;31m---------------------------------------------------------------------------\u001b[0m",
      "\u001b[0;31mTypeError\u001b[0m                                 Traceback (most recent call last)",
      "\u001b[0;32m<ipython-input-21-dac44596d95f>\u001b[0m in \u001b[0;36m<module>\u001b[0;34m\u001b[0m\n\u001b[1;32m      1\u001b[0m SkyTrainer.train_model_ai_platform(model_type='MLP', model_output='regression', model_architecture='sequential1',\\\n\u001b[0;32m----> 2\u001b[0;31m                                    model_name='water_quality', batch_size=4)\n\u001b[0m",
      "\u001b[0;32m~/Vizzuality/GitHub/Skydipper/CNN-tests/notebooks/SkyDL/skydl.py\u001b[0m in \u001b[0;36mtrain_model_ai_platform\u001b[0;34m(self, model_type, model_output, model_architecture, model_name, model_description, output_activation, batch_size, epochs, shuffle_size, learning_rate, loss, metrics)\u001b[0m\n\u001b[1;32m    818\u001b[0m         \u001b[0;31m# Save training status\u001b[0m\u001b[0;34m\u001b[0m\u001b[0;34m\u001b[0m\u001b[0;34m\u001b[0m\u001b[0m\n\u001b[1;32m    819\u001b[0m         self.request_get = ml.projects().jobs().get(body=job_spec,\n\u001b[0;32m--> 820\u001b[0;31m               parent=project)\n\u001b[0m\u001b[1;32m    821\u001b[0m         \u001b[0mself\u001b[0m\u001b[0;34m.\u001b[0m\u001b[0mresponse_get\u001b[0m \u001b[0;34m=\u001b[0m \u001b[0mself\u001b[0m\u001b[0;34m.\u001b[0m\u001b[0mrequest_get\u001b[0m\u001b[0;34m.\u001b[0m\u001b[0mexecute\u001b[0m\u001b[0;34m(\u001b[0m\u001b[0;34m)\u001b[0m\u001b[0;34m\u001b[0m\u001b[0;34m\u001b[0m\u001b[0m\n\u001b[1;32m    822\u001b[0m \u001b[0;34m\u001b[0m\u001b[0m\n",
      "\u001b[0;32m~/anaconda3/envs/py36tf115/lib/python3.6/site-packages/googleapiclient/discovery.py\u001b[0m in \u001b[0;36mmethod\u001b[0;34m(self, **kwargs)\u001b[0m\n\u001b[1;32m    715\u001b[0m     \u001b[0;32mfor\u001b[0m \u001b[0mname\u001b[0m \u001b[0;32min\u001b[0m \u001b[0msix\u001b[0m\u001b[0;34m.\u001b[0m\u001b[0miterkeys\u001b[0m\u001b[0;34m(\u001b[0m\u001b[0mkwargs\u001b[0m\u001b[0;34m)\u001b[0m\u001b[0;34m:\u001b[0m\u001b[0;34m\u001b[0m\u001b[0;34m\u001b[0m\u001b[0m\n\u001b[1;32m    716\u001b[0m       \u001b[0;32mif\u001b[0m \u001b[0mname\u001b[0m \u001b[0;32mnot\u001b[0m \u001b[0;32min\u001b[0m \u001b[0mparameters\u001b[0m\u001b[0;34m.\u001b[0m\u001b[0margmap\u001b[0m\u001b[0;34m:\u001b[0m\u001b[0;34m\u001b[0m\u001b[0;34m\u001b[0m\u001b[0m\n\u001b[0;32m--> 717\u001b[0;31m         \u001b[0;32mraise\u001b[0m \u001b[0mTypeError\u001b[0m\u001b[0;34m(\u001b[0m\u001b[0;34m'Got an unexpected keyword argument \"%s\"'\u001b[0m \u001b[0;34m%\u001b[0m \u001b[0mname\u001b[0m\u001b[0;34m)\u001b[0m\u001b[0;34m\u001b[0m\u001b[0;34m\u001b[0m\u001b[0m\n\u001b[0m\u001b[1;32m    718\u001b[0m \u001b[0;34m\u001b[0m\u001b[0m\n\u001b[1;32m    719\u001b[0m     \u001b[0;31m# Remove args that have a value of None.\u001b[0m\u001b[0;34m\u001b[0m\u001b[0;34m\u001b[0m\u001b[0;34m\u001b[0m\u001b[0m\n",
      "\u001b[0;31mTypeError\u001b[0m: Got an unexpected keyword argument \"body\""
     ]
    }
   ],
   "source": [
    "SkyTrainer.train_model_ai_platform(model_type='MLP', model_output='regression', model_architecture='sequential1',\\\n",
    "                                   model_name='water_quality', batch_size=4)"
   ]
  },
  {
   "cell_type": "code",
   "execution_count": 22,
   "metadata": {},
   "outputs": [
    {
     "data": {
      "text/plain": [
       "{'bucket': 'geo-ai',\n",
       " 'base_names': ['training_pixels', 'validation_pixels', 'test_pixels'],\n",
       " 'data_dir': 'gs://geo-ai/Data/0_1/cc1d5d3dee2c8a6e9a4d10f74f7747a9/1/20000',\n",
       " 'in_bands': ['B2', 'B3', 'B4', 'B5', 'ndvi', 'ndwi'],\n",
       " 'out_bands': ['turbidity_blended_mean'],\n",
       " 'kernel_size': 1,\n",
       " 'training_size': 7071,\n",
       " 'validation_size': 2309,\n",
       " 'model_type': 'MLP',\n",
       " 'model_output': 'regression',\n",
       " 'model_architecture': 'sequential1',\n",
       " 'output_activation': '',\n",
       " 'batch_size': 4,\n",
       " 'epochs': 25,\n",
       " 'shuffle_size': 2000,\n",
       " 'learning_rate': 0.001,\n",
       " 'loss': 'mse',\n",
       " 'metrics': ['mse'],\n",
       " 'job_dir': 'gs://geo-ai/Models/0/1581696278/'}"
      ]
     },
     "execution_count": 22,
     "metadata": {},
     "output_type": "execute_result"
    }
   ],
   "source": [
    "SkyTrainer.training_params"
   ]
  },
  {
   "cell_type": "code",
   "execution_count": 23,
   "metadata": {},
   "outputs": [
    {
     "data": {
      "text/html": [
       "<div>\n",
       "<style scoped>\n",
       "    .dataframe tbody tr th:only-of-type {\n",
       "        vertical-align: middle;\n",
       "    }\n",
       "\n",
       "    .dataframe tbody tr th {\n",
       "        vertical-align: top;\n",
       "    }\n",
       "\n",
       "    .dataframe thead th {\n",
       "        text-align: right;\n",
       "    }\n",
       "</style>\n",
       "<table border=\"1\" class=\"dataframe\">\n",
       "  <thead>\n",
       "    <tr style=\"text-align: right;\">\n",
       "      <th></th>\n",
       "      <th>model_id</th>\n",
       "      <th>model_architecture</th>\n",
       "      <th>input_image_id</th>\n",
       "      <th>output_image_id</th>\n",
       "      <th>geostore_id</th>\n",
       "      <th>kernel_size</th>\n",
       "      <th>sample_size</th>\n",
       "      <th>training_params</th>\n",
       "      <th>version</th>\n",
       "      <th>data_status</th>\n",
       "      <th>training_status</th>\n",
       "      <th>eeified</th>\n",
       "      <th>deployed</th>\n",
       "    </tr>\n",
       "  </thead>\n",
       "  <tbody>\n",
       "    <tr>\n",
       "      <th>0</th>\n",
       "      <td>0</td>\n",
       "      <td>sequential1</td>\n",
       "      <td>0</td>\n",
       "      <td>1</td>\n",
       "      <td>cc1d5d3dee2c8a6e9a4d10f74f7747a9</td>\n",
       "      <td>1</td>\n",
       "      <td>20000</td>\n",
       "      <td>{\"bucket\": \"geo-ai\", \"base_names\": [\"training_...</td>\n",
       "      <td>1581696278</td>\n",
       "      <td>COMPLETED</td>\n",
       "      <td></td>\n",
       "      <td>False</td>\n",
       "      <td>False</td>\n",
       "    </tr>\n",
       "  </tbody>\n",
       "</table>\n",
       "</div>"
      ],
      "text/plain": [
       "   model_id model_architecture  input_image_id  output_image_id  \\\n",
       "0         0        sequential1               0                1   \n",
       "\n",
       "                        geostore_id  kernel_size  sample_size  \\\n",
       "0  cc1d5d3dee2c8a6e9a4d10f74f7747a9            1        20000   \n",
       "\n",
       "                                     training_params     version data_status  \\\n",
       "0  {\"bucket\": \"geo-ai\", \"base_names\": [\"training_...  1581696278   COMPLETED   \n",
       "\n",
       "  training_status  eeified  deployed  \n",
       "0                    False     False  "
      ]
     },
     "execution_count": 23,
     "metadata": {},
     "output_type": "execute_result"
    }
   ],
   "source": [
    "SkyTrainer.versions"
   ]
  },
  {
   "cell_type": "code",
   "execution_count": 24,
   "metadata": {},
   "outputs": [
    {
     "data": {
      "text/html": [
       "<div>\n",
       "<style scoped>\n",
       "    .dataframe tbody tr th:only-of-type {\n",
       "        vertical-align: middle;\n",
       "    }\n",
       "\n",
       "    .dataframe tbody tr th {\n",
       "        vertical-align: top;\n",
       "    }\n",
       "\n",
       "    .dataframe thead th {\n",
       "        text-align: right;\n",
       "    }\n",
       "</style>\n",
       "<table border=\"1\" class=\"dataframe\">\n",
       "  <thead>\n",
       "    <tr style=\"text-align: right;\">\n",
       "      <th></th>\n",
       "      <th>model_name</th>\n",
       "      <th>model_type</th>\n",
       "      <th>model_output</th>\n",
       "      <th>model_description</th>\n",
       "      <th>output_image_id</th>\n",
       "    </tr>\n",
       "  </thead>\n",
       "  <tbody>\n",
       "    <tr>\n",
       "      <th>0</th>\n",
       "      <td>water_quality</td>\n",
       "      <td>MLP</td>\n",
       "      <td>regression</td>\n",
       "      <td></td>\n",
       "      <td>1</td>\n",
       "    </tr>\n",
       "  </tbody>\n",
       "</table>\n",
       "</div>"
      ],
      "text/plain": [
       "      model_name model_type model_output model_description output_image_id\n",
       "0  water_quality        MLP   regression                                 1"
      ]
     },
     "execution_count": 24,
     "metadata": {},
     "output_type": "execute_result"
    }
   ],
   "source": [
    "SkyTrainer.models"
   ]
  },
  {
   "cell_type": "code",
   "execution_count": 25,
   "metadata": {},
   "outputs": [
    {
     "data": {
      "text/html": [
       "<div>\n",
       "<style scoped>\n",
       "    .dataframe tbody tr th:only-of-type {\n",
       "        vertical-align: middle;\n",
       "    }\n",
       "\n",
       "    .dataframe tbody tr th {\n",
       "        vertical-align: top;\n",
       "    }\n",
       "\n",
       "    .dataframe thead th {\n",
       "        text-align: right;\n",
       "    }\n",
       "</style>\n",
       "<table border=\"1\" class=\"dataframe\">\n",
       "  <thead>\n",
       "    <tr style=\"text-align: right;\">\n",
       "      <th></th>\n",
       "      <th>model_id</th>\n",
       "      <th>model_architecture</th>\n",
       "      <th>input_image_id</th>\n",
       "      <th>output_image_id</th>\n",
       "      <th>geostore_id</th>\n",
       "      <th>kernel_size</th>\n",
       "      <th>sample_size</th>\n",
       "      <th>training_params</th>\n",
       "      <th>version</th>\n",
       "      <th>data_status</th>\n",
       "      <th>training_status</th>\n",
       "      <th>eeified</th>\n",
       "      <th>deployed</th>\n",
       "    </tr>\n",
       "  </thead>\n",
       "  <tbody>\n",
       "  </tbody>\n",
       "</table>\n",
       "</div>"
      ],
      "text/plain": [
       "Empty DataFrame\n",
       "Columns: [model_id, model_architecture, input_image_id, output_image_id, geostore_id, kernel_size, sample_size, training_params, version, data_status, training_status, eeified, deployed]\n",
       "Index: []"
      ]
     },
     "execution_count": 25,
     "metadata": {},
     "output_type": "execute_result"
    }
   ],
   "source": [
    "SkyTrainer.versions.drop(index=0)"
   ]
  },
  {
   "cell_type": "code",
   "execution_count": null,
   "metadata": {},
   "outputs": [],
   "source": []
  }
 ],
 "metadata": {
  "kernelspec": {
   "display_name": "Python 3",
   "language": "python",
   "name": "python3"
  },
  "language_info": {
   "codemirror_mode": {
    "name": "ipython",
    "version": 3
   },
   "file_extension": ".py",
   "mimetype": "text/x-python",
   "name": "python",
   "nbconvert_exporter": "python",
   "pygments_lexer": "ipython3",
   "version": "3.6.10"
  }
 },
 "nbformat": 4,
 "nbformat_minor": 4
}
