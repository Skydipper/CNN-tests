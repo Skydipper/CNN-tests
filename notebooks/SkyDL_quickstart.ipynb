{
 "cells": [
  {
   "cell_type": "markdown",
   "metadata": {},
   "source": [
    "# **Deep Learning with SkyDL**\n",
    "**Setup software libraries**"
   ]
  },
  {
   "cell_type": "code",
   "execution_count": 1,
   "metadata": {},
   "outputs": [],
   "source": [
    "from SkyDL import skydl\n",
    "import env"
   ]
  },
  {
   "cell_type": "markdown",
   "metadata": {},
   "source": [
    "## **Training of Deep Learning models**\n",
    "**Create `Trainer` object**"
   ]
  },
  {
   "cell_type": "code",
   "execution_count": 2,
   "metadata": {},
   "outputs": [],
   "source": [
    "SkyTrainer = skydl.Trainer(privatekey_path = env.privatekey_path)"
   ]
  },
  {
   "cell_type": "markdown",
   "metadata": {},
   "source": [
    "**Get token**"
   ]
  },
  {
   "cell_type": "code",
   "execution_count": 3,
   "metadata": {},
   "outputs": [
    {
     "name": "stdin",
     "output_type": "stream",
     "text": [
      "Skydipper login password: ·········\n"
     ]
    }
   ],
   "source": [
    "SkyTrainer.get_token(email='iker.sanchez@vizzuality.com')"
   ]
  },
  {
   "cell_type": "markdown",
   "metadata": {},
   "source": [
    "## Database\n",
    "**Retrive table names of the database**"
   ]
  },
  {
   "cell_type": "code",
   "execution_count": 4,
   "metadata": {},
   "outputs": [
    {
     "data": {
      "text/plain": [
       "['image', 'model_versions', 'model', 'dataset']"
      ]
     },
     "execution_count": 4,
     "metadata": {},
     "output_type": "execute_result"
    }
   ],
   "source": [
    "SkyTrainer.table_names"
   ]
  },
  {
   "cell_type": "markdown",
   "metadata": {},
   "source": [
    "**Retrieve table from database**"
   ]
  },
  {
   "cell_type": "code",
   "execution_count": 5,
   "metadata": {},
   "outputs": [
    {
     "data": {
      "text/html": [
       "<div>\n",
       "<style scoped>\n",
       "    .dataframe tbody tr th:only-of-type {\n",
       "        vertical-align: middle;\n",
       "    }\n",
       "\n",
       "    .dataframe tbody tr th {\n",
       "        vertical-align: top;\n",
       "    }\n",
       "\n",
       "    .dataframe thead th {\n",
       "        text-align: right;\n",
       "    }\n",
       "</style>\n",
       "<table border=\"1\" class=\"dataframe\">\n",
       "  <thead>\n",
       "    <tr style=\"text-align: right;\">\n",
       "      <th></th>\n",
       "      <th>slug</th>\n",
       "      <th>name</th>\n",
       "      <th>bands</th>\n",
       "      <th>rgb_bands</th>\n",
       "      <th>provider</th>\n",
       "    </tr>\n",
       "  </thead>\n",
       "  <tbody>\n",
       "    <tr>\n",
       "      <th>0</th>\n",
       "      <td>Sentinel-2-Top-of-Atmosphere-Reflectance</td>\n",
       "      <td>Sentinel 2 Top-of-Atmosphere Reflectance</td>\n",
       "      <td>['B1', 'B2', 'B3', 'B4', 'B5', 'B6', 'B7', 'B8...</td>\n",
       "      <td>['B4', 'B3', 'B2']</td>\n",
       "      <td>gee</td>\n",
       "    </tr>\n",
       "    <tr>\n",
       "      <th>1</th>\n",
       "      <td>Landsat-7-Surface-Reflectance</td>\n",
       "      <td>Landsat 7 Surface Reflectance</td>\n",
       "      <td>['B1', 'B2', 'B3', 'B4', 'B5', 'B6', 'B7', 'nd...</td>\n",
       "      <td>['B3', 'B2', 'B1']</td>\n",
       "      <td>gee</td>\n",
       "    </tr>\n",
       "    <tr>\n",
       "      <th>2</th>\n",
       "      <td>Landsat-8-Surface-Reflectance</td>\n",
       "      <td>Landsat 8 Surface Reflectance</td>\n",
       "      <td>['B1', 'B2', 'B3', 'B4', 'B5', 'B6', 'B7', 'B1...</td>\n",
       "      <td>['B4', 'B3', 'B2']</td>\n",
       "      <td>gee</td>\n",
       "    </tr>\n",
       "    <tr>\n",
       "      <th>3</th>\n",
       "      <td>USDA-NASS-Cropland-Data-Layers</td>\n",
       "      <td>USDA NASS Cropland Data Layers</td>\n",
       "      <td>['landcover', 'cropland', 'land', 'water', 'ur...</td>\n",
       "      <td>['landcover']</td>\n",
       "      <td>gee</td>\n",
       "    </tr>\n",
       "    <tr>\n",
       "      <th>4</th>\n",
       "      <td>USGS-National-Land-Cover-Database</td>\n",
       "      <td>USGS National Land Cover Database</td>\n",
       "      <td>['impervious']</td>\n",
       "      <td>['impervious']</td>\n",
       "      <td>gee</td>\n",
       "    </tr>\n",
       "    <tr>\n",
       "      <th>5</th>\n",
       "      <td>Lake-Water-Quality-100m</td>\n",
       "      <td>Lake Water Quality 100m</td>\n",
       "      <td>['turbidity_blended_mean']</td>\n",
       "      <td>['turbidity_blended_mean']</td>\n",
       "      <td>gee</td>\n",
       "    </tr>\n",
       "  </tbody>\n",
       "</table>\n",
       "</div>"
      ],
      "text/plain": [
       "                                       slug  \\\n",
       "0  Sentinel-2-Top-of-Atmosphere-Reflectance   \n",
       "1             Landsat-7-Surface-Reflectance   \n",
       "2             Landsat-8-Surface-Reflectance   \n",
       "3            USDA-NASS-Cropland-Data-Layers   \n",
       "4         USGS-National-Land-Cover-Database   \n",
       "5                   Lake-Water-Quality-100m   \n",
       "\n",
       "                                       name  \\\n",
       "0  Sentinel 2 Top-of-Atmosphere Reflectance   \n",
       "1             Landsat 7 Surface Reflectance   \n",
       "2             Landsat 8 Surface Reflectance   \n",
       "3            USDA NASS Cropland Data Layers   \n",
       "4         USGS National Land Cover Database   \n",
       "5                   Lake Water Quality 100m   \n",
       "\n",
       "                                               bands  \\\n",
       "0  ['B1', 'B2', 'B3', 'B4', 'B5', 'B6', 'B7', 'B8...   \n",
       "1  ['B1', 'B2', 'B3', 'B4', 'B5', 'B6', 'B7', 'nd...   \n",
       "2  ['B1', 'B2', 'B3', 'B4', 'B5', 'B6', 'B7', 'B1...   \n",
       "3  ['landcover', 'cropland', 'land', 'water', 'ur...   \n",
       "4                                     ['impervious']   \n",
       "5                         ['turbidity_blended_mean']   \n",
       "\n",
       "                    rgb_bands provider  \n",
       "0          ['B4', 'B3', 'B2']      gee  \n",
       "1          ['B3', 'B2', 'B1']      gee  \n",
       "2          ['B4', 'B3', 'B2']      gee  \n",
       "3               ['landcover']      gee  \n",
       "4              ['impervious']      gee  \n",
       "5  ['turbidity_blended_mean']      gee  "
      ]
     },
     "execution_count": 5,
     "metadata": {},
     "output_type": "execute_result"
    }
   ],
   "source": [
    "SkyTrainer.datasets"
   ]
  },
  {
   "cell_type": "markdown",
   "metadata": {},
   "source": [
    "## Skydipper datasets for Deep Learning"
   ]
  },
  {
   "cell_type": "code",
   "execution_count": 6,
   "metadata": {},
   "outputs": [],
   "source": [
    "#SkyTrainer.datasets_api "
   ]
  },
  {
   "cell_type": "markdown",
   "metadata": {},
   "source": [
    "## Image composites"
   ]
  },
  {
   "cell_type": "code",
   "execution_count": 7,
   "metadata": {},
   "outputs": [
    {
     "data": {
      "text/html": [
       "<div style=\"width:100%;\"><div style=\"position:relative;width:100%;height:0;padding-bottom:60%;\"><iframe src=\"data:text/html;charset=utf-8;base64,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\" style=\"position:absolute;width:100%;height:100%;left:0;top:0;border:none !important;\" allowfullscreen webkitallowfullscreen mozallowfullscreen></iframe></div></div>"
      ],
      "text/plain": [
       "<folium.folium.Map at 0x13998c9e8>"
      ]
     },
     "execution_count": 7,
     "metadata": {},
     "output_type": "execute_result"
    }
   ],
   "source": [
    "SkyTrainer.composite(slugs=['Sentinel-2-Top-of-Atmosphere-Reflectance', 'Lake-Water-Quality-100m'],\\\n",
    "              init_date = '2019-01-21', end_date = '2019-01-31', zoom=6)"
   ]
  },
  {
   "cell_type": "markdown",
   "metadata": {},
   "source": [
    "## Creation of Geostore\n",
    "We select the areas from which we will export the training, validation and testing data."
   ]
  },
  {
   "cell_type": "code",
   "execution_count": 8,
   "metadata": {},
   "outputs": [],
   "source": [
    "train_atts = {\"type\":\"FeatureCollection\",\n",
    "              \"features\":[\n",
    "                  {\"type\":\"Feature\",\n",
    "                   \"properties\":{},\n",
    "                   \"geometry\":{\n",
    "                       \"type\":\"Polygon\",\n",
    "                       \"coordinates\":[[[-0.406494140625,38.64476310916202],\n",
    "                                       [0.28,38.64476310916202],\n",
    "                                       [0.28,39.74521015328692],\n",
    "                                       [-0.406494140625,39.74521015328692],\n",
    "                                       [-0.406494140625,38.64476310916202]]]\n",
    "                   }\n",
    "                  },\n",
    "                  {\"type\":\"Feature\",\n",
    "                   \"properties\":{},\n",
    "                   \"geometry\":{\n",
    "                       \"type\":\"Polygon\",\n",
    "                       \"coordinates\":[[[-1.70013427734375,35.15135442846945],\n",
    "                                       [-0.703125,35.15135442846945],\n",
    "                                       [-0.703125,35.94688293218141],\n",
    "                                       [-1.70013427734375,35.94688293218141],\n",
    "                                       [-1.70013427734375,35.15135442846945]]]\n",
    "                   }\n",
    "                  }\n",
    "              ]\n",
    "             }\n",
    "\n",
    "valid_atts = None\n",
    "test_atts = None"
   ]
  },
  {
   "cell_type": "code",
   "execution_count": 9,
   "metadata": {},
   "outputs": [
    {
     "name": "stdout",
     "output_type": "stream",
     "text": [
      "Number of training polygons: 2\n"
     ]
    },
    {
     "data": {
      "text/html": [
       "<div style=\"width:100%;\"><div style=\"position:relative;width:100%;height:0;padding-bottom:60%;\"><iframe src=\"data:text/html;charset=utf-8;base64,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\" style=\"position:absolute;width:100%;height:100%;left:0;top:0;border:none !important;\" allowfullscreen webkitallowfullscreen mozallowfullscreen></iframe></div></div>"
      ],
      "text/plain": [
       "<folium.folium.Map at 0x139b00358>"
      ]
     },
     "execution_count": 9,
     "metadata": {},
     "output_type": "execute_result"
    }
   ],
   "source": [
    "SkyTrainer.create_geostore_from_geojson(attributes=[train_atts, valid_atts, test_atts])"
   ]
  },
  {
   "cell_type": "markdown",
   "metadata": {},
   "source": [
    "Check geostore object"
   ]
  },
  {
   "cell_type": "code",
   "execution_count": 10,
   "metadata": {},
   "outputs": [
    {
     "data": {
      "text/plain": [
       "{'geojson': {'type': 'FeatureCollection',\n",
       "  'features': [{'type': 'Feature',\n",
       "    'properties': {'name': 'training'},\n",
       "    'geometry': {'type': 'MultiPolygon',\n",
       "     'coordinates': [[[[-0.406494140625, 38.64476310916202],\n",
       "        [0.28, 38.64476310916202],\n",
       "        [0.28, 39.74521015328692],\n",
       "        [-0.406494140625, 39.74521015328692],\n",
       "        [-0.406494140625, 38.64476310916202]]],\n",
       "      [[[-1.70013427734375, 35.15135442846945],\n",
       "        [-0.703125, 35.15135442846945],\n",
       "        [-0.703125, 35.94688293218141],\n",
       "        [-1.70013427734375, 35.94688293218141],\n",
       "        [-1.70013427734375, 35.15135442846945]]]]}}]}}"
      ]
     },
     "execution_count": 10,
     "metadata": {},
     "output_type": "execute_result"
    }
   ],
   "source": [
    "SkyTrainer.geostore"
   ]
  },
  {
   "cell_type": "code",
   "execution_count": 11,
   "metadata": {},
   "outputs": [
    {
     "data": {
      "text/plain": [
       "{'training': 2}"
      ]
     },
     "execution_count": 11,
     "metadata": {},
     "output_type": "execute_result"
    }
   ],
   "source": [
    "SkyTrainer.nPolygons"
   ]
  },
  {
   "cell_type": "markdown",
   "metadata": {},
   "source": [
    "Check geostore object on a server and display it on map"
   ]
  },
  {
   "cell_type": "code",
   "execution_count": 12,
   "metadata": {},
   "outputs": [],
   "source": [
    "#SkyTrainer.multipolygon"
   ]
  },
  {
   "cell_type": "code",
   "execution_count": 13,
   "metadata": {},
   "outputs": [],
   "source": [
    "#SkyTrainer.multipolygon.map()"
   ]
  },
  {
   "cell_type": "markdown",
   "metadata": {},
   "source": [
    "## Data pre-processing\n",
    "We normalize the composite images to have values from 0 to 1."
   ]
  },
  {
   "cell_type": "code",
   "execution_count": 14,
   "metadata": {},
   "outputs": [
    {
     "data": {
      "text/html": [
       "<div style=\"width:100%;\"><div style=\"position:relative;width:100%;height:0;padding-bottom:60%;\"><iframe src=\"data:text/html;charset=utf-8;base64,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\" style=\"position:absolute;width:100%;height:100%;left:0;top:0;border:none !important;\" allowfullscreen webkitallowfullscreen mozallowfullscreen></iframe></div></div>"
      ],
      "text/plain": [
       "<folium.folium.Map at 0x139a78358>"
      ]
     },
     "execution_count": 14,
     "metadata": {},
     "output_type": "execute_result"
    }
   ],
   "source": [
    "SkyTrainer.normalize_images(scale=100, norm_type='geostore')"
   ]
  },
  {
   "cell_type": "markdown",
   "metadata": {},
   "source": [
    "### Select input/output bands"
   ]
  },
  {
   "cell_type": "code",
   "execution_count": 15,
   "metadata": {},
   "outputs": [],
   "source": [
    "SkyTrainer.select_bands(input_bands = ['B2','B3','B4','B5','ndvi','ndwi'],\\\n",
    "                 output_bands = ['turbidity_blended_mean'])"
   ]
  },
  {
   "cell_type": "code",
   "execution_count": 16,
   "metadata": {},
   "outputs": [
    {
     "data": {
      "text/html": [
       "<div>\n",
       "<style scoped>\n",
       "    .dataframe tbody tr th:only-of-type {\n",
       "        vertical-align: middle;\n",
       "    }\n",
       "\n",
       "    .dataframe tbody tr th {\n",
       "        vertical-align: top;\n",
       "    }\n",
       "\n",
       "    .dataframe thead th {\n",
       "        text-align: right;\n",
       "    }\n",
       "</style>\n",
       "<table border=\"1\" class=\"dataframe\">\n",
       "  <thead>\n",
       "    <tr style=\"text-align: right;\">\n",
       "      <th></th>\n",
       "      <th>dataset_id</th>\n",
       "      <th>bands_selections</th>\n",
       "      <th>scale</th>\n",
       "      <th>init_date</th>\n",
       "      <th>end_date</th>\n",
       "      <th>bands_min_max</th>\n",
       "      <th>norm_type</th>\n",
       "      <th>geostore_id</th>\n",
       "    </tr>\n",
       "  </thead>\n",
       "  <tbody>\n",
       "    <tr>\n",
       "      <th>0</th>\n",
       "      <td>0</td>\n",
       "      <td>['B2', 'B3', 'B4', 'B5', 'ndvi', 'ndwi']</td>\n",
       "      <td>100.0</td>\n",
       "      <td>2019-01-21</td>\n",
       "      <td>2019-01-31</td>\n",
       "      <td>{\"B11_max\": 10857.5, \"B11_min\": 7.0, \"B12_max\"...</td>\n",
       "      <td>geostore</td>\n",
       "      <td>cc1d5d3dee2c8a6e9a4d10f74f7747a9</td>\n",
       "    </tr>\n",
       "    <tr>\n",
       "      <th>1</th>\n",
       "      <td>5</td>\n",
       "      <td>['turbidity_blended_mean']</td>\n",
       "      <td>100.0</td>\n",
       "      <td>2019-01-21</td>\n",
       "      <td>2019-01-31</td>\n",
       "      <td>{}</td>\n",
       "      <td>geostore</td>\n",
       "      <td>cc1d5d3dee2c8a6e9a4d10f74f7747a9</td>\n",
       "    </tr>\n",
       "    <tr>\n",
       "      <th>2</th>\n",
       "      <td>0</td>\n",
       "      <td>['B1', 'B2', 'B3', 'B4', 'B5', 'B6', 'B7', 'B8...</td>\n",
       "      <td>30.0</td>\n",
       "      <td>2016-01-01</td>\n",
       "      <td>2016-12-31</td>\n",
       "      <td>{\"B11_max\": 9660.0, \"B11_min\": 1.0, \"B12_max\":...</td>\n",
       "      <td>global</td>\n",
       "      <td></td>\n",
       "    </tr>\n",
       "    <tr>\n",
       "      <th>3</th>\n",
       "      <td>3</td>\n",
       "      <td>['cropland', 'land', 'water', 'urban']</td>\n",
       "      <td>30.0</td>\n",
       "      <td>2016-01-01</td>\n",
       "      <td>2016-12-31</td>\n",
       "      <td>{}</td>\n",
       "      <td>global</td>\n",
       "      <td></td>\n",
       "    </tr>\n",
       "  </tbody>\n",
       "</table>\n",
       "</div>"
      ],
      "text/plain": [
       "   dataset_id                                   bands_selections  scale  \\\n",
       "0           0           ['B2', 'B3', 'B4', 'B5', 'ndvi', 'ndwi']  100.0   \n",
       "1           5                         ['turbidity_blended_mean']  100.0   \n",
       "2           0  ['B1', 'B2', 'B3', 'B4', 'B5', 'B6', 'B7', 'B8...   30.0   \n",
       "3           3             ['cropland', 'land', 'water', 'urban']   30.0   \n",
       "\n",
       "    init_date    end_date                                      bands_min_max  \\\n",
       "0  2019-01-21  2019-01-31  {\"B11_max\": 10857.5, \"B11_min\": 7.0, \"B12_max\"...   \n",
       "1  2019-01-21  2019-01-31                                                 {}   \n",
       "2  2016-01-01  2016-12-31  {\"B11_max\": 9660.0, \"B11_min\": 1.0, \"B12_max\":...   \n",
       "3  2016-01-01  2016-12-31                                                 {}   \n",
       "\n",
       "  norm_type                       geostore_id  \n",
       "0  geostore  cc1d5d3dee2c8a6e9a4d10f74f7747a9  \n",
       "1  geostore  cc1d5d3dee2c8a6e9a4d10f74f7747a9  \n",
       "2    global                                    \n",
       "3    global                                    "
      ]
     },
     "execution_count": 16,
     "metadata": {},
     "output_type": "execute_result"
    }
   ],
   "source": [
    "SkyTrainer.images"
   ]
  },
  {
   "cell_type": "code",
   "execution_count": 32,
   "metadata": {},
   "outputs": [
    {
     "data": {
      "text/html": [
       "<div>\n",
       "<style scoped>\n",
       "    .dataframe tbody tr th:only-of-type {\n",
       "        vertical-align: middle;\n",
       "    }\n",
       "\n",
       "    .dataframe tbody tr th {\n",
       "        vertical-align: top;\n",
       "    }\n",
       "\n",
       "    .dataframe thead th {\n",
       "        text-align: right;\n",
       "    }\n",
       "</style>\n",
       "<table border=\"1\" class=\"dataframe\">\n",
       "  <thead>\n",
       "    <tr style=\"text-align: right;\">\n",
       "      <th></th>\n",
       "      <th>model_id</th>\n",
       "      <th>model_architecture</th>\n",
       "      <th>input_image_id</th>\n",
       "      <th>output_image_id</th>\n",
       "      <th>geostore_id</th>\n",
       "      <th>kernel_size</th>\n",
       "      <th>sample_size</th>\n",
       "      <th>training_params</th>\n",
       "      <th>version</th>\n",
       "      <th>data_status</th>\n",
       "      <th>training_status</th>\n",
       "      <th>eeified</th>\n",
       "      <th>deployed</th>\n",
       "    </tr>\n",
       "  </thead>\n",
       "  <tbody>\n",
       "    <tr>\n",
       "      <th>0</th>\n",
       "      <td>0</td>\n",
       "      <td>sequential1</td>\n",
       "      <td>0</td>\n",
       "      <td>1</td>\n",
       "      <td>cc1d5d3dee2c8a6e9a4d10f74f7747a9</td>\n",
       "      <td>1</td>\n",
       "      <td>20000</td>\n",
       "      <td>{\"bucket\": \"geo-ai\", \"base_names\": [\"training_...</td>\n",
       "      <td>1582126498</td>\n",
       "      <td>COMPLETED</td>\n",
       "      <td>SUCCEEDED</td>\n",
       "      <td>True</td>\n",
       "      <td>False</td>\n",
       "    </tr>\n",
       "    <tr>\n",
       "      <th>1</th>\n",
       "      <td>0</td>\n",
       "      <td>sequential1</td>\n",
       "      <td>0</td>\n",
       "      <td>1</td>\n",
       "      <td>cc1d5d3dee2c8a6e9a4d10f74f7747a9</td>\n",
       "      <td>1</td>\n",
       "      <td>20000</td>\n",
       "      <td>{\"bucket\": \"geo-ai\", \"base_names\": [\"training_...</td>\n",
       "      <td>1582128515</td>\n",
       "      <td>COMPLETED</td>\n",
       "      <td>SUCCEEDED</td>\n",
       "      <td>True</td>\n",
       "      <td>False</td>\n",
       "    </tr>\n",
       "    <tr>\n",
       "      <th>2</th>\n",
       "      <td>0</td>\n",
       "      <td>sequential1</td>\n",
       "      <td>0</td>\n",
       "      <td>1</td>\n",
       "      <td>cc1d5d3dee2c8a6e9a4d10f74f7747a9</td>\n",
       "      <td>1</td>\n",
       "      <td>20000</td>\n",
       "      <td>{\"bucket\": \"geo-ai\", \"base_names\": [\"training_...</td>\n",
       "      <td>1582131333</td>\n",
       "      <td>COMPLETED</td>\n",
       "      <td>SUCCEEDED</td>\n",
       "      <td>True</td>\n",
       "      <td>True</td>\n",
       "    </tr>\n",
       "    <tr>\n",
       "      <th>3</th>\n",
       "      <td>1</td>\n",
       "      <td>segnet</td>\n",
       "      <td>2</td>\n",
       "      <td>3</td>\n",
       "      <td>f75559fb87f5c22deb56eb2a73aa4e12</td>\n",
       "      <td>256</td>\n",
       "      <td>1000</td>\n",
       "      <td>{\"bucket\": \"geo-ai\", \"base_names\": [\"training_...</td>\n",
       "      <td>1582197697</td>\n",
       "      <td>COMPLETED</td>\n",
       "      <td>SUCCEEDED</td>\n",
       "      <td>True</td>\n",
       "      <td>False</td>\n",
       "    </tr>\n",
       "    <tr>\n",
       "      <th>4</th>\n",
       "      <td>1</td>\n",
       "      <td>segnet</td>\n",
       "      <td>2</td>\n",
       "      <td>3</td>\n",
       "      <td>f75559fb87f5c22deb56eb2a73aa4e12</td>\n",
       "      <td>256</td>\n",
       "      <td>1000</td>\n",
       "      <td>{\"bucket\": \"geo-ai\", \"base_names\": [\"training_...</td>\n",
       "      <td>1582214196</td>\n",
       "      <td>COMPLETED</td>\n",
       "      <td>SUCCEEDED</td>\n",
       "      <td>True</td>\n",
       "      <td>True</td>\n",
       "    </tr>\n",
       "  </tbody>\n",
       "</table>\n",
       "</div>"
      ],
      "text/plain": [
       "   model_id model_architecture  input_image_id  output_image_id  \\\n",
       "0         0        sequential1               0                1   \n",
       "1         0        sequential1               0                1   \n",
       "2         0        sequential1               0                1   \n",
       "3         1             segnet               2                3   \n",
       "4         1             segnet               2                3   \n",
       "\n",
       "                        geostore_id  kernel_size  sample_size  \\\n",
       "0  cc1d5d3dee2c8a6e9a4d10f74f7747a9            1        20000   \n",
       "1  cc1d5d3dee2c8a6e9a4d10f74f7747a9            1        20000   \n",
       "2  cc1d5d3dee2c8a6e9a4d10f74f7747a9            1        20000   \n",
       "3  f75559fb87f5c22deb56eb2a73aa4e12          256         1000   \n",
       "4  f75559fb87f5c22deb56eb2a73aa4e12          256         1000   \n",
       "\n",
       "                                     training_params     version data_status  \\\n",
       "0  {\"bucket\": \"geo-ai\", \"base_names\": [\"training_...  1582126498   COMPLETED   \n",
       "1  {\"bucket\": \"geo-ai\", \"base_names\": [\"training_...  1582128515   COMPLETED   \n",
       "2  {\"bucket\": \"geo-ai\", \"base_names\": [\"training_...  1582131333   COMPLETED   \n",
       "3  {\"bucket\": \"geo-ai\", \"base_names\": [\"training_...  1582197697   COMPLETED   \n",
       "4  {\"bucket\": \"geo-ai\", \"base_names\": [\"training_...  1582214196   COMPLETED   \n",
       "\n",
       "  training_status  eeified  deployed  \n",
       "0       SUCCEEDED     True     False  \n",
       "1       SUCCEEDED     True     False  \n",
       "2       SUCCEEDED     True      True  \n",
       "3       SUCCEEDED     True     False  \n",
       "4       SUCCEEDED     True      True  "
      ]
     },
     "execution_count": 32,
     "metadata": {},
     "output_type": "execute_result"
    }
   ],
   "source": [
    "SkyTrainer.versions"
   ]
  },
  {
   "cell_type": "markdown",
   "metadata": {},
   "source": [
    "## Create TFRecords for training"
   ]
  },
  {
   "cell_type": "code",
   "execution_count": 17,
   "metadata": {},
   "outputs": [],
   "source": [
    "SkyTrainer.export_TFRecords(sample_size = 20000, kernel_size = 1)"
   ]
  },
  {
   "cell_type": "code",
   "execution_count": 21,
   "metadata": {},
   "outputs": [
    {
     "data": {
      "text/plain": [
       "'{\"bucket\": \"geo-ai\", \"base_names\": [\"training_pixels\", \"validation_pixels\", \"test_pixels\"], \"data_dir\": \"gs://geo-ai/Data/0_1/cc1d5d3dee2c8a6e9a4d10f74f7747a9/1/20000\", \"in_bands\": [\"B2\", \"B3\", \"B4\", \"B5\", \"ndvi\", \"ndwi\"], \"out_bands\": [\"turbidity_blended_mean\"], \"kernel_size\": 1, \"training_size\": 6892, \"validation_size\": 2425, \"test_size\": 2425, \"model_type\": \"MLP\", \"model_output\": \"regression\", \"model_architecture\": \"sequential1\", \"output_activation\": \"\", \"batch_size\": 4, \"epochs\": 50, \"shuffle_size\": 2000, \"learning_rate\": 0.001, \"loss\": \"mse\", \"metrics\": [\"mse\"], \"job_dir\": \"gs://geo-ai/Models/0/1582131333/\"}'"
      ]
     },
     "execution_count": 21,
     "metadata": {},
     "output_type": "execute_result"
    }
   ],
   "source": [
    "SkyTrainer.versions['training_params'].iloc[2]"
   ]
  },
  {
   "cell_type": "markdown",
   "metadata": {},
   "source": [
    "## Training the model in AI Platform"
   ]
  },
  {
   "cell_type": "code",
   "execution_count": 22,
   "metadata": {},
   "outputs": [
    {
     "name": "stdout",
     "output_type": "stream",
     "text": [
      "Model already exists with name: water_quality.\n",
      "And description .\n",
      "Version already exists with training status equal to: SUCCEEDED\n",
      "The training job successfully completed.\n"
     ]
    }
   ],
   "source": [
    "SkyTrainer.train_model_ai_platform(model_type='MLP', model_output='regression', model_architecture='sequential1',\\\n",
    "                                   model_name='water_quality', batch_size=4, epochs=50)"
   ]
  },
  {
   "cell_type": "code",
   "execution_count": 28,
   "metadata": {},
   "outputs": [
    {
     "data": {
      "text/html": [
       "<div>\n",
       "<style scoped>\n",
       "    .dataframe tbody tr th:only-of-type {\n",
       "        vertical-align: middle;\n",
       "    }\n",
       "\n",
       "    .dataframe tbody tr th {\n",
       "        vertical-align: top;\n",
       "    }\n",
       "\n",
       "    .dataframe thead th {\n",
       "        text-align: right;\n",
       "    }\n",
       "</style>\n",
       "<table border=\"1\" class=\"dataframe\">\n",
       "  <thead>\n",
       "    <tr style=\"text-align: right;\">\n",
       "      <th></th>\n",
       "      <th>model_id</th>\n",
       "      <th>model_architecture</th>\n",
       "      <th>input_image_id</th>\n",
       "      <th>output_image_id</th>\n",
       "      <th>geostore_id</th>\n",
       "      <th>kernel_size</th>\n",
       "      <th>sample_size</th>\n",
       "      <th>training_params</th>\n",
       "      <th>version</th>\n",
       "      <th>data_status</th>\n",
       "      <th>training_status</th>\n",
       "      <th>eeified</th>\n",
       "      <th>deployed</th>\n",
       "    </tr>\n",
       "  </thead>\n",
       "  <tbody>\n",
       "    <tr>\n",
       "      <th>0</th>\n",
       "      <td>0</td>\n",
       "      <td>sequential1</td>\n",
       "      <td>0</td>\n",
       "      <td>1</td>\n",
       "      <td>cc1d5d3dee2c8a6e9a4d10f74f7747a9</td>\n",
       "      <td>1</td>\n",
       "      <td>20000</td>\n",
       "      <td>{\"bucket\": \"geo-ai\", \"base_names\": [\"training_...</td>\n",
       "      <td>1582126498</td>\n",
       "      <td>COMPLETED</td>\n",
       "      <td>SUCCEEDED</td>\n",
       "      <td>True</td>\n",
       "      <td>False</td>\n",
       "    </tr>\n",
       "    <tr>\n",
       "      <th>1</th>\n",
       "      <td>0</td>\n",
       "      <td>sequential1</td>\n",
       "      <td>0</td>\n",
       "      <td>1</td>\n",
       "      <td>cc1d5d3dee2c8a6e9a4d10f74f7747a9</td>\n",
       "      <td>1</td>\n",
       "      <td>20000</td>\n",
       "      <td>{\"bucket\": \"geo-ai\", \"base_names\": [\"training_...</td>\n",
       "      <td>1582128515</td>\n",
       "      <td>COMPLETED</td>\n",
       "      <td>SUCCEEDED</td>\n",
       "      <td>True</td>\n",
       "      <td>False</td>\n",
       "    </tr>\n",
       "    <tr>\n",
       "      <th>2</th>\n",
       "      <td>0</td>\n",
       "      <td>sequential1</td>\n",
       "      <td>0</td>\n",
       "      <td>1</td>\n",
       "      <td>cc1d5d3dee2c8a6e9a4d10f74f7747a9</td>\n",
       "      <td>1</td>\n",
       "      <td>20000</td>\n",
       "      <td>{\"bucket\": \"geo-ai\", \"base_names\": [\"training_...</td>\n",
       "      <td>1582131333</td>\n",
       "      <td>COMPLETED</td>\n",
       "      <td>SUCCEEDED</td>\n",
       "      <td>True</td>\n",
       "      <td>False</td>\n",
       "    </tr>\n",
       "    <tr>\n",
       "      <th>3</th>\n",
       "      <td>1</td>\n",
       "      <td>segnet</td>\n",
       "      <td>2</td>\n",
       "      <td>3</td>\n",
       "      <td>f75559fb87f5c22deb56eb2a73aa4e12</td>\n",
       "      <td>256</td>\n",
       "      <td>1000</td>\n",
       "      <td>{\"bucket\": \"geo-ai\", \"base_names\": [\"training_...</td>\n",
       "      <td>1582197697</td>\n",
       "      <td>COMPLETED</td>\n",
       "      <td>SUCCEEDED</td>\n",
       "      <td>True</td>\n",
       "      <td>False</td>\n",
       "    </tr>\n",
       "    <tr>\n",
       "      <th>4</th>\n",
       "      <td>1</td>\n",
       "      <td>segnet</td>\n",
       "      <td>2</td>\n",
       "      <td>3</td>\n",
       "      <td>f75559fb87f5c22deb56eb2a73aa4e12</td>\n",
       "      <td>256</td>\n",
       "      <td>1000</td>\n",
       "      <td>{\"bucket\": \"geo-ai\", \"base_names\": [\"training_...</td>\n",
       "      <td>1582214196</td>\n",
       "      <td>COMPLETED</td>\n",
       "      <td>SUCCEEDED</td>\n",
       "      <td>True</td>\n",
       "      <td>True</td>\n",
       "    </tr>\n",
       "  </tbody>\n",
       "</table>\n",
       "</div>"
      ],
      "text/plain": [
       "   model_id model_architecture  input_image_id  output_image_id  \\\n",
       "0         0        sequential1               0                1   \n",
       "1         0        sequential1               0                1   \n",
       "2         0        sequential1               0                1   \n",
       "3         1             segnet               2                3   \n",
       "4         1             segnet               2                3   \n",
       "\n",
       "                        geostore_id  kernel_size  sample_size  \\\n",
       "0  cc1d5d3dee2c8a6e9a4d10f74f7747a9            1        20000   \n",
       "1  cc1d5d3dee2c8a6e9a4d10f74f7747a9            1        20000   \n",
       "2  cc1d5d3dee2c8a6e9a4d10f74f7747a9            1        20000   \n",
       "3  f75559fb87f5c22deb56eb2a73aa4e12          256         1000   \n",
       "4  f75559fb87f5c22deb56eb2a73aa4e12          256         1000   \n",
       "\n",
       "                                     training_params     version data_status  \\\n",
       "0  {\"bucket\": \"geo-ai\", \"base_names\": [\"training_...  1582126498   COMPLETED   \n",
       "1  {\"bucket\": \"geo-ai\", \"base_names\": [\"training_...  1582128515   COMPLETED   \n",
       "2  {\"bucket\": \"geo-ai\", \"base_names\": [\"training_...  1582131333   COMPLETED   \n",
       "3  {\"bucket\": \"geo-ai\", \"base_names\": [\"training_...  1582197697   COMPLETED   \n",
       "4  {\"bucket\": \"geo-ai\", \"base_names\": [\"training_...  1582214196   COMPLETED   \n",
       "\n",
       "  training_status  eeified  deployed  \n",
       "0       SUCCEEDED     True     False  \n",
       "1       SUCCEEDED     True     False  \n",
       "2       SUCCEEDED     True     False  \n",
       "3       SUCCEEDED     True     False  \n",
       "4       SUCCEEDED     True      True  "
      ]
     },
     "execution_count": 28,
     "metadata": {},
     "output_type": "execute_result"
    }
   ],
   "source": [
    "SkyTrainer.versions"
   ]
  },
  {
   "cell_type": "markdown",
   "metadata": {},
   "source": [
    "## Deployed the model to AI Platform\n",
    "\n",
    "Before it's possible to get predictions from the trained model, it needs to be deployed on AI Platform.  The first step is to create the model.  The second step is to create a version.  See [this guide](https://cloud.google.com/ml-engine/docs/tensorflow/deploying-models) for details.  Note that models and versions can be monitored from the [AI Platform models page](http://console.cloud.google.com/ai-platform/models) of the Cloud Console. "
   ]
  },
  {
   "cell_type": "code",
   "execution_count": 30,
   "metadata": {},
   "outputs": [
    {
     "name": "stdout",
     "output_type": "stream",
     "text": [
      "Preparing the model for making predictions in Earth Engine\n",
      "Success: model at 'gs://geo-ai/Models/0/1582131333/eeified/' is ready to be hosted in AI Platform.\n",
      "Deploying v1582131333 version of water_quality model to AI Platform\n",
      "{'name': 'projects/skydipper-196010/operations/create_water_quality_v1582131333-1582907105465', 'metadata': {'@type': 'type.googleapis.com/google.cloud.ml.v1.OperationMetadata', 'createTime': '2020-02-28T16:25:06Z', 'operationType': 'CREATE_VERSION', 'modelName': 'projects/skydipper-196010/models/water_quality', 'version': {'name': 'projects/skydipper-196010/models/water_quality/versions/v1582131333', 'deploymentUri': 'gs://geo-ai/Models/0/1582131333/eeified/', 'createTime': '2020-02-28T16:25:05Z', 'runtimeVersion': '1.15', 'etag': 'vs3NGscL3QY=', 'framework': 'TENSORFLOW', 'machineType': 'mls1-c1-m2', 'pythonVersion': '3.7'}}}\n",
      "Current training status: CREATING\n",
      "Current training status: CREATING\n",
      "Current training status: READY\n"
     ]
    }
   ],
   "source": [
    "SkyTrainer.deploy_model_ai_platform()"
   ]
  },
  {
   "cell_type": "code",
   "execution_count": 31,
   "metadata": {},
   "outputs": [
    {
     "data": {
      "text/html": [
       "<div>\n",
       "<style scoped>\n",
       "    .dataframe tbody tr th:only-of-type {\n",
       "        vertical-align: middle;\n",
       "    }\n",
       "\n",
       "    .dataframe tbody tr th {\n",
       "        vertical-align: top;\n",
       "    }\n",
       "\n",
       "    .dataframe thead th {\n",
       "        text-align: right;\n",
       "    }\n",
       "</style>\n",
       "<table border=\"1\" class=\"dataframe\">\n",
       "  <thead>\n",
       "    <tr style=\"text-align: right;\">\n",
       "      <th></th>\n",
       "      <th>model_id</th>\n",
       "      <th>model_architecture</th>\n",
       "      <th>input_image_id</th>\n",
       "      <th>output_image_id</th>\n",
       "      <th>geostore_id</th>\n",
       "      <th>kernel_size</th>\n",
       "      <th>sample_size</th>\n",
       "      <th>training_params</th>\n",
       "      <th>version</th>\n",
       "      <th>data_status</th>\n",
       "      <th>training_status</th>\n",
       "      <th>eeified</th>\n",
       "      <th>deployed</th>\n",
       "    </tr>\n",
       "  </thead>\n",
       "  <tbody>\n",
       "    <tr>\n",
       "      <th>0</th>\n",
       "      <td>0</td>\n",
       "      <td>sequential1</td>\n",
       "      <td>0</td>\n",
       "      <td>1</td>\n",
       "      <td>cc1d5d3dee2c8a6e9a4d10f74f7747a9</td>\n",
       "      <td>1</td>\n",
       "      <td>20000</td>\n",
       "      <td>{\"bucket\": \"geo-ai\", \"base_names\": [\"training_...</td>\n",
       "      <td>1582126498</td>\n",
       "      <td>COMPLETED</td>\n",
       "      <td>SUCCEEDED</td>\n",
       "      <td>True</td>\n",
       "      <td>False</td>\n",
       "    </tr>\n",
       "    <tr>\n",
       "      <th>1</th>\n",
       "      <td>0</td>\n",
       "      <td>sequential1</td>\n",
       "      <td>0</td>\n",
       "      <td>1</td>\n",
       "      <td>cc1d5d3dee2c8a6e9a4d10f74f7747a9</td>\n",
       "      <td>1</td>\n",
       "      <td>20000</td>\n",
       "      <td>{\"bucket\": \"geo-ai\", \"base_names\": [\"training_...</td>\n",
       "      <td>1582128515</td>\n",
       "      <td>COMPLETED</td>\n",
       "      <td>SUCCEEDED</td>\n",
       "      <td>True</td>\n",
       "      <td>False</td>\n",
       "    </tr>\n",
       "    <tr>\n",
       "      <th>2</th>\n",
       "      <td>0</td>\n",
       "      <td>sequential1</td>\n",
       "      <td>0</td>\n",
       "      <td>1</td>\n",
       "      <td>cc1d5d3dee2c8a6e9a4d10f74f7747a9</td>\n",
       "      <td>1</td>\n",
       "      <td>20000</td>\n",
       "      <td>{\"bucket\": \"geo-ai\", \"base_names\": [\"training_...</td>\n",
       "      <td>1582131333</td>\n",
       "      <td>COMPLETED</td>\n",
       "      <td>SUCCEEDED</td>\n",
       "      <td>True</td>\n",
       "      <td>True</td>\n",
       "    </tr>\n",
       "    <tr>\n",
       "      <th>3</th>\n",
       "      <td>1</td>\n",
       "      <td>segnet</td>\n",
       "      <td>2</td>\n",
       "      <td>3</td>\n",
       "      <td>f75559fb87f5c22deb56eb2a73aa4e12</td>\n",
       "      <td>256</td>\n",
       "      <td>1000</td>\n",
       "      <td>{\"bucket\": \"geo-ai\", \"base_names\": [\"training_...</td>\n",
       "      <td>1582197697</td>\n",
       "      <td>COMPLETED</td>\n",
       "      <td>SUCCEEDED</td>\n",
       "      <td>True</td>\n",
       "      <td>False</td>\n",
       "    </tr>\n",
       "    <tr>\n",
       "      <th>4</th>\n",
       "      <td>1</td>\n",
       "      <td>segnet</td>\n",
       "      <td>2</td>\n",
       "      <td>3</td>\n",
       "      <td>f75559fb87f5c22deb56eb2a73aa4e12</td>\n",
       "      <td>256</td>\n",
       "      <td>1000</td>\n",
       "      <td>{\"bucket\": \"geo-ai\", \"base_names\": [\"training_...</td>\n",
       "      <td>1582214196</td>\n",
       "      <td>COMPLETED</td>\n",
       "      <td>SUCCEEDED</td>\n",
       "      <td>True</td>\n",
       "      <td>True</td>\n",
       "    </tr>\n",
       "  </tbody>\n",
       "</table>\n",
       "</div>"
      ],
      "text/plain": [
       "   model_id model_architecture  input_image_id  output_image_id  \\\n",
       "0         0        sequential1               0                1   \n",
       "1         0        sequential1               0                1   \n",
       "2         0        sequential1               0                1   \n",
       "3         1             segnet               2                3   \n",
       "4         1             segnet               2                3   \n",
       "\n",
       "                        geostore_id  kernel_size  sample_size  \\\n",
       "0  cc1d5d3dee2c8a6e9a4d10f74f7747a9            1        20000   \n",
       "1  cc1d5d3dee2c8a6e9a4d10f74f7747a9            1        20000   \n",
       "2  cc1d5d3dee2c8a6e9a4d10f74f7747a9            1        20000   \n",
       "3  f75559fb87f5c22deb56eb2a73aa4e12          256         1000   \n",
       "4  f75559fb87f5c22deb56eb2a73aa4e12          256         1000   \n",
       "\n",
       "                                     training_params     version data_status  \\\n",
       "0  {\"bucket\": \"geo-ai\", \"base_names\": [\"training_...  1582126498   COMPLETED   \n",
       "1  {\"bucket\": \"geo-ai\", \"base_names\": [\"training_...  1582128515   COMPLETED   \n",
       "2  {\"bucket\": \"geo-ai\", \"base_names\": [\"training_...  1582131333   COMPLETED   \n",
       "3  {\"bucket\": \"geo-ai\", \"base_names\": [\"training_...  1582197697   COMPLETED   \n",
       "4  {\"bucket\": \"geo-ai\", \"base_names\": [\"training_...  1582214196   COMPLETED   \n",
       "\n",
       "  training_status  eeified  deployed  \n",
       "0       SUCCEEDED     True     False  \n",
       "1       SUCCEEDED     True     False  \n",
       "2       SUCCEEDED     True      True  \n",
       "3       SUCCEEDED     True     False  \n",
       "4       SUCCEEDED     True      True  "
      ]
     },
     "execution_count": 31,
     "metadata": {},
     "output_type": "execute_result"
    }
   ],
   "source": [
    "SkyTrainer.versions"
   ]
  },
  {
   "cell_type": "markdown",
   "metadata": {},
   "source": [
    "***\n",
    "## **Validation of Deep Learning models**"
   ]
  },
  {
   "cell_type": "markdown",
   "metadata": {},
   "source": [
    "**Create `Validator` object**"
   ]
  },
  {
   "cell_type": "code",
   "execution_count": null,
   "metadata": {},
   "outputs": [],
   "source": [
    "SkyValidator = skydl.Validator()"
   ]
  },
  {
   "cell_type": "markdown",
   "metadata": {},
   "source": [
    "### Select model"
   ]
  },
  {
   "cell_type": "code",
   "execution_count": null,
   "metadata": {},
   "outputs": [],
   "source": [
    "SkyValidator.models"
   ]
  },
  {
   "cell_type": "code",
   "execution_count": null,
   "metadata": {},
   "outputs": [],
   "source": [
    "versions = SkyValidator.select_model(model_name='water_quality')"
   ]
  },
  {
   "cell_type": "markdown",
   "metadata": {},
   "source": [
    "### Select version"
   ]
  },
  {
   "cell_type": "code",
   "execution_count": null,
   "metadata": {},
   "outputs": [],
   "source": [
    "SkyValidator.select_version(version=versions[2])"
   ]
  },
  {
   "cell_type": "markdown",
   "metadata": {},
   "source": [
    "### Inspect the training process\n",
    "We use [TensorBoard](https://www.tensorflow.org/tensorboard/get_started) to inspect the training process.TensorBoard is a tool for providing the measurements and visualizations needed during the machine learning workflow. It enables tracking experiment metrics like loss and accuracy, visualizing the model graph, projecting embeddings to a lower dimensional space, and much more.\n",
    "\n",
    "A brief overview of the dashboards shown (tabs in bottom navigation bar):\n",
    "\n",
    "- The **Scalars** dashboard shows how the loss and metrics change with every epoch. You can use it to also track training speed, learning rate, and other scalar values.\n",
    "- The **Graphs** dashboard helps you visualize your model. In this case, the Keras graph of layers is shown which can help you ensure it is built correctly.\n",
    "- The **Distributions** and **Histograms** dashboards show the distribution of a Tensor over time. This can be useful to visualize weights and biases and verify that they are changing in an expected way."
   ]
  },
  {
   "cell_type": "code",
   "execution_count": null,
   "metadata": {},
   "outputs": [],
   "source": [
    "SkyValidator.inspect_training_process()"
   ]
  },
  {
   "cell_type": "markdown",
   "metadata": {},
   "source": [
    "### Evaluate the model on test data"
   ]
  },
  {
   "cell_type": "code",
   "execution_count": null,
   "metadata": {},
   "outputs": [],
   "source": [
    "results = SkyValidator.evaluate_model()"
   ]
  },
  {
   "cell_type": "markdown",
   "metadata": {},
   "source": [
    "***\n",
    "## **Prediction of Deep Learning models**\n",
    "**Create `Predictor` object**"
   ]
  },
  {
   "cell_type": "code",
   "execution_count": null,
   "metadata": {},
   "outputs": [],
   "source": [
    "SkyPredictor = skydl.Predictor()"
   ]
  },
  {
   "cell_type": "markdown",
   "metadata": {},
   "source": [
    "**Get token**"
   ]
  },
  {
   "cell_type": "code",
   "execution_count": null,
   "metadata": {},
   "outputs": [],
   "source": [
    "SkyPredictor.get_token(email='iker.sanchez@vizzuality.com')"
   ]
  },
  {
   "cell_type": "markdown",
   "metadata": {},
   "source": [
    "### Select model"
   ]
  },
  {
   "cell_type": "code",
   "execution_count": null,
   "metadata": {},
   "outputs": [],
   "source": [
    "SkyPredictor.models"
   ]
  },
  {
   "cell_type": "code",
   "execution_count": null,
   "metadata": {},
   "outputs": [],
   "source": [
    "versions = SkyPredictor.select_model(model_name='water_quality')"
   ]
  },
  {
   "cell_type": "markdown",
   "metadata": {},
   "source": [
    "### Select version"
   ]
  },
  {
   "cell_type": "code",
   "execution_count": null,
   "metadata": {},
   "outputs": [],
   "source": [
    "SkyPredictor.select_version(version=versions[2])"
   ]
  },
  {
   "cell_type": "markdown",
   "metadata": {},
   "source": [
    "## Creation of Geostore\n",
    "\n",
    "We select the areas in which we will perform the prediction."
   ]
  },
  {
   "cell_type": "code",
   "execution_count": null,
   "metadata": {},
   "outputs": [],
   "source": [
    "atts={'geojson': {'type': 'FeatureCollection',\n",
    "  'features': [{'type': 'Feature',\n",
    "    'properties': {},\n",
    "    'geometry': {'type': 'Polygon',\n",
    "     'coordinates': [[[0.5548095703125, 40.496048060627885],\n",
    "                      [0.9558105468749999,40.496048060627885],\n",
    "                      [0.9558105468749999,40.83667117059108],\n",
    "                      [0.5548095703125,40.83667117059108],\n",
    "                      [0.5548095703125,40.496048060627885]]]}}]}}\n",
    "\n",
    "atts={'geojson': {'type': 'FeatureCollection',\n",
    "  'features': [{'type': 'Feature',\n",
    "    'properties': {},\n",
    "    'geometry': {'type': 'Polygon',\n",
    "     'coordinates': [[[-6.56982421875,36.52950186333475],\n",
    "                      [-6.208648681640625,36.52950186333475],\n",
    "                      [-6.208648681640625,36.81917959744268],\n",
    "                      [-6.56982421875,36.81917959744268],\n",
    "                      [-6.56982421875,36.52950186333475]]]}}]}}"
   ]
  },
  {
   "cell_type": "code",
   "execution_count": null,
   "metadata": {},
   "outputs": [],
   "source": [
    "SkyPredictor.create_geostore_from_geojson(atts)"
   ]
  },
  {
   "cell_type": "markdown",
   "metadata": {},
   "source": [
    "## Predicting in AI Platform"
   ]
  },
  {
   "cell_type": "code",
   "execution_count": null,
   "metadata": {},
   "outputs": [],
   "source": [
    "SkyPredictor.predict_ai_platform(init_date='2019-04-11', end_date='2019-04-21', min=0, max=3)"
   ]
  },
  {
   "cell_type": "code",
   "execution_count": null,
   "metadata": {},
   "outputs": [],
   "source": []
  }
 ],
 "metadata": {
  "kernelspec": {
   "display_name": "Python 3",
   "language": "python",
   "name": "python3"
  },
  "language_info": {
   "codemirror_mode": {
    "name": "ipython",
    "version": 3
   },
   "file_extension": ".py",
   "mimetype": "text/x-python",
   "name": "python",
   "nbconvert_exporter": "python",
   "pygments_lexer": "ipython3",
   "version": "3.6.10"
  }
 },
 "nbformat": 4,
 "nbformat_minor": 4
}
