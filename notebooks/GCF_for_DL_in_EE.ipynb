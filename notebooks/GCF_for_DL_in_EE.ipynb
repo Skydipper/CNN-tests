{
 "cells": [
  {
   "cell_type": "markdown",
   "metadata": {},
   "source": [
    "# Google Cloud Functions for Deep Learning with Earth Engine\n",
    "**Setup software libraries**"
   ]
  },
  {
   "cell_type": "code",
   "execution_count": 1,
   "metadata": {},
   "outputs": [
    {
     "data": {
      "text/plain": [
       "'0.1.202'"
      ]
     },
     "execution_count": 1,
     "metadata": {},
     "output_type": "execute_result"
    }
   ],
   "source": [
    "# Import and initialize the Earth Engine library.\n",
    "import ee\n",
    "ee.Initialize()\n",
    "ee.__version__"
   ]
  },
  {
   "cell_type": "code",
   "execution_count": 2,
   "metadata": {},
   "outputs": [
    {
     "name": "stdout",
     "output_type": "stream",
     "text": [
      "0.8.3\n"
     ]
    }
   ],
   "source": [
    "# Folium setup.\n",
    "import folium\n",
    "print(folium.__version__)"
   ]
  },
  {
   "cell_type": "code",
   "execution_count": 3,
   "metadata": {},
   "outputs": [],
   "source": [
    "import ee_collection_specifics\n",
    "from pprint import pprint\n",
    "import requests\n",
    "import json\n",
    "import env"
   ]
  },
  {
   "cell_type": "markdown",
   "metadata": {},
   "source": [
    "## Data pre-processing\n",
    "### Python package with the cloud function code\n",
    "\n",
    "It's necessary to create a Python package to hold the cloud function code.  Here we're going to get started with that by creating a folder for the package."
   ]
  },
  {
   "cell_type": "code",
   "execution_count": 65,
   "metadata": {},
   "outputs": [],
   "source": [
    "PACKAGE_PATH = 'Google_Cloud_Functions/ee_pre_processing'\n",
    "\n",
    "!rm -r {PACKAGE_PATH}\n",
    "!mkdir {PACKAGE_PATH}\n",
    "!ls -l {PACKAGE_PATH}"
   ]
  },
  {
   "cell_type": "markdown",
   "metadata": {},
   "source": [
    "**Files**\n",
    "\n",
    "Fist we copy the `privatekey.json` file with the [service account keys](https://cloud.google.com/iam/docs/creating-managing-service-account-keys) and the `ee_collection_specifics.py` and `env.py` files into de folder."
   ]
  },
  {
   "cell_type": "code",
   "execution_count": 66,
   "metadata": {},
   "outputs": [],
   "source": [
    "!cp ee_collection_specifics.py {PACKAGE_PATH}/ee_collection_specifics.py\n",
    "!cp {env.privatekey_path} {PACKAGE_PATH}/privatekey.json\n",
    "!cp env.py {PACKAGE_PATH}/env.py"
   ]
  },
  {
   "cell_type": "markdown",
   "metadata": {},
   "source": [
    "**`main.py` file**\n",
    "\n",
    "We'll use the `%%writefile` command to write the contents of the main function code to a file called `main.py`."
   ]
  },
  {
   "cell_type": "code",
   "execution_count": 67,
   "metadata": {},
   "outputs": [
    {
     "name": "stdout",
     "output_type": "stream",
     "text": [
      "Writing Google_Cloud_Functions/ee_pre_processing/main.py\n"
     ]
    }
   ],
   "source": [
    "%%writefile {PACKAGE_PATH}/main.py\n",
    "\n",
    "import ee\n",
    "import json\n",
    "import numpy as np\n",
    "import ee_collection_specifics\n",
    "import env\n",
    "\n",
    "account = env.service_account\n",
    "credentials = ee.ServiceAccountCredentials(account, 'privatekey.json')\n",
    "ee.Initialize(credentials)\n",
    "\n",
    "def min_max_values(image, collection, scale):\n",
    "    \n",
    "    normThreshold = ee_collection_specifics.ee_bands_normThreshold(collection)\n",
    "    \n",
    "    num = 2\n",
    "    lon = np.linspace(-180, 180, num)\n",
    "    lat = np.linspace(-90, 90, num)\n",
    "    \n",
    "    features = []\n",
    "    for i in range(len(lon)-1):\n",
    "        for j in range(len(lat)-1):\n",
    "            features.append(ee.Feature(ee.Geometry.Rectangle(lon[i], lat[j], lon[i+1], lat[j+1])))\n",
    "    \n",
    "    regReducer = {\n",
    "        'geometry': ee.FeatureCollection(features),\n",
    "        'reducer': ee.Reducer.minMax(),\n",
    "        'maxPixels': 1e10,\n",
    "        'bestEffort': True,\n",
    "        'scale':scale\n",
    "        \n",
    "    }\n",
    "    \n",
    "    values = image.reduceRegion(**regReducer).getInfo()\n",
    "    print(values)\n",
    "    \n",
    "    # Avoid outliers by taking into account only the normThreshold% of the data points.\n",
    "    regReducer = {\n",
    "        'geometry': ee.FeatureCollection(features),\n",
    "        'reducer': ee.Reducer.histogram(),\n",
    "        'maxPixels': 1e10,\n",
    "        'bestEffort': True,\n",
    "        'scale':scale\n",
    "        \n",
    "    }\n",
    "    \n",
    "    hist = image.reduceRegion(**regReducer).getInfo()\n",
    "\n",
    "    for band in list(normThreshold.keys()):\n",
    "        if normThreshold[band] != 100:\n",
    "            count = np.array(hist.get(band).get('histogram'))\n",
    "            x = np.array(hist.get(band).get('bucketMeans'))\n",
    "        \n",
    "            cumulative_per = np.cumsum(count/count.sum()*100)\n",
    "        \n",
    "            values[band+'_max'] = x[np.where(cumulative_per < normThreshold[band])][-1]\n",
    "        \n",
    "    return values\n",
    "\n",
    "def normalize_ee_images(image, collection, values):\n",
    "    \n",
    "    Bands = ee_collection_specifics.ee_bands(collection)\n",
    "       \n",
    "    # Normalize [0, 1] ee images\n",
    "    for i, band in enumerate(Bands):\n",
    "        if i == 0:\n",
    "            image_new = image.select(band).clamp(values[band+'_min'], values[band+'_max'])\\\n",
    "                                .subtract(values[band+'_min'])\\\n",
    "                                .divide(values[band+'_max']-values[band+'_min'])\n",
    "        else:\n",
    "            image_new = image_new.addBands(image.select(band).clamp(values[band+'_min'], values[band+'_max'])\\\n",
    "                                    .subtract(values[band+'_min'])\\\n",
    "                                    .divide(values[band+'_max']-values[band+'_min']))\n",
    "            \n",
    "    return image_new\n",
    "    \n",
    "def ee_pre_processing(request):\n",
    "    request = request.get_json()\n",
    "\n",
    "    # Variables\n",
    "    collection = request.get('collection')\n",
    "    startDate = ee.Date(request.get('start'))\n",
    "    stopDate  = ee.Date(request.get('end'))\n",
    "    scale  = request.get('scale')\n",
    "    # Bands\n",
    "    bands = ee_collection_specifics.ee_bands(collection)\n",
    "\n",
    "    # Get composite\n",
    "    image = ee_collection_specifics.Composite(collection)(startDate, stopDate)\n",
    "    image = image.select(bands)\n",
    "\n",
    "    # Normalize images\n",
    "    if ee_collection_specifics.normalize(collection):\n",
    "        # Get min man values for each band\n",
    "        values = min_max_values(image, collection, scale)\n",
    "\n",
    "        # Normalize images\n",
    "        image = normalize_ee_images(image, collection, values)\n",
    "        \n",
    "    return json.dumps({'bands_min_max': values, 'composite': image.serialize()})"
   ]
  },
  {
   "cell_type": "markdown",
   "metadata": {},
   "source": [
    "We include the `requirements.txt` file:"
   ]
  },
  {
   "cell_type": "code",
   "execution_count": 68,
   "metadata": {},
   "outputs": [
    {
     "name": "stdout",
     "output_type": "stream",
     "text": [
      "Writing Google_Cloud_Functions/ee_pre_processing/requirements.txt\n"
     ]
    }
   ],
   "source": [
    "%%writefile {PACKAGE_PATH}/requirements.txt\n",
    "earthengine-api==0.1.202\n",
    "numpy==1.17.2"
   ]
  },
  {
   "cell_type": "markdown",
   "metadata": {},
   "source": [
    "Finally cd to that directory and deploy the cloud Function with the following command:\n",
    "\n",
    "`gcloud functions deploy ee_pre_processing --runtime python37 --trigger-http --timeout=400`"
   ]
  },
  {
   "cell_type": "code",
   "execution_count": 69,
   "metadata": {},
   "outputs": [
    {
     "name": "stdout",
     "output_type": "stream",
     "text": [
      "/Users/ikersanchez/Vizzuality/GitHub/Skydipper/CNN-tests/notebooks/Google_Cloud_Functions/ee_pre_processing\n",
      "Deploying function (may take a while - up to 2 minutes)...done.                \n",
      "availableMemoryMb: 256\n",
      "entryPoint: ee_pre_processing\n",
      "httpsTrigger:\n",
      "  url: https://us-central1-skydipper-196010.cloudfunctions.net/ee_pre_processing\n",
      "labels:\n",
      "  deployment-tool: cli-gcloud\n",
      "name: projects/skydipper-196010/locations/us-central1/functions/ee_pre_processing\n",
      "runtime: python37\n",
      "serviceAccountEmail: skydipper-196010@appspot.gserviceaccount.com\n",
      "sourceUploadUrl: https://storage.googleapis.com/gcf-upload-us-central1-6055a6ac-90d7-4296-b9d7-f9a2b2e4cff2/ddf37c5b-93f0-4316-bac9-52a65ee0c025.zip?GoogleAccessId=service-230510979472@gcf-admin-robot.iam.gserviceaccount.com&Expires=1576684323&Signature=iUpBGbR6HQZpDoVeveC7Npmd%2FFd2AVm8LuANXDYeOl4sstdCKpafxjaV60PzlhOQ7vfsV0Rv7RvT3aOY3ImhuV2iSuCBjiFN0AOT1UEQMnoXrUtxboAdYlnomJScS6v3F6VUrXLJ%2F%2Fhymrt85O7%2B3JYgUBEDoXzRnHlJFfEjL2BpDVxvrCQ6R2vWHAuBURAQb9cHkjYbjDa0aXsH0rEOhaVKP0KhEaAHI2i7Xl2cdvFA3NIMNbb8%2Ba7se%2F02BOjOjML07e85IAoMoGcyMa5lkvqYpzI8Zxvm3LmAyKf65vmn%2BEwYhAJkbeI02SMX9SQ76rCHiAh6ZV%2BtXwRszu47Ww%3D%3D\n",
      "status: ACTIVE\n",
      "timeout: 400s\n",
      "updateTime: '2019-12-18T15:22:49Z'\n",
      "versionId: '11'\n"
     ]
    }
   ],
   "source": [
    "%cd {PACKAGE_PATH}\n",
    "!gcloud functions deploy ee_pre_processing --runtime python37 --trigger-http --timeout=400"
   ]
  },
  {
   "cell_type": "markdown",
   "metadata": {},
   "source": [
    "cd back to the current working directory"
   ]
  },
  {
   "cell_type": "code",
   "execution_count": 56,
   "metadata": {},
   "outputs": [
    {
     "name": "stdout",
     "output_type": "stream",
     "text": [
      "/Users/ikersanchez/Vizzuality/GitHub/Skydipper/CNN-tests/notebooks/Google_Cloud_Functions\n",
      "/Users/ikersanchez/Vizzuality/GitHub/Skydipper/CNN-tests/notebooks\n",
      "\u001b[1m\u001b[36mAI_Platform\u001b[m\u001b[m\n",
      "Cloud_Optimized_Geotiffs.ipynb\n",
      "DL_with_EE_CloudStorage_AIPlatform.ipynb\n",
      "Download_Earth_Engine.ipynb\n",
      "EE_as_a_tile_server.ipynb\n",
      "Earth_Engine_and_Keras.ipynb\n",
      "GCF_for_DL_in_EE.ipynb\n",
      "\u001b[1m\u001b[36mGoogle_Cloud_Functions\u001b[m\u001b[m\n",
      "Keras_in_AI_Platform_TFRecords.ipynb\n",
      "Keras_in_ML_Engine.ipynb\n",
      "Keras_with_TFData.ipynb\n",
      "Keras_with_TFRecord.ipynb\n",
      "SegNet_Keras.ipynb\n",
      "Segmentation_TFRecords_ML_Engine.ipynb\n",
      "Sentinel2_classifier.ipynb\n",
      "Sentinel2_cropland_mapping.ipynb\n",
      "Tile_Prediction.ipynb\n",
      "\u001b[1m\u001b[36m__pycache__\u001b[m\u001b[m\n",
      "config.yaml\n",
      "ee_collection_specifics.py\n",
      "env.py\n",
      "\u001b[1m\u001b[36mpreprocess\u001b[m\u001b[m\n"
     ]
    }
   ],
   "source": [
    "%cd .. \n",
    "%cd .. "
   ]
  },
  {
   "cell_type": "markdown",
   "metadata": {},
   "source": [
    "### Call"
   ]
  },
  {
   "cell_type": "code",
   "execution_count": 61,
   "metadata": {},
   "outputs": [],
   "source": [
    "payload =   {\n",
    "    \"collection\": 'Sentinel2_TOA',\n",
    "    \"start\": '2016-01-01',\n",
    "    \"end\": '2016-12-31',\n",
    "    \"scale\": 30\n",
    "}"
   ]
  },
  {
   "cell_type": "code",
   "execution_count": 62,
   "metadata": {},
   "outputs": [
    {
     "data": {
      "text/plain": [
       "{'composite': '{\"type\": \"CompoundValue\", \"scope\": [[\"0\", {\"type\": \"Invocation\", \"arguments\": {\"id\": \"COPERNICUS/S2\"}, \"functionName\": \"ImageCollection.load\"}], [\"1\", {\"type\": \"Invocation\", \"arguments\": {\"value\": \"2016-01-01\"}, \"functionName\": \"Date\"}], [\"2\", {\"type\": \"Invocation\", \"arguments\": {\"value\": \"2016-12-31\"}, \"functionName\": \"Date\"}], [\"3\", {\"type\": \"Invocation\", \"arguments\": {\"start\": {\"type\": \"ValueRef\", \"value\": \"1\"}, \"end\": {\"type\": \"ValueRef\", \"value\": \"2\"}}, \"functionName\": \"DateRange\"}], [\"4\", {\"type\": \"Invocation\", \"arguments\": {\"rightField\": \"system:time_start\", \"leftValue\": {\"type\": \"ValueRef\", \"value\": \"3\"}}, \"functionName\": \"Filter.dateRangeContains\"}], [\"5\", {\"type\": \"Invocation\", \"arguments\": {\"collection\": {\"type\": \"ValueRef\", \"value\": \"0\"}, \"filter\": {\"type\": \"ValueRef\", \"value\": \"4\"}}, \"functionName\": \"Collection.filter\"}], [\"6\", {\"type\": \"Invocation\", \"arguments\": {\"leftField\": \"CLOUDY_PIXEL_PERCENTAGE\", \"rightValue\": 20}, \"functionName\": \"Filter.lessThan\"}], [\"7\", {\"type\": \"Invocation\", \"arguments\": {\"collection\": {\"type\": \"ValueRef\", \"value\": \"5\"}, \"filter\": {\"type\": \"ValueRef\", \"value\": \"6\"}}, \"functionName\": \"Collection.filter\"}], [\"8\", [\"QA60\"]], [\"9\", {\"type\": \"Invocation\", \"arguments\": {\"input\": {\"type\": \"ArgumentRef\", \"value\": \"_MAPPING_VAR_0_0\"}, \"bandSelectors\": {\"type\": \"ValueRef\", \"value\": \"8\"}}, \"functionName\": \"Image.select\"}], [\"10\", {\"type\": \"Invocation\", \"arguments\": {\"value\": 1024}, \"functionName\": \"Image.constant\"}], [\"11\", {\"type\": \"Invocation\", \"arguments\": {\"image1\": {\"type\": \"ValueRef\", \"value\": \"9\"}, \"image2\": {\"type\": \"ValueRef\", \"value\": \"10\"}}, \"functionName\": \"Image.bitwiseAnd\"}], [\"12\", {\"type\": \"Invocation\", \"arguments\": {\"value\": 0}, \"functionName\": \"Image.constant\"}], [\"13\", {\"type\": \"Invocation\", \"arguments\": {\"image1\": {\"type\": \"ValueRef\", \"value\": \"11\"}, \"image2\": {\"type\": \"ValueRef\", \"value\": \"12\"}}, \"functionName\": \"Image.eq\"}], [\"14\", {\"type\": \"Invocation\", \"arguments\": {\"value\": 2048}, \"functionName\": \"Image.constant\"}], [\"15\", {\"type\": \"Invocation\", \"arguments\": {\"image1\": {\"type\": \"ValueRef\", \"value\": \"9\"}, \"image2\": {\"type\": \"ValueRef\", \"value\": \"14\"}}, \"functionName\": \"Image.bitwiseAnd\"}], [\"16\", {\"type\": \"Invocation\", \"arguments\": {\"image1\": {\"type\": \"ValueRef\", \"value\": \"15\"}, \"image2\": {\"type\": \"ValueRef\", \"value\": \"12\"}}, \"functionName\": \"Image.eq\"}], [\"17\", {\"type\": \"Invocation\", \"arguments\": {\"image1\": {\"type\": \"ValueRef\", \"value\": \"13\"}, \"image2\": {\"type\": \"ValueRef\", \"value\": \"16\"}}, \"functionName\": \"Image.and\"}], [\"18\", {\"type\": \"Invocation\", \"arguments\": {\"image\": {\"type\": \"ArgumentRef\", \"value\": \"_MAPPING_VAR_0_0\"}, \"mask\": {\"type\": \"ValueRef\", \"value\": \"17\"}}, \"functionName\": \"Image.updateMask\"}], [\"19\", {\"type\": \"Function\", \"argumentNames\": [\"_MAPPING_VAR_0_0\"], \"body\": {\"type\": \"ValueRef\", \"value\": \"18\"}}], [\"20\", {\"type\": \"Invocation\", \"arguments\": {\"collection\": {\"type\": \"ValueRef\", \"value\": \"7\"}, \"baseAlgorithm\": {\"type\": \"ValueRef\", \"value\": \"19\"}}, \"functionName\": \"Collection.map\"}], [\"21\", {\"type\": \"Invocation\", \"arguments\": {\"collection\": {\"type\": \"ValueRef\", \"value\": \"20\"}}, \"functionName\": \"reduce.median\"}], [\"22\", [\"B1\", \"B2\", \"B3\", \"B4\", \"B5\", \"B6\", \"B7\", \"B8A\", \"B8\", \"B11\", \"B12\"]], [\"23\", {\"type\": \"Invocation\", \"arguments\": {\"input\": {\"type\": \"ValueRef\", \"value\": \"21\"}, \"bandSelectors\": {\"type\": \"ValueRef\", \"value\": \"22\"}}, \"functionName\": \"Image.select\"}], [\"24\", [\"B1\"]], [\"25\", {\"type\": \"Invocation\", \"arguments\": {\"input\": {\"type\": \"ValueRef\", \"value\": \"23\"}, \"bandSelectors\": {\"type\": \"ValueRef\", \"value\": \"24\"}}, \"functionName\": \"Image.select\"}], [\"26\", {\"type\": \"Invocation\", \"arguments\": {\"input\": {\"type\": \"ValueRef\", \"value\": \"25\"}, \"low\": 1.0, \"high\": 3807.6194751381217}, \"functionName\": \"Image.clamp\"}], [\"27\", {\"type\": \"Invocation\", \"arguments\": {\"value\": 1.0}, \"functionName\": \"Image.constant\"}], [\"28\", {\"type\": \"Invocation\", \"arguments\": {\"image1\": {\"type\": \"ValueRef\", \"value\": \"26\"}, \"image2\": {\"type\": \"ValueRef\", \"value\": \"27\"}}, \"functionName\": \"Image.subtract\"}], [\"29\", {\"type\": \"Invocation\", \"arguments\": {\"value\": 3806.6194751381217}, \"functionName\": \"Image.constant\"}], [\"30\", {\"type\": \"Invocation\", \"arguments\": {\"image1\": {\"type\": \"ValueRef\", \"value\": \"28\"}, \"image2\": {\"type\": \"ValueRef\", \"value\": \"29\"}}, \"functionName\": \"Image.divide\"}], [\"31\", [\"B2\"]], [\"32\", {\"type\": \"Invocation\", \"arguments\": {\"input\": {\"type\": \"ValueRef\", \"value\": \"23\"}, \"bandSelectors\": {\"type\": \"ValueRef\", \"value\": \"31\"}}, \"functionName\": \"Image.select\"}], [\"33\", {\"type\": \"Invocation\", \"arguments\": {\"input\": {\"type\": \"ValueRef\", \"value\": \"32\"}, \"low\": 1.0, \"high\": 3294.657679738562}, \"functionName\": \"Image.clamp\"}], [\"34\", {\"type\": \"Invocation\", \"arguments\": {\"image1\": {\"type\": \"ValueRef\", \"value\": \"33\"}, \"image2\": {\"type\": \"ValueRef\", \"value\": \"27\"}}, \"functionName\": \"Image.subtract\"}], [\"35\", {\"type\": \"Invocation\", \"arguments\": {\"value\": 3293.657679738562}, \"functionName\": \"Image.constant\"}], [\"36\", {\"type\": \"Invocation\", \"arguments\": {\"image1\": {\"type\": \"ValueRef\", \"value\": \"34\"}, \"image2\": {\"type\": \"ValueRef\", \"value\": \"35\"}}, \"functionName\": \"Image.divide\"}], [\"37\", {\"type\": \"Invocation\", \"arguments\": {\"dstImg\": {\"type\": \"ValueRef\", \"value\": \"30\"}, \"srcImg\": {\"type\": \"ValueRef\", \"value\": \"36\"}}, \"functionName\": \"Image.addBands\"}], [\"38\", [\"B3\"]], [\"39\", {\"type\": \"Invocation\", \"arguments\": {\"input\": {\"type\": \"ValueRef\", \"value\": \"23\"}, \"bandSelectors\": {\"type\": \"ValueRef\", \"value\": \"38\"}}, \"functionName\": \"Image.select\"}], [\"40\", {\"type\": \"Invocation\", \"arguments\": {\"input\": {\"type\": \"ValueRef\", \"value\": \"39\"}, \"low\": 1.0, \"high\": 2783.693302891933}, \"functionName\": \"Image.clamp\"}], [\"41\", {\"type\": \"Invocation\", \"arguments\": {\"image1\": {\"type\": \"ValueRef\", \"value\": \"40\"}, \"image2\": {\"type\": \"ValueRef\", \"value\": \"27\"}}, \"functionName\": \"Image.subtract\"}], [\"42\", {\"type\": \"Invocation\", \"arguments\": {\"value\": 2782.693302891933}, \"functionName\": \"Image.constant\"}], [\"43\", {\"type\": \"Invocation\", \"arguments\": {\"image1\": {\"type\": \"ValueRef\", \"value\": \"41\"}, \"image2\": {\"type\": \"ValueRef\", \"value\": \"42\"}}, \"functionName\": \"Image.divide\"}], [\"44\", {\"type\": \"Invocation\", \"arguments\": {\"dstImg\": {\"type\": \"ValueRef\", \"value\": \"37\"}, \"srcImg\": {\"type\": \"ValueRef\", \"value\": \"43\"}}, \"functionName\": \"Image.addBands\"}], [\"45\", [\"B4\"]], [\"46\", {\"type\": \"Invocation\", \"arguments\": {\"input\": {\"type\": \"ValueRef\", \"value\": \"23\"}, \"bandSelectors\": {\"type\": \"ValueRef\", \"value\": \"45\"}}, \"functionName\": \"Image.select\"}], [\"47\", {\"type\": \"Invocation\", \"arguments\": {\"input\": {\"type\": \"ValueRef\", \"value\": \"46\"}, \"low\": 1.0, \"high\": 2721.0618374558303}, \"functionName\": \"Image.clamp\"}], [\"48\", {\"type\": \"Invocation\", \"arguments\": {\"image1\": {\"type\": \"ValueRef\", \"value\": \"47\"}, \"image2\": {\"type\": \"ValueRef\", \"value\": \"27\"}}, \"functionName\": \"Image.subtract\"}], [\"49\", {\"type\": \"Invocation\", \"arguments\": {\"value\": 2720.0618374558303}, \"functionName\": \"Image.constant\"}], [\"50\", {\"type\": \"Invocation\", \"arguments\": {\"image1\": {\"type\": \"ValueRef\", \"value\": \"48\"}, \"image2\": {\"type\": \"ValueRef\", \"value\": \"49\"}}, \"functionName\": \"Image.divide\"}], [\"51\", {\"type\": \"Invocation\", \"arguments\": {\"dstImg\": {\"type\": \"ValueRef\", \"value\": \"44\"}, \"srcImg\": {\"type\": \"ValueRef\", \"value\": \"50\"}}, \"functionName\": \"Image.addBands\"}], [\"52\", [\"B5\"]], [\"53\", {\"type\": \"Invocation\", \"arguments\": {\"input\": {\"type\": \"ValueRef\", \"value\": \"23\"}, \"bandSelectors\": {\"type\": \"ValueRef\", \"value\": \"52\"}}, \"functionName\": \"Image.select\"}], [\"54\", {\"type\": \"Invocation\", \"arguments\": {\"input\": {\"type\": \"ValueRef\", \"value\": \"53\"}, \"low\": 1.0, \"high\": 4767.120137299771}, \"functionName\": \"Image.clamp\"}], [\"55\", {\"type\": \"Invocation\", \"arguments\": {\"image1\": {\"type\": \"ValueRef\", \"value\": \"54\"}, \"image2\": {\"type\": \"ValueRef\", \"value\": \"27\"}}, \"functionName\": \"Image.subtract\"}], [\"56\", {\"type\": \"Invocation\", \"arguments\": {\"value\": 4766.120137299771}, \"functionName\": \"Image.constant\"}], [\"57\", {\"type\": \"Invocation\", \"arguments\": {\"image1\": {\"type\": \"ValueRef\", \"value\": \"55\"}, \"image2\": {\"type\": \"ValueRef\", \"value\": \"56\"}}, \"functionName\": \"Image.divide\"}], [\"58\", {\"type\": \"Invocation\", \"arguments\": {\"dstImg\": {\"type\": \"ValueRef\", \"value\": \"51\"}, \"srcImg\": {\"type\": \"ValueRef\", \"value\": \"57\"}}, \"functionName\": \"Image.addBands\"}], [\"59\", [\"B6\"]], [\"60\", {\"type\": \"Invocation\", \"arguments\": {\"input\": {\"type\": \"ValueRef\", \"value\": \"23\"}, \"bandSelectors\": {\"type\": \"ValueRef\", \"value\": \"59\"}}, \"functionName\": \"Image.select\"}], [\"61\", {\"type\": \"Invocation\", \"arguments\": {\"input\": {\"type\": \"ValueRef\", \"value\": \"60\"}, \"low\": 1.0, \"high\": 4577.511415525114}, \"functionName\": \"Image.clamp\"}], [\"62\", {\"type\": \"Invocation\", \"arguments\": {\"image1\": {\"type\": \"ValueRef\", \"value\": \"61\"}, \"image2\": {\"type\": \"ValueRef\", \"value\": \"27\"}}, \"functionName\": \"Image.subtract\"}], [\"63\", {\"type\": \"Invocation\", \"arguments\": {\"value\": 4576.511415525114}, \"functionName\": \"Image.constant\"}], [\"64\", {\"type\": \"Invocation\", \"arguments\": {\"image1\": {\"type\": \"ValueRef\", \"value\": \"62\"}, \"image2\": {\"type\": \"ValueRef\", \"value\": \"63\"}}, \"functionName\": \"Image.divide\"}], [\"65\", {\"type\": \"Invocation\", \"arguments\": {\"dstImg\": {\"type\": \"ValueRef\", \"value\": \"58\"}, \"srcImg\": {\"type\": \"ValueRef\", \"value\": \"64\"}}, \"functionName\": \"Image.addBands\"}], [\"66\", [\"B7\"]], [\"67\", {\"type\": \"Invocation\", \"arguments\": {\"input\": {\"type\": \"ValueRef\", \"value\": \"23\"}, \"bandSelectors\": {\"type\": \"ValueRef\", \"value\": \"66\"}}, \"functionName\": \"Image.select\"}], [\"68\", {\"type\": \"Invocation\", \"arguments\": {\"input\": {\"type\": \"ValueRef\", \"value\": \"67\"}, \"low\": 1.0, \"high\": 4383.79792147806}, \"functionName\": \"Image.clamp\"}], [\"69\", {\"type\": \"Invocation\", \"arguments\": {\"image1\": {\"type\": \"ValueRef\", \"value\": \"68\"}, \"image2\": {\"type\": \"ValueRef\", \"value\": \"27\"}}, \"functionName\": \"Image.subtract\"}], [\"70\", {\"type\": \"Invocation\", \"arguments\": {\"value\": 4382.79792147806}, \"functionName\": \"Image.constant\"}], [\"71\", {\"type\": \"Invocation\", \"arguments\": {\"image1\": {\"type\": \"ValueRef\", \"value\": \"69\"}, \"image2\": {\"type\": \"ValueRef\", \"value\": \"70\"}}, \"functionName\": \"Image.divide\"}], [\"72\", {\"type\": \"Invocation\", \"arguments\": {\"dstImg\": {\"type\": \"ValueRef\", \"value\": \"65\"}, \"srcImg\": {\"type\": \"ValueRef\", \"value\": \"71\"}}, \"functionName\": \"Image.addBands\"}], [\"73\", [\"B8A\"]], [\"74\", {\"type\": \"Invocation\", \"arguments\": {\"input\": {\"type\": \"ValueRef\", \"value\": \"23\"}, \"bandSelectors\": {\"type\": \"ValueRef\", \"value\": \"73\"}}, \"functionName\": \"Image.select\"}], [\"75\", {\"type\": \"Invocation\", \"arguments\": {\"input\": {\"type\": \"ValueRef\", \"value\": \"74\"}, \"low\": 1.0, \"high\": 4191.087336244542}, \"functionName\": \"Image.clamp\"}], [\"76\", {\"type\": \"Invocation\", \"arguments\": {\"image1\": {\"type\": \"ValueRef\", \"value\": \"75\"}, \"image2\": {\"type\": \"ValueRef\", \"value\": \"27\"}}, \"functionName\": \"Image.subtract\"}], [\"77\", {\"type\": \"Invocation\", \"arguments\": {\"value\": 4190.087336244542}, \"functionName\": \"Image.constant\"}], [\"78\", {\"type\": \"Invocation\", \"arguments\": {\"image1\": {\"type\": \"ValueRef\", \"value\": \"76\"}, \"image2\": {\"type\": \"ValueRef\", \"value\": \"77\"}}, \"functionName\": \"Image.divide\"}], [\"79\", {\"type\": \"Invocation\", \"arguments\": {\"dstImg\": {\"type\": \"ValueRef\", \"value\": \"72\"}, \"srcImg\": {\"type\": \"ValueRef\", \"value\": \"78\"}}, \"functionName\": \"Image.addBands\"}], [\"80\", [\"B8\"]], [\"81\", {\"type\": \"Invocation\", \"arguments\": {\"input\": {\"type\": \"ValueRef\", \"value\": \"23\"}, \"bandSelectors\": {\"type\": \"ValueRef\", \"value\": \"80\"}}, \"functionName\": \"Image.select\"}], [\"82\", {\"type\": \"Invocation\", \"arguments\": {\"input\": {\"type\": \"ValueRef\", \"value\": \"81\"}, \"low\": 1.0, \"high\": 4063.190789473684}, \"functionName\": \"Image.clamp\"}], [\"83\", {\"type\": \"Invocation\", \"arguments\": {\"image1\": {\"type\": \"ValueRef\", \"value\": \"82\"}, \"image2\": {\"type\": \"ValueRef\", \"value\": \"27\"}}, \"functionName\": \"Image.subtract\"}], [\"84\", {\"type\": \"Invocation\", \"arguments\": {\"value\": 4062.190789473684}, \"functionName\": \"Image.constant\"}], [\"85\", {\"type\": \"Invocation\", \"arguments\": {\"image1\": {\"type\": \"ValueRef\", \"value\": \"83\"}, \"image2\": {\"type\": \"ValueRef\", \"value\": \"84\"}}, \"functionName\": \"Image.divide\"}], [\"86\", {\"type\": \"Invocation\", \"arguments\": {\"dstImg\": {\"type\": \"ValueRef\", \"value\": \"79\"}, \"srcImg\": {\"type\": \"ValueRef\", \"value\": \"85\"}}, \"functionName\": \"Image.addBands\"}], [\"87\", [\"B11\"]], [\"88\", {\"type\": \"Invocation\", \"arguments\": {\"input\": {\"type\": \"ValueRef\", \"value\": \"23\"}, \"bandSelectors\": {\"type\": \"ValueRef\", \"value\": \"87\"}}, \"functionName\": \"Image.select\"}], [\"89\", {\"type\": \"Invocation\", \"arguments\": {\"input\": {\"type\": \"ValueRef\", \"value\": \"88\"}, \"low\": 1.0, \"high\": 9660.0}, \"functionName\": \"Image.clamp\"}], [\"90\", {\"type\": \"Invocation\", \"arguments\": {\"image1\": {\"type\": \"ValueRef\", \"value\": \"89\"}, \"image2\": {\"type\": \"ValueRef\", \"value\": \"27\"}}, \"functionName\": \"Image.subtract\"}], [\"91\", {\"type\": \"Invocation\", \"arguments\": {\"value\": 9659.0}, \"functionName\": \"Image.constant\"}], [\"92\", {\"type\": \"Invocation\", \"arguments\": {\"image1\": {\"type\": \"ValueRef\", \"value\": \"90\"}, \"image2\": {\"type\": \"ValueRef\", \"value\": \"91\"}}, \"functionName\": \"Image.divide\"}], [\"93\", {\"type\": \"Invocation\", \"arguments\": {\"dstImg\": {\"type\": \"ValueRef\", \"value\": \"86\"}, \"srcImg\": {\"type\": \"ValueRef\", \"value\": \"92\"}}, \"functionName\": \"Image.addBands\"}], [\"94\", [\"B12\"]], [\"95\", {\"type\": \"Invocation\", \"arguments\": {\"input\": {\"type\": \"ValueRef\", \"value\": \"23\"}, \"bandSelectors\": {\"type\": \"ValueRef\", \"value\": \"94\"}}, \"functionName\": \"Image.select\"}], [\"96\", {\"type\": \"Invocation\", \"arguments\": {\"input\": {\"type\": \"ValueRef\", \"value\": \"95\"}, \"low\": 1.0, \"high\": 7536.0}, \"functionName\": \"Image.clamp\"}], [\"97\", {\"type\": \"Invocation\", \"arguments\": {\"image1\": {\"type\": \"ValueRef\", \"value\": \"96\"}, \"image2\": {\"type\": \"ValueRef\", \"value\": \"27\"}}, \"functionName\": \"Image.subtract\"}], [\"98\", {\"type\": \"Invocation\", \"arguments\": {\"value\": 7535.0}, \"functionName\": \"Image.constant\"}], [\"99\", {\"type\": \"Invocation\", \"arguments\": {\"image1\": {\"type\": \"ValueRef\", \"value\": \"97\"}, \"image2\": {\"type\": \"ValueRef\", \"value\": \"98\"}}, \"functionName\": \"Image.divide\"}], [\"100\", {\"type\": \"Invocation\", \"arguments\": {\"dstImg\": {\"type\": \"ValueRef\", \"value\": \"93\"}, \"srcImg\": {\"type\": \"ValueRef\", \"value\": \"99\"}}, \"functionName\": \"Image.addBands\"}]], \"value\": {\"type\": \"ValueRef\", \"value\": \"100\"}}'}"
      ]
     },
     "execution_count": 62,
     "metadata": {},
     "output_type": "execute_result"
    }
   ],
   "source": [
    "url = f'https://us-central1-skydipper-196010.cloudfunctions.net/ee_pre_processing'\n",
    "\n",
    "headers = {'Content-Type': 'application/json'}\n",
    "\n",
    "output_pre_processing = requests.post(url, data=json.dumps(payload), headers=headers)\n",
    "output_pre_processing.json()"
   ]
  },
  {
   "cell_type": "markdown",
   "metadata": {},
   "source": [
    "**Deserialize**"
   ]
  },
  {
   "cell_type": "code",
   "execution_count": 63,
   "metadata": {},
   "outputs": [],
   "source": [
    "image = ee.deserializer.fromJSON(output_pre_processing.json()['composite'])"
   ]
  },
  {
   "cell_type": "markdown",
   "metadata": {},
   "source": [
    "**Display**"
   ]
  },
  {
   "cell_type": "code",
   "execution_count": 64,
   "metadata": {},
   "outputs": [
    {
     "data": {
      "text/html": [
       "<div style=\"width:100%;\"><div style=\"position:relative;width:100%;height:0;padding-bottom:60%;\"><iframe src=\"data:text/html;charset=utf-8;base64,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\" style=\"position:absolute;width:100%;height:100%;left:0;top:0;border:none !important;\" allowfullscreen webkitallowfullscreen mozallowfullscreen></iframe></div></div>"
      ],
      "text/plain": [
       "<folium.folium.Map at 0x12308c410>"
      ]
     },
     "execution_count": 64,
     "metadata": {},
     "output_type": "execute_result"
    }
   ],
   "source": [
    "# Define the URL format used for Earth Engine generated map tiles.\n",
    "EE_TILES = 'https://earthengine.googleapis.com/map/{mapid}/{{z}}/{{x}}/{{y}}?token={token}'\n",
    "# Use folium to visualize the imagery.\n",
    "collection = payload.get(\"collection\")\n",
    "map = folium.Map(location=[38.1623, -121.6911])\n",
    "for params in ee_collection_specifics.vizz_params(collection):\n",
    "    mapid = image.getMapId(params)\n",
    "    folium.TileLayer(\n",
    "    tiles=EE_TILES.format(**mapid),\n",
    "    attr='Google Earth Engine',\n",
    "    overlay=True,\n",
    "    name=str(params['bands']),\n",
    "  ).add_to(map)\n",
    "    \n",
    "map.add_child(folium.LayerControl())\n",
    "map"
   ]
  },
  {
   "cell_type": "markdown",
   "metadata": {},
   "source": [
    "***\n",
    "## Create TFRecords for training\n",
    "### Python package with the cloud function code\n",
    "\n",
    "It's necessary to create a Python package to hold the cloud function code.  Here we're going to get started with that by creating a folder for the package."
   ]
  },
  {
   "cell_type": "code",
   "execution_count": 12,
   "metadata": {},
   "outputs": [],
   "source": [
    "PACKAGE_PATH = 'Google_Cloud_Functions/ee_tfrecords_training'\n",
    "\n",
    "!rm -r {PACKAGE_PATH}\n",
    "!mkdir {PACKAGE_PATH}\n",
    "!ls -l {PACKAGE_PATH}"
   ]
  },
  {
   "cell_type": "markdown",
   "metadata": {},
   "source": [
    "**Files**\n",
    "\n",
    "Fist we copy the `privatekey.json` file with the [service account keys](https://cloud.google.com/iam/docs/creating-managing-service-account-keys) and the `ee_collection_specifics.py` and `env.py` files into the folder."
   ]
  },
  {
   "cell_type": "code",
   "execution_count": 13,
   "metadata": {},
   "outputs": [],
   "source": [
    "!cp ee_collection_specifics.py {PACKAGE_PATH}/ee_collection_specifics.py\n",
    "!cp {env.privatekey_path} {PACKAGE_PATH}/privatekey.json\n",
    "!cp env.py {PACKAGE_PATH}/env.py"
   ]
  },
  {
   "cell_type": "markdown",
   "metadata": {},
   "source": [
    "**`main.py` file**\n",
    "\n",
    "We'll use the `%%writefile` command to write the contents of the main function code to a file called `main.py`."
   ]
  },
  {
   "cell_type": "code",
   "execution_count": 14,
   "metadata": {},
   "outputs": [
    {
     "name": "stdout",
     "output_type": "stream",
     "text": [
      "Writing Google_Cloud_Functions/ee_tfrecords_training/main.py\n"
     ]
    }
   ],
   "source": [
    "%%writefile {PACKAGE_PATH}/main.py\n",
    "\n",
    "import ee\n",
    "import json\n",
    "import numpy as np\n",
    "import requests\n",
    "import ee_collection_specifics\n",
    "import env\n",
    "\n",
    "account = env.service_account\n",
    "credentials = ee.ServiceAccountCredentials(account, 'privatekey.json')\n",
    "ee.Initialize(credentials)\n",
    "\n",
    "def image_into_array(url, collections, bands, kernelSize, startDate, stopDate, scale):\n",
    "\n",
    "    headers = {'Content-Type': 'application/json'}\n",
    "    \n",
    "    for i, collection in enumerate(collections):\n",
    "        payload =   {\n",
    "            \"collection\": collection,\n",
    "            \"start\": startDate,\n",
    "            \"end\": stopDate,\n",
    "            \"scale\": scale\n",
    "        }\n",
    "        \n",
    "        output = requests.post(url, data=json.dumps(payload), headers=headers)\n",
    "        \n",
    "        if i == 0:\n",
    "            image = ee.deserializer.fromJSON(output.json()['composite']).select(bands[i])\n",
    "        else:\n",
    "            featureStack = ee.Image.cat([image,\\\n",
    "                                         ee.deserializer.fromJSON(output.json()['composite']).select(bands[i])\\\n",
    "                                        ]).float()\n",
    "            \n",
    "    list = ee.List.repeat(1, kernelSize)\n",
    "    lists = ee.List.repeat(list, kernelSize)\n",
    "    kernel = ee.Kernel.fixed(kernelSize, kernelSize, lists)\n",
    "    \n",
    "    arrays = featureStack.neighborhoodToArray(kernel)\n",
    "    \n",
    "    return arrays\n",
    "\n",
    "def GeoJSONs_to_FeatureCollections(multipolygon):\n",
    "    # Make a list of Features\n",
    "    features = []\n",
    "    for i in range(len(multipolygon.get('features')[0].get('geometry').get('coordinates'))):\n",
    "        features.append(\n",
    "            ee.Feature(\n",
    "                ee.Geometry.Polygon(\n",
    "                    multipolygon.get('features')[0].get('geometry').get('coordinates')[i]\n",
    "                )\n",
    "            )\n",
    "        )\n",
    "        \n",
    "    # Create a FeatureCollection from the list and print it.\n",
    "    return ee.FeatureCollection(features)\n",
    "\n",
    "def export_TFRecords(arrays, scale, nShards, sampleSize, features, polysLists, baseNames, bucket, folder, selectors):\n",
    "    # Export all the training/evaluation data (in many pieces), with one task per geometry.\n",
    "    filePaths = []\n",
    "    for i, feature in enumerate(features):\n",
    "        for g in range(feature.size().getInfo()):\n",
    "            geomSample = ee.FeatureCollection([])\n",
    "            for j in range(nShards):\n",
    "                sample = arrays.sample(\n",
    "                    region = ee.Feature(polysLists[i].get(g)).geometry(), \n",
    "                    scale = scale, \n",
    "                    numPixels = sampleSize / nShards, # Size of the shard.\n",
    "                    seed = j,\n",
    "                    tileScale = 8\n",
    "                )\n",
    "                geomSample = geomSample.merge(sample)\n",
    "                \n",
    "            desc = baseNames[i] + '_g' + str(g)\n",
    "            \n",
    "            filePaths.append(bucket+ '/' + folder + '/' + desc)\n",
    "            \n",
    "            task = ee.batch.Export.table.toCloudStorage(\n",
    "                collection = geomSample,\n",
    "                description = desc, \n",
    "                bucket = bucket, \n",
    "                fileNamePrefix = folder + '/' + desc,\n",
    "                fileFormat = 'TFRecord',\n",
    "                selectors = selectors\n",
    "            )\n",
    "            task.start()\n",
    "            \n",
    "    return filePaths   \n",
    "\n",
    "def ee_tfrecords_training(request):\n",
    "    request = request.get_json()\n",
    "\n",
    "    # Variables\n",
    "    inCollection = request.get('in_collection')\n",
    "    outCollection = request.get('out_collection')\n",
    "    inBands = request.get('in_bands')\n",
    "    outBands = request.get('out_bands')\n",
    "    startDate = request.get('start')\n",
    "    stopDate = request.get('end')\n",
    "    scale = request.get('scale')\n",
    "    sampleSize = request.get('sample_size')\n",
    "    datasetName = request.get('dataset_name')\n",
    "    trainPolys = request.get('train_polys')\n",
    "    evalPolys = request.get('eval_polys')\n",
    "\n",
    "    # An array of images\n",
    "    url = f'https://us-central1-skydipper-196010.cloudfunctions.net/ee_pre_processing'\n",
    "    collections = [inCollection, outCollection]\n",
    "    bands = [inBands, outBands]\n",
    "    kernelSize = 256\n",
    "\n",
    "    arrays = image_into_array(url, collections, bands, kernelSize, startDate, stopDate, scale)\n",
    "    \n",
    "    # Convert the GeoJSONs to feature collections\n",
    "    trainFeatures = GeoJSONs_to_FeatureCollections(trainPolys)\n",
    "    evalFeatures = GeoJSONs_to_FeatureCollections(evalPolys)\n",
    "\n",
    "    # Convert the feature collections to lists for iteration.\n",
    "    trainPolysList = trainFeatures.toList(trainFeatures.size())\n",
    "    evalPolysList = evalFeatures.toList(evalFeatures.size())\n",
    "\n",
    "    # These numbers determined experimentally.\n",
    "    nShards  = int(sampleSize/20)#100 # Number of shards in each polygon.\n",
    "\n",
    "    features = [trainFeatures, evalFeatures]\n",
    "    polysLists = [trainPolysList, evalPolysList]\n",
    "    baseNames = ['training_patches', 'eval_patches']\n",
    "    bucket = 'skydipper_materials'\n",
    "    folder = 'cnn-models/'+datasetName+'/data'\n",
    "    selectors = inBands + outBands\n",
    "\n",
    "    # Export all the training/evaluation data (in many pieces), with one task per geometry.\n",
    "    filePaths   = export_TFRecords(arrays, scale, nShards, sampleSize, features, polysLists, baseNames, bucket, folder, selectors)    \n",
    "\n",
    "        \n",
    "    return json.dumps({\n",
    "      \"file_paths\": filePaths, \n",
    "      \"training_polygons\": trainFeatures.serialize(), \n",
    "      \"evaluation_polygons\": evalFeatures.serialize()\n",
    "      })"
   ]
  },
  {
   "cell_type": "markdown",
   "metadata": {},
   "source": [
    "We include the `requirements.txt` file:"
   ]
  },
  {
   "cell_type": "code",
   "execution_count": 15,
   "metadata": {},
   "outputs": [
    {
     "name": "stdout",
     "output_type": "stream",
     "text": [
      "Writing Google_Cloud_Functions/ee_tfrecords_training/requirements.txt\n"
     ]
    }
   ],
   "source": [
    "%%writefile {PACKAGE_PATH}/requirements.txt\n",
    "earthengine-api==0.1.202\n",
    "numpy==1.17.2\n",
    "requests==2.21.0"
   ]
  },
  {
   "cell_type": "markdown",
   "metadata": {},
   "source": [
    "Finally cd to that directory and deploy the cloud Function with the following command:\n",
    "\n",
    "`gcloud functions deploy ee_tfrecords_training --runtime python37 --trigger-http --timeout=400`"
   ]
  },
  {
   "cell_type": "markdown",
   "metadata": {},
   "source": [
    "#### Call"
   ]
  },
  {
   "cell_type": "code",
   "execution_count": null,
   "metadata": {},
   "outputs": [],
   "source": [
    "payload = {\n",
    "    \"in_collection\": 'Landsat8_SR',\n",
    "    \"out_collection\": 'CroplandDataLayers',\n",
    "    \"in_bands\": ['B1','B2','B3','B4','B5','B6','B7'],\n",
    "    \"out_bands\": ['cropland', 'land', 'water', 'urban'],\n",
    "    \"start\": '2016-01-01',\n",
    "    \"end\": '2016-12-31',\n",
    "    \"scale\": 30, \n",
    "    \"sample_size\": 10,\n",
    "    \"dataset_name\": 'Landsat8_Cropland3',\n",
    "    \"train_polys\": {\n",
    "      \"type\": \"FeatureCollection\",\n",
    "      \"features\": [\n",
    "        {\n",
    "          \"type\": \"Feature\",\n",
    "          \"properties\": {},\n",
    "          \"geometry\": {\n",
    "            \"type\": \"MultiPolygon\",\n",
    "            \"coordinates\":  [\n",
    "                [[[  -122.882080078125,  40.50126945841645],[  -122.1240234375,  40.50126945841645],[  -122.1240234375,  41.008920735004885],[  -122.882080078125,  41.008920735004885],[  -122.882080078125,  40.50126945841645]]],\n",
    "                [[[  -122.2283935546875,  39.00637903337455],[  -121.607666015625,  39.00637903337455],[  -121.607666015625,  39.46588451142044],[  -122.2283935546875,  39.46588451142044],[  -122.2283935546875,  39.00637903337455]]],\n",
    "                [[[  -120.355224609375,  38.77978137804918],[  -119.608154296875,  38.77978137804918],[  -119.608154296875,  39.342794408952365],[  -120.355224609375,  39.342794408952365],[  -120.355224609375,  38.77978137804918]]],\n",
    "                [[[  -121.90979003906249,  37.70555348721583],[  -120.9814453125,  37.70555348721583],[  -120.9814453125,  38.39764411353178],[  -121.90979003906249,  38.39764411353178],[  -121.90979003906249,  37.70555348721583]]],\n",
    "                [[[  -120.03662109374999,  37.45741810262938],[  -119.1851806640625,  37.45741810262938],[  -119.1851806640625,  38.08268954483802],[  -120.03662109374999,  38.08268954483802],[  -120.03662109374999,  37.45741810262938]]],\n",
    "                [[[  -120.03662109374999,  37.45741810262938],[  -119.1851806640625,  37.45741810262938],[  -119.1851806640625,  38.08268954483802],[  -120.03662109374999,  38.08268954483802],[  -120.03662109374999,  37.45741810262938]]],\n",
    "                [[[  -120.03662109374999,  37.45741810262938],[  -119.1851806640625,  37.45741810262938],[  -119.1851806640625,  38.08268954483802],[  -120.03662109374999,  38.08268954483802],[  -120.03662109374999,  37.45741810262938]]],\n",
    "                [[[  -112.554931640625,  33.0178760185549],[  -111.588134765625,  33.0178760185549],[  -111.588134765625,  33.78827853625996],[  -112.554931640625,  33.78827853625996],[  -112.554931640625,  33.0178760185549]]],\n",
    "                [[[  -112.87353515625,  40.51379915504413],[  -111.829833984375,  40.51379915504413],[  -111.829833984375,  41.28606238749825],[  -112.87353515625,  41.28606238749825],[  -112.87353515625,  40.51379915504413]]],\n",
    "                [[[  -108.19335937499999,  39.095962936305476],[  -107.1826171875,  39.095962936305476],[  -107.1826171875,  39.85915479295669],[  -108.19335937499999,  39.85915479295669],[  -108.19335937499999,  39.095962936305476]]],\n",
    "                [[[  -124.25537109375,  30.86451022625836],[  -124.25537109375,  30.86451022625836],[  -124.25537109375,  30.86451022625836],[  -124.25537109375,  30.86451022625836]]],\n",
    "                [[[  -106.875,  37.142803443716836],[  -105.49072265625,  37.142803443716836],[  -105.49072265625,  38.18638677411551],[  -106.875,  38.18638677411551],[  -106.875,  37.142803443716836]]],\n",
    "                [[[  -117.31201171875001,  43.27720532212024],[  -116.01562499999999,  43.27720532212024],[  -116.01562499999999,  44.134913443750726],[  -117.31201171875001,  44.134913443750726],[  -117.31201171875001,  43.27720532212024]]],\n",
    "                [[[  -115.7080078125,  44.69989765840318],[  -114.7412109375,  44.69989765840318],[  -114.7412109375,  45.36758436884978],[  -115.7080078125,  45.36758436884978],[  -115.7080078125,  44.69989765840318]]],\n",
    "                [[[  -120.65185546875,  47.517200697839414],[  -119.33349609375,  47.517200697839414],[  -119.33349609375,  48.32703913063476],[  -120.65185546875,  48.32703913063476],[  -120.65185546875,  47.517200697839414]]],\n",
    "                [[[  -119.83886718750001,  45.69083283645816],[  -118.38867187500001,  45.69083283645816],[  -118.38867187500001,  46.694667307773116],[  -119.83886718750001,  46.694667307773116],[  -119.83886718750001,  45.69083283645816]]],\n",
    "                [[[  -107.09472656249999,  47.45780853075031],[  -105.84228515625,  47.45780853075031],[  -105.84228515625,  48.31242790407178],[  -107.09472656249999,  48.31242790407178],[  -107.09472656249999,  47.45780853075031]]],\n",
    "                [[[  -101.57958984375,  46.93526088057719],[  -100.107421875,  46.93526088057719],[  -100.107421875,  47.945786463687185],[  -101.57958984375,  47.945786463687185],[  -101.57958984375,  46.93526088057719]]],\n",
    "                [[[  -101.162109375,  44.32384807250689],[  -99.7119140625,  44.32384807250689],[  -99.7119140625,  45.22848059584359],[  -101.162109375,  45.22848059584359],[  -101.162109375,  44.32384807250689]]],\n",
    "                [[[  -100.5908203125,  41.261291493919884],[  -99.25048828124999,  41.261291493919884],[  -99.25048828124999,  42.114523952464246],[  -100.5908203125,  42.114523952464246],[  -100.5908203125,  41.261291493919884]]],\n",
    "                [[[  -97.9541015625,  37.142803443716836],[  -96.65771484375,  37.142803443716836],[  -96.65771484375,  38.13455657705411],[  -97.9541015625,  38.13455657705411],[  -97.9541015625,  37.142803443716836]]],\n",
    "                [[[  -112.78564453124999,  32.91648534731439],[  -111.357421875,  32.91648534731439],[  -111.357421875,  33.925129700072],[  -112.78564453124999,  33.925129700072],[  -112.78564453124999,  32.91648534731439]]],\n",
    "                [[[  -106.435546875,  35.15584570226544],[  -105.22705078125,  35.15584570226544],[  -105.22705078125,  36.13787471840729],[  -106.435546875,  36.13787471840729],[  -106.435546875,  35.15584570226544]]],\n",
    "                [[[  -97.3828125,  32.45415593941475],[  -96.2841796875,  32.45415593941475],[  -96.2841796875,  33.22949814144951],[  -97.3828125,  33.22949814144951],[  -97.3828125,  32.45415593941475]]],\n",
    "                [[[  -97.97607421875,  35.04798673426734],[  -97.00927734375,  35.04798673426734],[  -97.00927734375,  35.764343479667176],[  -97.97607421875,  35.764343479667176],[  -97.97607421875,  35.04798673426734]]],\n",
    "                [[[  -97.97607421875,  35.04798673426734],[  -97.00927734375,  35.04798673426734],[  -97.00927734375,  35.764343479667176],[  -97.97607421875,  35.764343479667176],[  -97.97607421875,  35.04798673426734]]],\n",
    "                [[[  -95.4052734375,  47.62097541515849],[  -94.24072265625,  47.62097541515849],[  -94.24072265625,  48.28319289548349],[  -95.4052734375,  48.28319289548349],[  -95.4052734375,  47.62097541515849]]],\n",
    "                [[[  -94.19677734375,  41.27780646738183],[  -93.09814453125,  41.27780646738183],[  -93.09814453125,  42.13082130188811],[  -94.19677734375,  42.13082130188811],[  -94.19677734375,  41.27780646738183]]],\n",
    "                [[[  -93.71337890625,  37.75334401310656],[  -92.6806640625,  37.75334401310656],[  -92.6806640625,  38.51378825951165],[  -93.71337890625,  38.51378825951165],[  -93.71337890625,  37.75334401310656]]],\n",
    "                [[[  -90.63720703125,  34.615126683462194],[  -89.47265625,  34.615126683462194],[  -89.47265625,  35.69299463209881],[  -90.63720703125,  35.69299463209881],[  -90.63720703125,  34.615126683462194]]],\n",
    "                [[[  -93.05419921875,  30.44867367928756],[  -91.77978515625,  30.44867367928756],[  -91.77978515625,  31.57853542647338],[  -93.05419921875,  31.57853542647338],[  -93.05419921875,  30.44867367928756]]],\n",
    "                [[[  -90.02197265625,  44.276671273775186],[  -88.59374999999999,  44.276671273775186],[  -88.59374999999999,  44.98034238084973],[  -90.02197265625,  44.98034238084973],[  -90.02197265625,  44.276671273775186]]],\n",
    "                [[[  -90.63720703125,  38.41055825094609],[  -89.49462890625,  38.41055825094609],[  -89.49462890625,  39.18117526158749],[  -90.63720703125,  39.18117526158749],[  -90.63720703125,  38.41055825094609]]],\n",
    "                [[[  -87.56103515625,  35.62158189955968],[  -86.28662109375,  35.62158189955968],[  -86.28662109375,  36.4566360115962],[  -87.56103515625,  36.4566360115962],[  -87.56103515625,  35.62158189955968]]],\n",
    "                [[[  -90.63720703125,  31.93351676190369],[  -89.49462890625,  31.93351676190369],[  -89.49462890625,  32.731840896865684],[  -90.63720703125,  32.731840896865684],[  -90.63720703125,  31.93351676190369]]],\n",
    "                [[[  -69.54345703125,  44.68427737181225],[  -68.5107421875,  44.68427737181225],[  -68.5107421875,  45.336701909968134],[  -69.54345703125,  45.336701909968134],[  -69.54345703125,  44.68427737181225]]],\n",
    "                [[[  -73.212890625,  41.49212083968776],[  -72.35595703125,  41.49212083968776],[  -72.35595703125,  42.032974332441405],[  -73.212890625,  42.032974332441405],[  -73.212890625,  41.49212083968776]]],\n",
    "                [[[  -77.93701171875,  38.70265930723801],[  -76.97021484375,  38.70265930723801],[  -76.97021484375,  39.26628442213066],[  -77.93701171875,  39.26628442213066],[  -77.93701171875,  38.70265930723801]]],\n",
    "                [[[  -79.25537109375,  35.44277092585766],[  -78.15673828125,  35.44277092585766],[  -78.15673828125,  36.13787471840729],[  -79.25537109375,  36.13787471840729],[  -79.25537109375,  35.44277092585766]]],\n",
    "                [[[  -81.4306640625,  33.55970664841198],[  -80.44189453125,  33.55970664841198],[  -80.44189453125,  34.288991865037524],[  -81.4306640625,  34.288991865037524],[  -81.4306640625,  33.55970664841198]]],\n",
    "                [[[  -84.90234375,  33.394759218577995],[  -83.91357421875,  33.394759218577995],[  -83.91357421875,  34.19817309627726],[  -84.90234375,  34.19817309627726],[  -84.90234375,  33.394759218577995]]],\n",
    "                [[[  -82.28759765625,  28.246327971048842],[  -81.2548828125,  28.246327971048842],[  -81.2548828125,  29.209713225868185],[  -82.28759765625,  29.209713225868185],[  -82.28759765625,  28.246327971048842]]],\n",
    "                [[[  -109.88525390624999,  42.65012181368022],[  -108.56689453125,  42.65012181368022],[  -108.56689453125,  43.50075243569041],[  -109.88525390624999,  43.50075243569041],[  -109.88525390624999,  42.65012181368022]]],\n",
    "                [[[  -117.61962890624999,  39.04478604850143],[  -116.65283203124999,  39.04478604850143],[  -116.65283203124999,  39.740986355883564],[  -117.61962890624999,  39.740986355883564],[  -117.61962890624999,  39.04478604850143]]],\n",
    "                [[[  -102.67822265625,  31.42866311735861],[  -101.71142578125,  31.42866311735861],[  -101.71142578125,  32.26855544621476],[  -102.67822265625,  32.26855544621476],[  -102.67822265625,  31.42866311735861]]],\n",
    "                [[[  -119.47631835937499,  36.03133177633187],[  -118.58642578124999,  36.03133177633187],[  -118.58642578124999,  36.55377524336089],[  -119.47631835937499,  36.55377524336089],[  -119.47631835937499,  36.03133177633187]]],\n",
    "                [[[  -116.224365234375,  33.091541548655215],[  -115.56518554687499,  33.091541548655215],[  -115.56518554687499,  33.568861182555565],[  -116.224365234375,  33.568861182555565],[  -116.224365234375,  33.091541548655215]]]\n",
    "            ]\n",
    "          }\n",
    "        }\n",
    "      ]\n",
    "    },\n",
    "    \"eval_polys\": {\n",
    "      \"type\": \"FeatureCollection\",\n",
    "      \"features\": [\n",
    "        {\n",
    "          \"type\": \"Feature\",\n",
    "          \"properties\": {},\n",
    "          \"geometry\": {\n",
    "            \"type\": \"MultiPolygon\",\n",
    "            \"coordinates\":  [\n",
    "                [[[-122.13208008,   41.25126946],[-121.37402344,   41.25126946],[-121.37402344,   41.75892074],[-122.13208008,   41.75892074],[-122.13208008,   41.25126946]]],\n",
    "                [[[-121.15979004,   38.45555349],[-120.23144531,   38.45555349],[-120.23144531,   39.14764411],[-121.15979004,   39.14764411],[-121.15979004,   38.45555349]]],\n",
    "                [[[-111.80493164,   33.76787602],[-110.83813477,   33.76787602],[-110.83813477,   34.53827854],[-111.80493164,   34.53827854],[-111.80493164,   33.76787602]]],\n",
    "                [[[-106.125     ,   37.89280344],[-104.74072266,   37.89280344],[-104.74072266,   38.93638677],[-106.125     ,   38.93638677],[-106.125     ,   37.89280344]]],\n",
    "                [[[-119.08886719,   46.44083284],[-117.63867188,   46.44083284],[-117.63867188,   47.44466731],[-119.08886719,   47.44466731],[-119.08886719,   46.44083284]]],\n",
    "                [[[-99.84082031,  42.01129149],[-98.50048828,  42.01129149],[-98.50048828,  42.86452395],[-99.84082031,  42.86452395],[-99.84082031,  42.01129149]]],\n",
    "                [[[-96.6328125 ,  33.20415594],[-95.53417969,  33.20415594],[-95.53417969,  33.97949814],[-96.6328125 ,  33.97949814],[-96.6328125 ,  33.20415594]]],\n",
    "                [[[-93.44677734,  42.02780647],[-92.34814453,  42.02780647],[-92.34814453,  42.8808213 ],[-93.44677734,  42.8808213 ],[-93.44677734,  42.02780647]]],\n",
    "                [[[-89.27197266,  45.02667127],[-87.84375   ,  45.02667127],[-87.84375   ,  45.73034238],[-89.27197266,  45.73034238],[-89.27197266,  45.02667127]]],\n",
    "                [[[-68.79345703,  45.43427737],[-67.76074219,  45.43427737],[-67.76074219,  46.08670191],[-68.79345703,  46.08670191],[-68.79345703,  45.43427737]]],\n",
    "                [[[-80.68066406,  34.30970665],[-79.69189453,  34.30970665],[-79.69189453,  35.03899187],[-80.68066406,  35.03899187],[-80.68066406,  34.30970665]]],\n",
    "                [[[-116.86962891,   39.79478605],[-115.90283203,   39.79478605],[-115.90283203,   40.49098636],[-116.86962891,   40.49098636],[-116.86962891,   39.79478605]]]\n",
    "            ]\n",
    "          }\n",
    "        }\n",
    "      ]\n",
    "    }\n",
    "}"
   ]
  },
  {
   "cell_type": "code",
   "execution_count": null,
   "metadata": {},
   "outputs": [],
   "source": [
    "url = f'https://us-central1-skydipper-196010.cloudfunctions.net/ee_tfrecords_training'\n",
    "\n",
    "headers = {'Content-Type': 'application/json'}\n",
    "\n",
    "output = requests.post(url, data=json.dumps(payload), headers=headers)\n",
    "output.json()"
   ]
  },
  {
   "cell_type": "markdown",
   "metadata": {},
   "source": [
    "**Deserialize Polygons**"
   ]
  },
  {
   "cell_type": "code",
   "execution_count": null,
   "metadata": {},
   "outputs": [],
   "source": [
    "trainFeatures = ee.deserializer.fromJSON(output.json()['training_polygons'])\n",
    "evalFeatures = ee.deserializer.fromJSON(output.json()['evaluation_polygons'])"
   ]
  },
  {
   "cell_type": "markdown",
   "metadata": {},
   "source": [
    "**Display Polygons**"
   ]
  },
  {
   "cell_type": "code",
   "execution_count": null,
   "metadata": {},
   "outputs": [],
   "source": [
    "polyImage = ee.Image(0).byte().paint(trainFeatures, 1).paint(evalFeatures, 2)\n",
    "polyImage = polyImage.updateMask(polyImage)\n",
    "\n",
    "mapid = polyImage.getMapId({'min': 1, 'max': 2, 'palette': ['red', 'blue']})\n",
    "map = folium.Map(location=[38., -100.], zoom_start=5)\n",
    "folium.TileLayer(\n",
    "    tiles=EE_TILES.format(**mapid),\n",
    "    attr='Google Earth Engine',\n",
    "    overlay=True,\n",
    "    name='training polygons',\n",
    "  ).add_to(map)\n",
    "map.add_child(folium.LayerControl())\n",
    "map"
   ]
  },
  {
   "cell_type": "markdown",
   "metadata": {},
   "source": [
    "***\n",
    "## Predict in Earth Engine\n",
    "### Python package with the cloud function code\n",
    "\n",
    "It's necessary to create a Python package to hold the cloud function code.  Here we're going to get started with that by creating a folder for the package."
   ]
  },
  {
   "cell_type": "code",
   "execution_count": 16,
   "metadata": {},
   "outputs": [],
   "source": [
    "PACKAGE_PATH = 'Google_Cloud_Functions/ee_model_prediction'\n",
    "\n",
    "!rm -r {PACKAGE_PATH}\n",
    "!mkdir {PACKAGE_PATH}\n",
    "!ls -l {PACKAGE_PATH}"
   ]
  },
  {
   "cell_type": "markdown",
   "metadata": {},
   "source": [
    "**Files**\n",
    "\n",
    "Fist we copy the `privatekey.json` file with the [service account keys](https://cloud.google.com/iam/docs/creating-managing-service-account-keys) and the `ee_collection_specifics.py` file into de folder."
   ]
  },
  {
   "cell_type": "code",
   "execution_count": 17,
   "metadata": {},
   "outputs": [],
   "source": [
    "!cp ee_collection_specifics.py {PACKAGE_PATH}/ee_collection_specifics.py\n",
    "!cp {env.privatekey_path} {PACKAGE_PATH}/privatekey.json"
   ]
  },
  {
   "cell_type": "markdown",
   "metadata": {},
   "source": [
    "**`main.py` file**\n",
    "\n",
    "We'll use the `%%writefile` command to write the contents of the main function code to a file called `main.py`."
   ]
  },
  {
   "cell_type": "code",
   "execution_count": 18,
   "metadata": {},
   "outputs": [
    {
     "name": "stdout",
     "output_type": "stream",
     "text": [
      "Writing Google_Cloud_Functions/ee_model_prediction/main.py\n"
     ]
    }
   ],
   "source": [
    "%%writefile {PACKAGE_PATH}/main.py\n",
    "\n",
    "import ee\n",
    "import json\n",
    "import numpy as np\n",
    "import requests\n",
    "import ee_collection_specifics\n",
    "\n",
    "account = 'skydipper@skydipper-196010.iam.gserviceaccount.com'\n",
    "credentials = ee.ServiceAccountCredentials(account, 'privatekey.json')\n",
    "ee.Initialize(credentials)\n",
    "\n",
    "def output_image(image, outBands, project_id, model_name, version_name, scale):\n",
    "    # Load the trained model and use it for prediction.\n",
    "    model = ee.Model.fromAiPlatformPredictor(\n",
    "        projectName = project_id,\n",
    "        modelName = model_name,\n",
    "        version = version_name,\n",
    "        inputTileSize = [144, 144],\n",
    "        inputOverlapSize = [8, 8],\n",
    "        proj = ee.Projection('EPSG:4326').atScale(scale),\n",
    "        fixInputProj = True,\n",
    "        outputBands = {'prediction': {\n",
    "            'type': ee.PixelType.float(),\n",
    "            'dimensions': 1,\n",
    "          }                  \n",
    "        }\n",
    "    )\n",
    "    prediction = model.predictImage(image.toArray()).arrayFlatten([outBands])\n",
    "    \n",
    "    return prediction\n",
    "\n",
    "def ee_tile_url(image, collection, bands):\n",
    "    # Define the URL format used for Earth Engine generated map tiles.\n",
    "    EE_TILES = 'https://earthengine.googleapis.com/map/{mapid}/{{z}}/{{x}}/{{y}}?token={token}'\n",
    "    \n",
    "    dic = {}\n",
    "    for params in ee_collection_specifics.vizz_params(collection):\n",
    "        result =  all(elem in bands for elem in params.get('bands'))\n",
    "        if result:\n",
    "            mapid = image.getMapId(params)\n",
    "            \n",
    "            dic['tile_url_'+str(params.get('bands'))] = EE_TILES.format(**mapid)\n",
    "    \n",
    "    return dic\n",
    "\n",
    "def ee_model_prediction(request):\n",
    "    request = request.get_json()\n",
    "\n",
    "    # Variables\n",
    "    inComposite = request.get('composite') \n",
    "    inCollection = request.get('in_collection')\n",
    "    outCollection = request.get('out_collection')\n",
    "    inBands = request.get('in_bands')\n",
    "    outBands = request.get('out_bands')\n",
    "    startDate = request.get('start')\n",
    "    stopDate = request.get('end')\n",
    "    scale = request.get('scale')\n",
    "    project_id = request.get('project_id')\n",
    "    model_name = request.get('model_name')\n",
    "    version_name = request.get('version_name')\n",
    "    geometry = request.get('geometry')\n",
    "\n",
    "    # Get input imagery on which it was trained the model\n",
    "    image = ee.deserializer.fromJSON(inComposite)\n",
    "    # Select bands and convert them into float\n",
    "    image = image.select(inBands).float()\n",
    "        \n",
    "    # Get output imagery \n",
    "    prediction = output_image(image, outBands, project_id, model_name, version_name, scale)\n",
    "    \n",
    "    # Clip the prediction area with the polygon\n",
    "    polygon = ee.Geometry.Polygon(geometry.get('features')[0].get('geometry').get('coordinates'))\n",
    "    prediction = prediction.clip(polygon)\n",
    "\n",
    "    # Get centroid\n",
    "    centroid = polygon.centroid().getInfo().get('coordinates')[::-1]\n",
    "    \n",
    "    # Output\n",
    "    output = {}\n",
    "    output.update({\"centroid\": centroid})   \n",
    "    # Input bands tile urls\n",
    "    output.update(ee_tile_url(image, inCollection, inBands))\n",
    "    # Output bands tile urls\n",
    "    output.update(ee_tile_url(prediction, outCollection, outBands))\n",
    "    \n",
    "    # Serialize prediction \n",
    "    output.update({'prediction': prediction.serialize()})\n",
    "    \n",
    "    return json.dumps(output)"
   ]
  },
  {
   "cell_type": "markdown",
   "metadata": {},
   "source": [
    "We include the `requirements.txt` file:"
   ]
  },
  {
   "cell_type": "code",
   "execution_count": 19,
   "metadata": {},
   "outputs": [
    {
     "name": "stdout",
     "output_type": "stream",
     "text": [
      "Writing Google_Cloud_Functions/ee_model_prediction/requirements.txt\n"
     ]
    }
   ],
   "source": [
    "%%writefile {PACKAGE_PATH}/requirements.txt\n",
    "earthengine-api==0.1.202\n",
    "numpy==1.17.2\n",
    "requests==2.21.0"
   ]
  },
  {
   "cell_type": "markdown",
   "metadata": {},
   "source": [
    "Finally cd to that directory and deploy the cloud Function with the following command:\n",
    "\n",
    "`gcloud functions deploy ee_model_prediction --runtime python37 --trigger-http --timeout=120`"
   ]
  },
  {
   "cell_type": "markdown",
   "metadata": {},
   "source": [
    "#### Call"
   ]
  },
  {
   "cell_type": "code",
   "execution_count": 24,
   "metadata": {},
   "outputs": [],
   "source": [
    "payload = {\n",
    "    \"composite\": output_pre_processing.json()['composite'],\n",
    "    \"in_collection\": 'Landsat8_SR',\n",
    "    \"out_collection\": 'CroplandDataLayers',\n",
    "    \"in_bands\": ['B1','B2','B3','B4','B5','B6','B7'],\n",
    "    \"out_bands\": ['cropland', 'land', 'water', 'urban'],\n",
    "    \"start\": '2016-01-01',\n",
    "    \"end\": '2016-12-31',\n",
    "    \"scale\": 30, \n",
    "    \"project_id\": \"skydipper-196010\",\n",
    "    \"model_name\": 'deepvel_Landsat8_Cropland',#'segnet_Landsat8_Cropland',\n",
    "    \"version_name\": 'v1576262418',#'v1576136158',\n",
    "    \"geometry\": {\n",
    "      \"type\": \"FeatureCollection\",\n",
    "      \"features\": [\n",
    "        {\n",
    "          \"type\": \"Feature\",\n",
    "          \"properties\": {},\n",
    "          \"geometry\": {\n",
    "            \"type\": \"Polygon\",\n",
    "            \"coordinates\": [\n",
    "              [\n",
    "                [\n",
    "                  -119.38430786132811,\n",
    "                  46.07370697571126\n",
    "                ],\n",
    "                [\n",
    "                  -118.89129638671875,\n",
    "                  46.07370697571126\n",
    "                ],\n",
    "                [\n",
    "                  -118.89129638671875,\n",
    "                  46.37772792457245\n",
    "                ],\n",
    "                [\n",
    "                  -119.38430786132811,\n",
    "                  46.37772792457245\n",
    "                ],\n",
    "                [\n",
    "                  -119.38430786132811,\n",
    "                  46.07370697571126\n",
    "                ]\n",
    "              ]\n",
    "            ]\n",
    "          }\n",
    "        }\n",
    "      ]\n",
    "    }\n",
    "}"
   ]
  },
  {
   "cell_type": "code",
   "execution_count": 25,
   "metadata": {},
   "outputs": [
    {
     "name": "stdout",
     "output_type": "stream",
     "text": [
      "{'centroid': [46.2258420319812, -119.1378021240236],\n",
      " 'prediction': '{\"type\": \"CompoundValue\", \"scope\": [[\"0\", {\"type\": '\n",
      "               '\"Invocation\", \"arguments\": {\"crs\": \"EPSG:4326\"}, '\n",
      "               '\"functionName\": \"Projection\"}], [\"1\", {\"type\": \"Invocation\", '\n",
      "               '\"arguments\": {\"projection\": {\"type\": \"ValueRef\", \"value\": '\n",
      "               '\"0\"}, \"meters\": 30}, \"functionName\": \"Projection.atScale\"}], '\n",
      "               '[\"2\", {\"type\": \"Invocation\", \"arguments\": {\"crs\": {\"type\": '\n",
      "               '\"ValueRef\", \"value\": \"1\"}}, \"functionName\": \"Projection\"}], '\n",
      "               '[\"3\", [144, 144]], [\"4\", [8, 8]], [\"5\", {\"type\": \"Invocation\", '\n",
      "               '\"arguments\": {}, \"functionName\": \"PixelType.float\"}], [\"6\", '\n",
      "               '{\"type\": \"Invocation\", \"arguments\": {\"precision\": {\"type\": '\n",
      "               '\"ValueRef\", \"value\": \"5\"}}, \"functionName\": \"PixelType\"}], '\n",
      "               '[\"7\", {\"type\": \"Dictionary\", \"value\": {\"type\": {\"type\": '\n",
      "               '\"ValueRef\", \"value\": \"6\"}, \"dimensions\": 1}}], [\"8\", {\"type\": '\n",
      "               '\"Dictionary\", \"value\": {\"prediction\": {\"type\": \"ValueRef\", '\n",
      "               '\"value\": \"7\"}}}], [\"9\", {\"type\": \"Invocation\", \"arguments\": '\n",
      "               '{\"projectName\": \"skydipper-196010\", \"modelName\": '\n",
      "               '\"deepvel_Landsat8_Cropland\", \"version\": \"v1576262418\", \"proj\": '\n",
      "               '{\"type\": \"ValueRef\", \"value\": \"2\"}, \"fixInputProj\": true, '\n",
      "               '\"inputTileSize\": {\"type\": \"ValueRef\", \"value\": \"3\"}, '\n",
      "               '\"inputOverlapSize\": {\"type\": \"ValueRef\", \"value\": \"4\"}, '\n",
      "               '\"outputBands\": {\"type\": \"ValueRef\", \"value\": \"8\"}}, '\n",
      "               '\"functionName\": \"Model.fromAiPlatformPredictor\"}], [\"10\", '\n",
      "               '{\"type\": \"Invocation\", \"arguments\": {\"id\": '\n",
      "               '\"LANDSAT/LC08/C01/T1_SR\"}, \"functionName\": '\n",
      "               '\"ImageCollection.load\"}], [\"11\", {\"type\": \"Invocation\", '\n",
      "               '\"arguments\": {\"value\": \"2016-01-01\"}, \"functionName\": '\n",
      "               '\"Date\"}], [\"12\", {\"type\": \"Invocation\", \"arguments\": {\"value\": '\n",
      "               '\"2016-12-31\"}, \"functionName\": \"Date\"}], [\"13\", {\"type\": '\n",
      "               '\"Invocation\", \"arguments\": {\"start\": {\"type\": \"ValueRef\", '\n",
      "               '\"value\": \"11\"}, \"end\": {\"type\": \"ValueRef\", \"value\": \"12\"}}, '\n",
      "               '\"functionName\": \"DateRange\"}], [\"14\", {\"type\": \"Invocation\", '\n",
      "               '\"arguments\": {\"rightField\": \"system:time_start\", \"leftValue\": '\n",
      "               '{\"type\": \"ValueRef\", \"value\": \"13\"}}, \"functionName\": '\n",
      "               '\"Filter.dateRangeContains\"}], [\"15\", {\"type\": \"Invocation\", '\n",
      "               '\"arguments\": {\"collection\": {\"type\": \"ValueRef\", \"value\": '\n",
      "               '\"10\"}, \"filter\": {\"type\": \"ValueRef\", \"value\": \"14\"}}, '\n",
      "               '\"functionName\": \"Collection.filter\"}], [\"16\", [\"pixel_qa\"]], '\n",
      "               '[\"17\", {\"type\": \"Invocation\", \"arguments\": {\"input\": {\"type\": '\n",
      "               '\"ArgumentRef\", \"value\": \"_MAPPING_VAR_0_0\"}, \"bandSelectors\": '\n",
      "               '{\"type\": \"ValueRef\", \"value\": \"16\"}}, \"functionName\": '\n",
      "               '\"Image.select\"}], [\"18\", {\"type\": \"Invocation\", \"arguments\": '\n",
      "               '{\"left\": 2, \"right\": 3}, \"functionName\": \"Number.pow\"}], '\n",
      "               '[\"19\", {\"type\": \"Invocation\", \"arguments\": {\"input\": {\"type\": '\n",
      "               '\"ValueRef\", \"value\": \"18\"}}, \"functionName\": \"Number.int\"}], '\n",
      "               '[\"20\", {\"type\": \"Invocation\", \"arguments\": {\"value\": {\"type\": '\n",
      "               '\"ValueRef\", \"value\": \"19\"}}, \"functionName\": '\n",
      "               '\"Image.constant\"}], [\"21\", {\"type\": \"Invocation\", \"arguments\": '\n",
      "               '{\"image1\": {\"type\": \"ValueRef\", \"value\": \"17\"}, \"image2\": '\n",
      "               '{\"type\": \"ValueRef\", \"value\": \"20\"}}, \"functionName\": '\n",
      "               '\"Image.bitwiseAnd\"}], [\"22\", {\"type\": \"Invocation\", '\n",
      "               '\"arguments\": {\"value\": 0}, \"functionName\": \"Image.constant\"}], '\n",
      "               '[\"23\", {\"type\": \"Invocation\", \"arguments\": {\"image1\": {\"type\": '\n",
      "               '\"ValueRef\", \"value\": \"21\"}, \"image2\": {\"type\": \"ValueRef\", '\n",
      "               '\"value\": \"22\"}}, \"functionName\": \"Image.eq\"}], [\"24\", {\"type\": '\n",
      "               '\"Invocation\", \"arguments\": {\"left\": 2, \"right\": 5}, '\n",
      "               '\"functionName\": \"Number.pow\"}], [\"25\", {\"type\": \"Invocation\", '\n",
      "               '\"arguments\": {\"input\": {\"type\": \"ValueRef\", \"value\": \"24\"}}, '\n",
      "               '\"functionName\": \"Number.int\"}], [\"26\", {\"type\": \"Invocation\", '\n",
      "               '\"arguments\": {\"value\": {\"type\": \"ValueRef\", \"value\": \"25\"}}, '\n",
      "               '\"functionName\": \"Image.constant\"}], [\"27\", {\"type\": '\n",
      "               '\"Invocation\", \"arguments\": {\"image1\": {\"type\": \"ValueRef\", '\n",
      "               '\"value\": \"17\"}, \"image2\": {\"type\": \"ValueRef\", \"value\": '\n",
      "               '\"26\"}}, \"functionName\": \"Image.bitwiseAnd\"}], [\"28\", {\"type\": '\n",
      "               '\"Invocation\", \"arguments\": {\"image1\": {\"type\": \"ValueRef\", '\n",
      "               '\"value\": \"27\"}, \"image2\": {\"type\": \"ValueRef\", \"value\": '\n",
      "               '\"22\"}}, \"functionName\": \"Image.eq\"}], [\"29\", {\"type\": '\n",
      "               '\"Invocation\", \"arguments\": {\"image1\": {\"type\": \"ValueRef\", '\n",
      "               '\"value\": \"23\"}, \"image2\": {\"type\": \"ValueRef\", \"value\": '\n",
      "               '\"28\"}}, \"functionName\": \"Image.and\"}], [\"30\", {\"type\": '\n",
      "               '\"Invocation\", \"arguments\": {\"image\": {\"type\": \"ArgumentRef\", '\n",
      "               '\"value\": \"_MAPPING_VAR_0_0\"}}, \"functionName\": \"Image.mask\"}], '\n",
      "               '[\"31\", {\"type\": \"Invocation\", \"arguments\": {}, \"functionName\": '\n",
      "               '\"Reducer.min\"}], [\"32\", {\"type\": \"Invocation\", \"arguments\": '\n",
      "               '{\"image\": {\"type\": \"ValueRef\", \"value\": \"30\"}, \"reducer\": '\n",
      "               '{\"type\": \"ValueRef\", \"value\": \"31\"}}, \"functionName\": '\n",
      "               '\"Image.reduce\"}], [\"33\", {\"type\": \"Invocation\", \"arguments\": '\n",
      "               '{\"image1\": {\"type\": \"ValueRef\", \"value\": \"29\"}, \"image2\": '\n",
      "               '{\"type\": \"ValueRef\", \"value\": \"32\"}}, \"functionName\": '\n",
      "               '\"Image.and\"}], [\"34\", [\"B1\", \"B2\", \"B3\", \"B4\", \"B5\", \"B6\", '\n",
      "               '\"B7\"]], [\"35\", {\"type\": \"Invocation\", \"arguments\": {\"input\": '\n",
      "               '{\"type\": \"ArgumentRef\", \"value\": \"_MAPPING_VAR_0_0\"}, '\n",
      "               '\"bandSelectors\": {\"type\": \"ValueRef\", \"value\": \"34\"}}, '\n",
      "               '\"functionName\": \"Image.select\"}], [\"36\", {\"type\": '\n",
      "               '\"Invocation\", \"arguments\": {\"image1\": {\"type\": \"ValueRef\", '\n",
      "               '\"value\": \"35\"}, \"image2\": {\"type\": \"ValueRef\", \"value\": '\n",
      "               '\"22\"}}, \"functionName\": \"Image.gt\"}], [\"37\", {\"type\": '\n",
      "               '\"Invocation\", \"arguments\": {\"value\": 10000}, \"functionName\": '\n",
      "               '\"Image.constant\"}], [\"38\", {\"type\": \"Invocation\", \"arguments\": '\n",
      "               '{\"image1\": {\"type\": \"ValueRef\", \"value\": \"35\"}, \"image2\": '\n",
      "               '{\"type\": \"ValueRef\", \"value\": \"37\"}}, \"functionName\": '\n",
      "               '\"Image.lt\"}], [\"39\", {\"type\": \"Invocation\", \"arguments\": '\n",
      "               '{\"image1\": {\"type\": \"ValueRef\", \"value\": \"36\"}, \"image2\": '\n",
      "               '{\"type\": \"ValueRef\", \"value\": \"38\"}}, \"functionName\": '\n",
      "               '\"Image.and\"}], [\"40\", {\"type\": \"Invocation\", \"arguments\": '\n",
      "               '{\"image\": {\"type\": \"ValueRef\", \"value\": \"39\"}, \"reducer\": '\n",
      "               '{\"type\": \"ValueRef\", \"value\": \"31\"}}, \"functionName\": '\n",
      "               '\"Image.reduce\"}], [\"41\", {\"type\": \"Invocation\", \"arguments\": '\n",
      "               '{\"image1\": {\"type\": \"ValueRef\", \"value\": \"33\"}, \"image2\": '\n",
      "               '{\"type\": \"ValueRef\", \"value\": \"40\"}}, \"functionName\": '\n",
      "               '\"Image.and\"}], [\"42\", {\"type\": \"Invocation\", \"arguments\": '\n",
      "               '{\"image\": {\"type\": \"ArgumentRef\", \"value\": '\n",
      "               '\"_MAPPING_VAR_0_0\"}, \"mask\": {\"type\": \"ValueRef\", \"value\": '\n",
      "               '\"41\"}}, \"functionName\": \"Image.updateMask\"}], [\"43\", {\"type\": '\n",
      "               '\"Function\", \"argumentNames\": [\"_MAPPING_VAR_0_0\"], \"body\": '\n",
      "               '{\"type\": \"ValueRef\", \"value\": \"42\"}}], [\"44\", {\"type\": '\n",
      "               '\"Invocation\", \"arguments\": {\"collection\": {\"type\": \"ValueRef\", '\n",
      "               '\"value\": \"15\"}, \"baseAlgorithm\": {\"type\": \"ValueRef\", \"value\": '\n",
      "               '\"43\"}}, \"functionName\": \"Collection.map\"}], [\"45\", {\"type\": '\n",
      "               '\"Invocation\", \"arguments\": {\"collection\": {\"type\": \"ValueRef\", '\n",
      "               '\"value\": \"44\"}}, \"functionName\": \"reduce.median\"}], [\"46\", '\n",
      "               '[\"B1\", \"B2\", \"B3\", \"B4\", \"B5\", \"B6\", \"B7\", \"B10\", \"B11\"]], '\n",
      "               '[\"47\", {\"type\": \"Invocation\", \"arguments\": {\"input\": {\"type\": '\n",
      "               '\"ValueRef\", \"value\": \"45\"}, \"bandSelectors\": {\"type\": '\n",
      "               '\"ValueRef\", \"value\": \"46\"}}, \"functionName\": \"Image.select\"}], '\n",
      "               '[\"48\", [\"B1\"]], [\"49\", {\"type\": \"Invocation\", \"arguments\": '\n",
      "               '{\"input\": {\"type\": \"ValueRef\", \"value\": \"47\"}, '\n",
      "               '\"bandSelectors\": {\"type\": \"ValueRef\", \"value\": \"48\"}}, '\n",
      "               '\"functionName\": \"Image.select\"}], [\"50\", {\"type\": '\n",
      "               '\"Invocation\", \"arguments\": {\"input\": {\"type\": \"ValueRef\", '\n",
      "               '\"value\": \"49\"}, \"low\": 3.0, \"high\": 926.5338983050848}, '\n",
      "               '\"functionName\": \"Image.clamp\"}], [\"51\", {\"type\": \"Invocation\", '\n",
      "               '\"arguments\": {\"value\": 3.0}, \"functionName\": '\n",
      "               '\"Image.constant\"}], [\"52\", {\"type\": \"Invocation\", \"arguments\": '\n",
      "               '{\"image1\": {\"type\": \"ValueRef\", \"value\": \"50\"}, \"image2\": '\n",
      "               '{\"type\": \"ValueRef\", \"value\": \"51\"}}, \"functionName\": '\n",
      "               '\"Image.subtract\"}], [\"53\", {\"type\": \"Invocation\", \"arguments\": '\n",
      "               '{\"value\": 923.5338983050848}, \"functionName\": '\n",
      "               '\"Image.constant\"}], [\"54\", {\"type\": \"Invocation\", \"arguments\": '\n",
      "               '{\"image1\": {\"type\": \"ValueRef\", \"value\": \"52\"}, \"image2\": '\n",
      "               '{\"type\": \"ValueRef\", \"value\": \"53\"}}, \"functionName\": '\n",
      "               '\"Image.divide\"}], [\"55\", [\"B2\"]], [\"56\", {\"type\": '\n",
      "               '\"Invocation\", \"arguments\": {\"input\": {\"type\": \"ValueRef\", '\n",
      "               '\"value\": \"47\"}, \"bandSelectors\": {\"type\": \"ValueRef\", \"value\": '\n",
      "               '\"55\"}}, \"functionName\": \"Image.select\"}], [\"57\", {\"type\": '\n",
      "               '\"Invocation\", \"arguments\": {\"input\": {\"type\": \"ValueRef\", '\n",
      "               '\"value\": \"56\"}, \"low\": 27.0, \"high\": 2589.553459119497}, '\n",
      "               '\"functionName\": \"Image.clamp\"}], [\"58\", {\"type\": \"Invocation\", '\n",
      "               '\"arguments\": {\"value\": 27.0}, \"functionName\": '\n",
      "               '\"Image.constant\"}], [\"59\", {\"type\": \"Invocation\", \"arguments\": '\n",
      "               '{\"image1\": {\"type\": \"ValueRef\", \"value\": \"57\"}, \"image2\": '\n",
      "               '{\"type\": \"ValueRef\", \"value\": \"58\"}}, \"functionName\": '\n",
      "               '\"Image.subtract\"}], [\"60\", {\"type\": \"Invocation\", \"arguments\": '\n",
      "               '{\"value\": 2562.553459119497}, \"functionName\": '\n",
      "               '\"Image.constant\"}], [\"61\", {\"type\": \"Invocation\", \"arguments\": '\n",
      "               '{\"image1\": {\"type\": \"ValueRef\", \"value\": \"59\"}, \"image2\": '\n",
      "               '{\"type\": \"ValueRef\", \"value\": \"60\"}}, \"functionName\": '\n",
      "               '\"Image.divide\"}], [\"62\", {\"type\": \"Invocation\", \"arguments\": '\n",
      "               '{\"dstImg\": {\"type\": \"ValueRef\", \"value\": \"54\"}, \"srcImg\": '\n",
      "               '{\"type\": \"ValueRef\", \"value\": \"61\"}}, \"functionName\": '\n",
      "               '\"Image.addBands\"}], [\"63\", [\"B3\"]], [\"64\", {\"type\": '\n",
      "               '\"Invocation\", \"arguments\": {\"input\": {\"type\": \"ValueRef\", '\n",
      "               '\"value\": \"47\"}, \"bandSelectors\": {\"type\": \"ValueRef\", \"value\": '\n",
      "               '\"63\"}}, \"functionName\": \"Image.select\"}], [\"65\", {\"type\": '\n",
      "               '\"Invocation\", \"arguments\": {\"input\": {\"type\": \"ValueRef\", '\n",
      "               '\"value\": \"64\"}, \"low\": 27.0, \"high\": 2593.205521472393}, '\n",
      "               '\"functionName\": \"Image.clamp\"}], [\"66\", {\"type\": \"Invocation\", '\n",
      "               '\"arguments\": {\"image1\": {\"type\": \"ValueRef\", \"value\": \"65\"}, '\n",
      "               '\"image2\": {\"type\": \"ValueRef\", \"value\": \"58\"}}, '\n",
      "               '\"functionName\": \"Image.subtract\"}], [\"67\", {\"type\": '\n",
      "               '\"Invocation\", \"arguments\": {\"value\": 2566.205521472393}, '\n",
      "               '\"functionName\": \"Image.constant\"}], [\"68\", {\"type\": '\n",
      "               '\"Invocation\", \"arguments\": {\"image1\": {\"type\": \"ValueRef\", '\n",
      "               '\"value\": \"66\"}, \"image2\": {\"type\": \"ValueRef\", \"value\": '\n",
      "               '\"67\"}}, \"functionName\": \"Image.divide\"}], [\"69\", {\"type\": '\n",
      "               '\"Invocation\", \"arguments\": {\"dstImg\": {\"type\": \"ValueRef\", '\n",
      "               '\"value\": \"62\"}, \"srcImg\": {\"type\": \"ValueRef\", \"value\": '\n",
      "               '\"68\"}}, \"functionName\": \"Image.addBands\"}], [\"70\", [\"B4\"]], '\n",
      "               '[\"71\", {\"type\": \"Invocation\", \"arguments\": {\"input\": {\"type\": '\n",
      "               '\"ValueRef\", \"value\": \"47\"}, \"bandSelectors\": {\"type\": '\n",
      "               '\"ValueRef\", \"value\": \"70\"}}, \"functionName\": \"Image.select\"}], '\n",
      "               '[\"72\", {\"type\": \"Invocation\", \"arguments\": {\"input\": {\"type\": '\n",
      "               '\"ValueRef\", \"value\": \"71\"}, \"low\": 1.0, \"high\": '\n",
      "               '2400.3230769230768}, \"functionName\": \"Image.clamp\"}], [\"73\", '\n",
      "               '{\"type\": \"Invocation\", \"arguments\": {\"value\": 1.0}, '\n",
      "               '\"functionName\": \"Image.constant\"}], [\"74\", {\"type\": '\n",
      "               '\"Invocation\", \"arguments\": {\"image1\": {\"type\": \"ValueRef\", '\n",
      "               '\"value\": \"72\"}, \"image2\": {\"type\": \"ValueRef\", \"value\": '\n",
      "               '\"73\"}}, \"functionName\": \"Image.subtract\"}], [\"75\", {\"type\": '\n",
      "               '\"Invocation\", \"arguments\": {\"value\": 2399.3230769230768}, '\n",
      "               '\"functionName\": \"Image.constant\"}], [\"76\", {\"type\": '\n",
      "               '\"Invocation\", \"arguments\": {\"image1\": {\"type\": \"ValueRef\", '\n",
      "               '\"value\": \"74\"}, \"image2\": {\"type\": \"ValueRef\", \"value\": '\n",
      "               '\"75\"}}, \"functionName\": \"Image.divide\"}], [\"77\", {\"type\": '\n",
      "               '\"Invocation\", \"arguments\": {\"dstImg\": {\"type\": \"ValueRef\", '\n",
      "               '\"value\": \"69\"}, \"srcImg\": {\"type\": \"ValueRef\", \"value\": '\n",
      "               '\"76\"}}, \"functionName\": \"Image.addBands\"}], [\"78\", [\"B5\"]], '\n",
      "               '[\"79\", {\"type\": \"Invocation\", \"arguments\": {\"input\": {\"type\": '\n",
      "               '\"ValueRef\", \"value\": \"47\"}, \"bandSelectors\": {\"type\": '\n",
      "               '\"ValueRef\", \"value\": \"78\"}}, \"functionName\": \"Image.select\"}], '\n",
      "               '[\"80\", {\"type\": \"Invocation\", \"arguments\": {\"input\": {\"type\": '\n",
      "               '\"ValueRef\", \"value\": \"79\"}, \"low\": 1.0, \"high\": 9549.0}, '\n",
      "               '\"functionName\": \"Image.clamp\"}], [\"81\", {\"type\": \"Invocation\", '\n",
      "               '\"arguments\": {\"image1\": {\"type\": \"ValueRef\", \"value\": \"80\"}, '\n",
      "               '\"image2\": {\"type\": \"ValueRef\", \"value\": \"73\"}}, '\n",
      "               '\"functionName\": \"Image.subtract\"}], [\"82\", {\"type\": '\n",
      "               '\"Invocation\", \"arguments\": {\"value\": 9548.0}, \"functionName\": '\n",
      "               '\"Image.constant\"}], [\"83\", {\"type\": \"Invocation\", \"arguments\": '\n",
      "               '{\"image1\": {\"type\": \"ValueRef\", \"value\": \"81\"}, \"image2\": '\n",
      "               '{\"type\": \"ValueRef\", \"value\": \"82\"}}, \"functionName\": '\n",
      "               '\"Image.divide\"}], [\"84\", {\"type\": \"Invocation\", \"arguments\": '\n",
      "               '{\"dstImg\": {\"type\": \"ValueRef\", \"value\": \"77\"}, \"srcImg\": '\n",
      "               '{\"type\": \"ValueRef\", \"value\": \"83\"}}, \"functionName\": '\n",
      "               '\"Image.addBands\"}], [\"85\", [\"B6\"]], [\"86\", {\"type\": '\n",
      "               '\"Invocation\", \"arguments\": {\"input\": {\"type\": \"ValueRef\", '\n",
      "               '\"value\": \"47\"}, \"bandSelectors\": {\"type\": \"ValueRef\", \"value\": '\n",
      "               '\"85\"}}, \"functionName\": \"Image.select\"}], [\"87\", {\"type\": '\n",
      "               '\"Invocation\", \"arguments\": {\"input\": {\"type\": \"ValueRef\", '\n",
      "               '\"value\": \"86\"}, \"low\": 2.0, \"high\": 7506.0}, \"functionName\": '\n",
      "               '\"Image.clamp\"}], [\"88\", {\"type\": \"Invocation\", \"arguments\": '\n",
      "               '{\"value\": 2.0}, \"functionName\": \"Image.constant\"}], [\"89\", '\n",
      "               '{\"type\": \"Invocation\", \"arguments\": {\"image1\": {\"type\": '\n",
      "               '\"ValueRef\", \"value\": \"87\"}, \"image2\": {\"type\": \"ValueRef\", '\n",
      "               '\"value\": \"88\"}}, \"functionName\": \"Image.subtract\"}], [\"90\", '\n",
      "               '{\"type\": \"Invocation\", \"arguments\": {\"value\": 7504.0}, '\n",
      "               '\"functionName\": \"Image.constant\"}], [\"91\", {\"type\": '\n",
      "               '\"Invocation\", \"arguments\": {\"image1\": {\"type\": \"ValueRef\", '\n",
      "               '\"value\": \"89\"}, \"image2\": {\"type\": \"ValueRef\", \"value\": '\n",
      "               '\"90\"}}, \"functionName\": \"Image.divide\"}], [\"92\", {\"type\": '\n",
      "               '\"Invocation\", \"arguments\": {\"dstImg\": {\"type\": \"ValueRef\", '\n",
      "               '\"value\": \"84\"}, \"srcImg\": {\"type\": \"ValueRef\", \"value\": '\n",
      "               '\"91\"}}, \"functionName\": \"Image.addBands\"}], [\"93\", [\"B7\"]], '\n",
      "               '[\"94\", {\"type\": \"Invocation\", \"arguments\": {\"input\": {\"type\": '\n",
      "               '\"ValueRef\", \"value\": \"47\"}, \"bandSelectors\": {\"type\": '\n",
      "               '\"ValueRef\", \"value\": \"93\"}}, \"functionName\": \"Image.select\"}], '\n",
      "               '[\"95\", {\"type\": \"Invocation\", \"arguments\": {\"input\": {\"type\": '\n",
      "               '\"ValueRef\", \"value\": \"94\"}, \"low\": 1.0, \"high\": 6017.0}, '\n",
      "               '\"functionName\": \"Image.clamp\"}], [\"96\", {\"type\": \"Invocation\", '\n",
      "               '\"arguments\": {\"image1\": {\"type\": \"ValueRef\", \"value\": \"95\"}, '\n",
      "               '\"image2\": {\"type\": \"ValueRef\", \"value\": \"73\"}}, '\n",
      "               '\"functionName\": \"Image.subtract\"}], [\"97\", {\"type\": '\n",
      "               '\"Invocation\", \"arguments\": {\"value\": 6016.0}, \"functionName\": '\n",
      "               '\"Image.constant\"}], [\"98\", {\"type\": \"Invocation\", \"arguments\": '\n",
      "               '{\"image1\": {\"type\": \"ValueRef\", \"value\": \"96\"}, \"image2\": '\n",
      "               '{\"type\": \"ValueRef\", \"value\": \"97\"}}, \"functionName\": '\n",
      "               '\"Image.divide\"}], [\"99\", {\"type\": \"Invocation\", \"arguments\": '\n",
      "               '{\"dstImg\": {\"type\": \"ValueRef\", \"value\": \"92\"}, \"srcImg\": '\n",
      "               '{\"type\": \"ValueRef\", \"value\": \"98\"}}, \"functionName\": '\n",
      "               '\"Image.addBands\"}], [\"100\", [\"B10\"]], [\"101\", {\"type\": '\n",
      "               '\"Invocation\", \"arguments\": {\"input\": {\"type\": \"ValueRef\", '\n",
      "               '\"value\": \"47\"}, \"bandSelectors\": {\"type\": \"ValueRef\", \"value\": '\n",
      "               '\"100\"}}, \"functionName\": \"Image.select\"}], [\"102\", {\"type\": '\n",
      "               '\"Invocation\", \"arguments\": {\"input\": {\"type\": \"ValueRef\", '\n",
      "               '\"value\": \"101\"}, \"low\": 2509.0, \"high\": 2995.0}, '\n",
      "               '\"functionName\": \"Image.clamp\"}], [\"103\", {\"type\": '\n",
      "               '\"Invocation\", \"arguments\": {\"value\": 2509.0}, \"functionName\": '\n",
      "               '\"Image.constant\"}], [\"104\", {\"type\": \"Invocation\", '\n",
      "               '\"arguments\": {\"image1\": {\"type\": \"ValueRef\", \"value\": \"102\"}, '\n",
      "               '\"image2\": {\"type\": \"ValueRef\", \"value\": \"103\"}}, '\n",
      "               '\"functionName\": \"Image.subtract\"}], [\"105\", {\"type\": '\n",
      "               '\"Invocation\", \"arguments\": {\"value\": 486.0}, \"functionName\": '\n",
      "               '\"Image.constant\"}], [\"106\", {\"type\": \"Invocation\", '\n",
      "               '\"arguments\": {\"image1\": {\"type\": \"ValueRef\", \"value\": \"104\"}, '\n",
      "               '\"image2\": {\"type\": \"ValueRef\", \"value\": \"105\"}}, '\n",
      "               '\"functionName\": \"Image.divide\"}], [\"107\", {\"type\": '\n",
      "               '\"Invocation\", \"arguments\": {\"dstImg\": {\"type\": \"ValueRef\", '\n",
      "               '\"value\": \"99\"}, \"srcImg\": {\"type\": \"ValueRef\", \"value\": '\n",
      "               '\"106\"}}, \"functionName\": \"Image.addBands\"}], [\"108\", [\"B11\"]], '\n",
      "               '[\"109\", {\"type\": \"Invocation\", \"arguments\": {\"input\": {\"type\": '\n",
      "               '\"ValueRef\", \"value\": \"47\"}, \"bandSelectors\": {\"type\": '\n",
      "               '\"ValueRef\", \"value\": \"108\"}}, \"functionName\": '\n",
      "               '\"Image.select\"}], [\"110\", {\"type\": \"Invocation\", \"arguments\": '\n",
      "               '{\"input\": {\"type\": \"ValueRef\", \"value\": \"109\"}, \"low\": 2514.5, '\n",
      "               '\"high\": 2978.0}, \"functionName\": \"Image.clamp\"}], [\"111\", '\n",
      "               '{\"type\": \"Invocation\", \"arguments\": {\"value\": 2514.5}, '\n",
      "               '\"functionName\": \"Image.constant\"}], [\"112\", {\"type\": '\n",
      "               '\"Invocation\", \"arguments\": {\"image1\": {\"type\": \"ValueRef\", '\n",
      "               '\"value\": \"110\"}, \"image2\": {\"type\": \"ValueRef\", \"value\": '\n",
      "               '\"111\"}}, \"functionName\": \"Image.subtract\"}], [\"113\", {\"type\": '\n",
      "               '\"Invocation\", \"arguments\": {\"value\": 463.5}, \"functionName\": '\n",
      "               '\"Image.constant\"}], [\"114\", {\"type\": \"Invocation\", '\n",
      "               '\"arguments\": {\"image1\": {\"type\": \"ValueRef\", \"value\": \"112\"}, '\n",
      "               '\"image2\": {\"type\": \"ValueRef\", \"value\": \"113\"}}, '\n",
      "               '\"functionName\": \"Image.divide\"}], [\"115\", {\"type\": '\n",
      "               '\"Invocation\", \"arguments\": {\"dstImg\": {\"type\": \"ValueRef\", '\n",
      "               '\"value\": \"107\"}, \"srcImg\": {\"type\": \"ValueRef\", \"value\": '\n",
      "               '\"114\"}}, \"functionName\": \"Image.addBands\"}], [\"116\", {\"type\": '\n",
      "               '\"Invocation\", \"arguments\": {\"input\": {\"type\": \"ValueRef\", '\n",
      "               '\"value\": \"115\"}, \"bandSelectors\": {\"type\": \"ValueRef\", '\n",
      "               '\"value\": \"34\"}}, \"functionName\": \"Image.select\"}], [\"117\", '\n",
      "               '{\"type\": \"Invocation\", \"arguments\": {\"value\": {\"type\": '\n",
      "               '\"ValueRef\", \"value\": \"116\"}}, \"functionName\": \"Image.float\"}], '\n",
      "               '[\"118\", {\"type\": \"Invocation\", \"arguments\": {\"image\": {\"type\": '\n",
      "               '\"ValueRef\", \"value\": \"117\"}}, \"functionName\": '\n",
      "               '\"Image.toArray\"}], [\"119\", {\"type\": \"Invocation\", \"arguments\": '\n",
      "               '{\"model\": {\"type\": \"ValueRef\", \"value\": \"9\"}, \"image\": '\n",
      "               '{\"type\": \"ValueRef\", \"value\": \"118\"}}, \"functionName\": '\n",
      "               '\"Model.predictImage\"}], [\"120\", [\"cropland\", \"land\", \"water\", '\n",
      "               '\"urban\"]], [\"121\", [{\"type\": \"ValueRef\", \"value\": \"120\"}]], '\n",
      "               '[\"122\", {\"type\": \"Invocation\", \"arguments\": {\"image\": {\"type\": '\n",
      "               '\"ValueRef\", \"value\": \"119\"}, \"coordinateLabels\": {\"type\": '\n",
      "               '\"ValueRef\", \"value\": \"121\"}}, \"functionName\": '\n",
      "               '\"Image.arrayFlatten\"}], [\"123\", {\"type\": \"Polygon\", '\n",
      "               '\"coordinates\": [[[-119.38430786132811, 46.07370697571126], '\n",
      "               '[-118.89129638671875, 46.07370697571126], '\n",
      "               '[-118.89129638671875, 46.37772792457245], '\n",
      "               '[-119.38430786132811, 46.37772792457245], '\n",
      "               '[-119.38430786132811, 46.07370697571126]]], \"evenOdd\": true}], '\n",
      "               '[\"124\", {\"type\": \"Invocation\", \"arguments\": {\"input\": {\"type\": '\n",
      "               '\"ValueRef\", \"value\": \"122\"}, \"geometry\": {\"type\": \"ValueRef\", '\n",
      "               '\"value\": \"123\"}}, \"functionName\": \"Image.clip\"}]], \"value\": '\n",
      "               '{\"type\": \"ValueRef\", \"value\": \"124\"}}',\n",
      " \"tile_url_['B1']\": 'https://earthengine.googleapis.com/map/9e2c7a50a2ce9d25e632f9f8ea1cd5a9/{z}/{x}/{y}?token=74ea46f774a9d8ed00a70a43e1d9fb5b',\n",
      " \"tile_url_['B4', 'B3', 'B2']\": 'https://earthengine.googleapis.com/map/3ff2c02a2d84775c8af1df54d14b44dd/{z}/{x}/{y}?token=b249a9f3abe797f4d87f7d7830cf4874',\n",
      " \"tile_url_['B5']\": 'https://earthengine.googleapis.com/map/e22c9ad8bbada87628f46adffdc0a42c/{z}/{x}/{y}?token=acf7899a643bf090fc097681a03edd96',\n",
      " \"tile_url_['B6']\": 'https://earthengine.googleapis.com/map/13df63bc4da6a8c2734a2773c732d511/{z}/{x}/{y}?token=610226bcd08f9f44d76b44f9f91a18c5',\n",
      " \"tile_url_['B7']\": 'https://earthengine.googleapis.com/map/673129ffe7b7835df5b3f861c7d69ef4/{z}/{x}/{y}?token=2714b04d2b8a6f318d2e678c871fe744',\n",
      " \"tile_url_['cropland']\": 'https://earthengine.googleapis.com/map/df977a98b806a2cbbc3325b12df696e7/{z}/{x}/{y}?token=8390d7c57520a4a41fcc766b46f41646',\n",
      " \"tile_url_['land']\": 'https://earthengine.googleapis.com/map/9d140f41eb205ec7a646d4daabf35985/{z}/{x}/{y}?token=42d0d4e1a87fbbb69c88d8f20cbc02a6',\n",
      " \"tile_url_['urban']\": 'https://earthengine.googleapis.com/map/be3a8887bc0df620ef7591550aab87ef/{z}/{x}/{y}?token=7649e3f71e3c952d25875341e4442da4',\n",
      " \"tile_url_['water']\": 'https://earthengine.googleapis.com/map/5198897b703e2d6c3bc5525d7e5e2f1d/{z}/{x}/{y}?token=b87223391f0f6515af9e34a8abc089fb'}\n"
     ]
    }
   ],
   "source": [
    "url = f'https://us-central1-skydipper-196010.cloudfunctions.net/ee_model_prediction'\n",
    "\n",
    "headers = {'Content-Type': 'application/json'}\n",
    "\n",
    "output = requests.post(url, data=json.dumps(payload), headers=headers)\n",
    "pprint(output.json())"
   ]
  },
  {
   "cell_type": "markdown",
   "metadata": {},
   "source": [
    "**Display input and output images**"
   ]
  },
  {
   "cell_type": "code",
   "execution_count": 27,
   "metadata": {},
   "outputs": [
    {
     "data": {
      "text/html": [
       "<div style=\"width:100%;\"><div style=\"position:relative;width:100%;height:0;padding-bottom:60%;\"><iframe src=\"data:text/html;charset=utf-8;base64,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\" style=\"position:absolute;width:100%;height:100%;left:0;top:0;border:none !important;\" allowfullscreen webkitallowfullscreen mozallowfullscreen></iframe></div></div>"
      ],
      "text/plain": [
       "<folium.folium.Map at 0x1230c02d0>"
      ]
     },
     "execution_count": 27,
     "metadata": {},
     "output_type": "execute_result"
    }
   ],
   "source": [
    "urls = [s for s in list(output.json().keys()) if \"tile_url\" in s]\n",
    "names = [s.strip('tile_url_') for s in urls]\n",
    "\n",
    "map = folium.Map(location=output.json().get('centroid'), zoom_start=12)\n",
    "\n",
    "for n, url in enumerate(urls):\n",
    "    folium.TileLayer(\n",
    "        tiles=output.json().get(url),\n",
    "        attr='Google Earth Engine',\n",
    "        overlay=True,\n",
    "        name=names[n],\n",
    "      ).add_to(map)\n",
    "\n",
    "map.add_child(folium.LayerControl())\n",
    "map"
   ]
  },
  {
   "cell_type": "code",
   "execution_count": null,
   "metadata": {},
   "outputs": [],
   "source": []
  }
 ],
 "metadata": {
  "kernelspec": {
   "display_name": "Python 3",
   "language": "python",
   "name": "python3"
  },
  "language_info": {
   "codemirror_mode": {
    "name": "ipython",
    "version": 3
   },
   "file_extension": ".py",
   "mimetype": "text/x-python",
   "name": "python",
   "nbconvert_exporter": "python",
   "pygments_lexer": "ipython3",
   "version": "3.7.4"
  }
 },
 "nbformat": 4,
 "nbformat_minor": 4
}
